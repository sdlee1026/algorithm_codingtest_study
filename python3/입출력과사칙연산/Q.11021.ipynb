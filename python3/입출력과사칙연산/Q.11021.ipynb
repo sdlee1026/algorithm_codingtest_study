{
 "cells": [
  {
   "cell_type": "code",
   "execution_count": 57,
   "metadata": {},
   "outputs": [
    {
     "name": "stdout",
     "output_type": "stream",
     "text": [
      "5\n",
      "1231 121\n",
      "input Value Range Error, Try again ... (0 < A, B < 10)\n",
      "-10 -22\n",
      "input Value Range Error, Try again ... (0 < A, B < 10)\n",
      "1 2\n",
      "2 3\n",
      "4 5\n",
      "6 7\n",
      "8 9\n",
      "Case #1: 3\n",
      "Case #2: 5\n",
      "Case #3: 9\n",
      "Case #4: 13\n",
      "Case #5: 17\n",
      "\n"
     ]
    }
   ],
   "source": [
    "#print('테스트케이스 입력')\n",
    "testCase = int(input())\n",
    "count = 0\n",
    "answer_string = ''\n",
    "while testCase>count:\n",
    "    while True:\n",
    "        try:\n",
    "            A, B = input().split()\n",
    "            break\n",
    "        except ValueError:\n",
    "            print(\"input two number,  Try again...\")\n",
    "    A = int(A)\n",
    "    B = int(B)\n",
    "    if A <= 0 or B >= 10 :\n",
    "        try:\n",
    "            raise ValueError('input Value Range!')\n",
    "        except ValueError:\n",
    "            print('input Value Range Error, Try again ... (0 < A, B < 10)')\n",
    "    else:\n",
    "        count+=1\n",
    "        answer_string += 'Case #{}: {}\\n'.format(count, A+B)\n",
    "print(answer_string)\n",
    "        \n",
    "    "
   ]
  },
  {
   "cell_type": "code",
   "execution_count": null,
   "metadata": {},
   "outputs": [],
   "source": []
  }
 ],
 "metadata": {
  "kernelspec": {
   "display_name": "Python 3",
   "language": "python",
   "name": "python3"
  },
  "language_info": {
   "codemirror_mode": {
    "name": "ipython",
    "version": 3
   },
   "file_extension": ".py",
   "mimetype": "text/x-python",
   "name": "python",
   "nbconvert_exporter": "python",
   "pygments_lexer": "ipython3",
   "version": "3.7.6"
  }
 },
 "nbformat": 4,
 "nbformat_minor": 2
}
