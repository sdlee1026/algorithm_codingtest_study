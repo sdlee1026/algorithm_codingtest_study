{
 "cells": [
  {
   "cell_type": "code",
   "execution_count": 257,
   "metadata": {},
   "outputs": [],
   "source": [
    "# Q.9095"
   ]
  },
  {
   "cell_type": "code",
   "execution_count": 262,
   "metadata": {},
   "outputs": [
    {
     "name": "stdout",
     "output_type": "stream",
     "text": [
      "3\n",
      "4\n",
      "7\n",
      "7\n",
      "44\n",
      "10\n",
      "274\n"
     ]
    }
   ],
   "source": [
    "for _ in range(int(input())):\n",
    "    n = int(input())\n",
    "    l = [0 for _ in range(n)]\n",
    "    l[1:3] = 1,2,4\n",
    "    for i in range(4, n+1):\n",
    "        l[i] = l[i-1] + l[i-2] + l[i-3]\n",
    "    print(l[n])\n",
    "\n"
   ]
  },
  {
   "cell_type": "code",
   "execution_count": 261,
   "metadata": {},
   "outputs": [],
   "source": [
    "# 1 -> 1\n",
    "# 2 -> 1+1, 2\n",
    "# 3 -> 1+1+1, 1+2\n",
    "# 4 -> 1+3, 2+2, 3+1 ~\n",
    "#     ..+(3만드는 경우), ..+(2만드는 경우), ..+(1만드는 경우)\n",
    "# 5 -> 1+4, 2+3, 3+2 ~\n",
    "#     ..+(4만드는 경우), ..+(3만드는 경우), ..+(2만드는 경우)"
   ]
  },
  {
   "cell_type": "code",
   "execution_count": null,
   "metadata": {},
   "outputs": [],
   "source": []
  }
 ],
 "metadata": {
  "kernelspec": {
   "display_name": "Python 3",
   "language": "python",
   "name": "python3"
  },
  "language_info": {
   "codemirror_mode": {
    "name": "ipython",
    "version": 3
   },
   "file_extension": ".py",
   "mimetype": "text/x-python",
   "name": "python",
   "nbconvert_exporter": "python",
   "pygments_lexer": "ipython3",
   "version": "3.7.6"
  }
 },
 "nbformat": 4,
 "nbformat_minor": 2
}
