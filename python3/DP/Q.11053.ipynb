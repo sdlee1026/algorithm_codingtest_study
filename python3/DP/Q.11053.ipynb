{
 "cells": [
  {
   "cell_type": "markdown",
   "metadata": {},
   "source": [
    "## 문제\n",
    "\n",
    "https://www.acmicpc.net/problem/11053\n",
    "\n",
    "## 접근법\n",
    "\n",
    "수열이 주어지고, 가장 긴 증가하는 부분 수열을 구하는 프로그램이다.\n",
    "\n",
    "ex) A = {10, 20, 10, 30, 20, 50} 일때, \n",
    "\n",
    "**10**, **20**, 10, **30**, 20, **50**\n",
    "\n",
    "10 20 30 50 증가하는 부분 수열을 관찰 할 수 있으며, 이 길이는 4이다.\n",
    "\n",
    "for문을 돌며, i번째 까지의 수열중 가장 긴 부분 수열을 찾는다.\n",
    "    - 첫번째 인덱스부터 수열의 길이의 최대값을 저장해나감\n",
    "\n",
    "언제 i번째 숫자가 증가하는 수열에 포함시키는가?(갱신)\n",
    "    - i번째 숫자는 항상 i-1번째 숫자보다 커야함(포함조건)\n",
    "    - 자기 자신보다 작은 숫자들 중 가장 큰 길이를 구하고, 그 길이에 +1을 해서 갱신 (동작) \n",
    "    \n",
    "\n",
    "\n",
    "## 코드\n",
    "```\n",
    "import sys\n",
    "input = sys.stdin.readline\n",
    "\n",
    "N = int(input())\n",
    "a = list(map(int, input().split()))\n",
    "dp = [0 for i in range(N)]\n",
    "\n",
    "for i in range(0, N): # 0부터 N번까지 _ i\n",
    "    min_value = 0\n",
    "    for j in range(i):\n",
    "        # 현재 인덱스의 수가 더 큰 경우는 작은 경우의 수에다 +1\n",
    "        if a[i] > a[j]:\n",
    "            min_value = max(min_value, dp[j])\n",
    "    dp[i] = min_value+1\n",
    "    \n",
    "print(max(dp))\n",
    "\n",
    "```\n"
   ]
  },
  {
   "cell_type": "code",
   "execution_count": 13,
   "metadata": {},
   "outputs": [
    {
     "name": "stdout",
     "output_type": "stream",
     "text": [
      "6\n",
      "10 20 10 30 20 50\n",
      "4\n"
     ]
    }
   ],
   "source": [
    "N = int(input())\n",
    "a = list(map(int, input().split()))\n",
    "\n",
    "dp = [0 for i in range(N)]\n",
    "for i in range(0, N):\n",
    "    min_value = 0\n",
    "    for j in range(i):\n",
    "        if a[i] > a[j]:\n",
    "            min_value = max(min_value, dp[j])\n",
    "    dp[i] = min_value+1\n",
    "    \n",
    "print(max(dp))"
   ]
  },
  {
   "cell_type": "code",
   "execution_count": null,
   "metadata": {},
   "outputs": [],
   "source": []
  }
 ],
 "metadata": {
  "kernelspec": {
   "display_name": "Python 3",
   "language": "python",
   "name": "python3"
  },
  "language_info": {
   "codemirror_mode": {
    "name": "ipython",
    "version": 3
   },
   "file_extension": ".py",
   "mimetype": "text/x-python",
   "name": "python",
   "nbconvert_exporter": "python",
   "pygments_lexer": "ipython3",
   "version": "3.7.6"
  }
 },
 "nbformat": 4,
 "nbformat_minor": 2
}
