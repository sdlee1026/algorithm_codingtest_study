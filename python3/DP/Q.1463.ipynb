{
 "cells": [
  {
   "cell_type": "code",
   "execution_count": 93,
   "metadata": {},
   "outputs": [],
   "source": [
    "# Q.1463"
   ]
  },
  {
   "cell_type": "code",
   "execution_count": 2,
   "metadata": {},
   "outputs": [],
   "source": [
    "def cal(temp):\n",
    "    list = []\n",
    "    for num in temp:\n",
    "        list.append(num-1)\n",
    "        if num%3 == 0:\n",
    "            list.append(num//3)\n",
    "        if num%2 == 0:\n",
    "            list.append(num//2)\n",
    "    return list"
   ]
  },
  {
   "cell_type": "code",
   "execution_count": 3,
   "metadata": {},
   "outputs": [
    {
     "name": "stdout",
     "output_type": "stream",
     "text": [
      "10\n",
      "3\n"
     ]
    }
   ],
   "source": [
    "N = int(input())\n",
    "count = 0\n",
    "minimum=[N]\n",
    "\n",
    "while True:\n",
    "    if N == 1:\n",
    "        print(count)\n",
    "        break\n",
    "    temp = minimum\n",
    "    minimum = cal(temp)\n",
    "    count +=1\n",
    "    if min(minimum) == 1:\n",
    "        print(count)\n",
    "        break"
   ]
  },
  {
   "cell_type": "code",
   "execution_count": 4,
   "metadata": {},
   "outputs": [
    {
     "name": "stdout",
     "output_type": "stream",
     "text": [
      "10\n",
      "3\n"
     ]
    }
   ],
   "source": [
    "N = int(input())\n",
    "count = 0\n",
    "minimum=[N]\n",
    "\n",
    "def cal(temp):\n",
    "    list = []\n",
    "    for num in temp:\n",
    "        list.append(num-1)\n",
    "        if num%3 == 0:\n",
    "            list.append(num//3)\n",
    "        if num%2 == 0:\n",
    "            list.append(num//2)\n",
    "    list = set(list)\n",
    "    return list\n",
    "\n",
    "while True:\n",
    "    if N == 1 or min(minimum)==1:\n",
    "        print(count)\n",
    "        break\n",
    "    minimum = cal(minimum)\n",
    "    count +=1"
   ]
  },
  {
   "cell_type": "code",
   "execution_count": 5,
   "metadata": {},
   "outputs": [
    {
     "name": "stdout",
     "output_type": "stream",
     "text": [
      "10\n",
      "3\n"
     ]
    }
   ],
   "source": [
    "N = int(input())\n",
    "\n",
    "result = [0 for _ in range(N + 1)]\n",
    "# f(x)는 다음 점화식 중 하나에서 최솟값을 가짐\n",
    "    # f(x) = f(x-1) + 1\n",
    "        # -1을 뺴준다\n",
    "    # f(x/2) + 1\n",
    "        # 2로 나누어 준다\n",
    "    # f(x/3) + 1\n",
    "        # 3으로 나누어 준다\n",
    "\n",
    "for i in range(1, N + 1):\n",
    "    if i == 1:\n",
    "        result[i] = 0\n",
    "        continue\n",
    "    result[i] = result[i-1] + 1\n",
    "        # f(x) = f(x-1) + 1\n",
    "    if i % 3 == 0 and result[i//3] + 1 < result[i]:\n",
    "        result[i] = result[i//3] + 1\n",
    "    if i % 2 == 0 and result[i//2] + 1< result[i]:\n",
    "        result[i] = result[i//2] + 1\n",
    "        \n",
    "print(result[N])"
   ]
  },
  {
   "cell_type": "code",
   "execution_count": 6,
   "metadata": {},
   "outputs": [
    {
     "data": {
      "text/plain": [
       "[0, 0, 1, 1, 2, 3, 2, 3, 3, 2, 3]"
      ]
     },
     "execution_count": 6,
     "metadata": {},
     "output_type": "execute_result"
    }
   ],
   "source": [
    "result"
   ]
  },
  {
   "cell_type": "code",
   "execution_count": null,
   "metadata": {},
   "outputs": [],
   "source": []
  }
 ],
 "metadata": {
  "kernelspec": {
   "display_name": "Python 3",
   "language": "python",
   "name": "python3"
  },
  "language_info": {
   "codemirror_mode": {
    "name": "ipython",
    "version": 3
   },
   "file_extension": ".py",
   "mimetype": "text/x-python",
   "name": "python",
   "nbconvert_exporter": "python",
   "pygments_lexer": "ipython3",
   "version": "3.7.6"
  }
 },
 "nbformat": 4,
 "nbformat_minor": 2
}
