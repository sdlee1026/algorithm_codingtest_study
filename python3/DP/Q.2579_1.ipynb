{
 "cells": [
  {
   "cell_type": "code",
   "execution_count": null,
   "metadata": {},
   "outputs": [],
   "source": [
    "# Q.2579\n"
   ]
  },
  {
   "cell_type": "code",
   "execution_count": 9,
   "metadata": {},
   "outputs": [
    {
     "name": "stdout",
     "output_type": "stream",
     "text": [
      "6\n",
      "10\n",
      "3\n",
      "2\n",
      "1\n",
      "100\n",
      "100\n",
      "114\n"
     ]
    }
   ],
   "source": [
    "# import sys\n",
    "# input = sys.stdin.readline\n",
    "N = int(input())\n",
    "s = []\n",
    "for _ in range(N):\n",
    "    s.append(int(input()))\n",
    "\n",
    "def upper_four(s_tok):\n",
    "    cal_list = [0,1],[0,2],[0,1]\n",
    "    cal_list[0][0] += s_tok[0]+s_tok[1]+s_tok[3]\n",
    "    cal_list[1][0] += s_tok[0]+s_tok[2]+s_tok[3]\n",
    "    cal_list[2][0] += s_tok[1]+s_tok[3]\n",
    "    \n",
    "    return cal_list\n",
    "\n",
    "four_token = len(s)//4\n",
    "tok = 0\n",
    "tok_list = [[] for _ in range(four_token+1)]\n",
    "    \n",
    "while tok <four_token:\n",
    "    tok_list[tok] = s[tok*4:(tok+1)*4]\n",
    "    tok+=1\n",
    "tok_list[tok] = s[tok*4:]\n",
    "\n",
    "first = [0,1],[0,2],[0,1]\n",
    "for check in tok_list:\n",
    "    if len(check) ==4:\n",
    "        second = upper_four(check)\n",
    "        for i in second:\n",
    "            if i[1] ==1:\n",
    "                i[0] = max(first[0][0]+i[0], first[1][0]+i[0],\n",
    "                           first[2][0]+i[0])\n",
    "            elif i[1] ==2:\n",
    "                i[0] = max(first[1][0]+i[0], first[2][0]+i[0])\n",
    "        first = second\n",
    "    else:\n",
    "        result1, result2 = [0], [0]\n",
    "        if len(check) == 0: # 나머지 블록 0개\n",
    "            break\n",
    "        if four_token != 0: # 앞에 4개 블록이 하나라도 존재\n",
    "            for i in first:\n",
    "                if i[1] == 1:\n",
    "                    if len(check) ==1: result1.append(i[0]+check[0])\n",
    "                    elif len(check) ==2: \n",
    "                        result1.append(i[0]+check[1])\n",
    "                    else:\n",
    "                        result1.append(max(i[0]+check[0]+check[2], i[0]+check[1]+check[2]))\n",
    "                elif i[1]==2:\n",
    "                    if len(check) ==1: result2.append(-1)\n",
    "                    elif len(check) ==2: result2.append(i[0]+check[1])\n",
    "                    else: result2.append(-1)\n",
    "        else:\n",
    "            # 4개 토큰 블록이 단 하나도 없는 경우\n",
    "            if len(check) == 1: result1.append(check[0])\n",
    "            elif len(check) ==2:result1.append(check[0]+check[1])\n",
    "            elif len(check) ==3:\n",
    "                result1.append(check[0]+check[2])\n",
    "                result2.append(check[1]+check[2])\n",
    "if len(check)==0: answer = max(first,key=lambda x:x[0])[0]\n",
    "else: answer = max(max(result1),max(result2))\n",
    "    #answer = max(max_list)\n",
    "print(answer)"
   ]
  },
  {
   "cell_type": "code",
   "execution_count": 31,
   "metadata": {},
   "outputs": [
    {
     "name": "stdout",
     "output_type": "stream",
     "text": [
      "3\n",
      "1\n",
      "2\n",
      "3\n",
      "5\n"
     ]
    }
   ],
   "source": [
    "stair_count = int(input())\n",
    "stair_scores_list = list()\n",
    "stair_scores_list.append(0)\n",
    "\n",
    "for i in range(stair_count):\n",
    "    stair_scores_list.append(int(input()))\n",
    "if stair_count >3:\n",
    "    sum_of_score = list()\n",
    "    sum_of_score.append(0)\n",
    "    sum_of_score.append(stair_scores_list[1])\n",
    "    sum_of_score.append(stair_scores_list[1] + stair_scores_list[2])\n",
    "    sum_of_score.append(max(stair_scores_list[3] + stair_scores_list[1], stair_scores_list[3] + stair_scores_list[2]))\n",
    "\n",
    "    for i in range(4, stair_count + 1):\n",
    "        sum_of_score.append(max(stair_scores_list[i] + sum_of_score[i - 2],\n",
    "                                stair_scores_list[i] + stair_scores_list[i - 1] + sum_of_score[i - 3]))\n",
    "\n",
    "    print(sum_of_score[-1])\n",
    "else:\n",
    "    if stair_count==1: print(stair_scores_list[1])\n",
    "    elif stair_count==2: print(stair_scores_list[1]+stair_scores_list[2])\n",
    "    elif stair_count==3: print(max(stair_scores_list[1]+stair_scores_list[3]\n",
    "                                  ,stair_scores_list[2]+stair_scores_list[3]))\n",
    "        "
   ]
  },
  {
   "cell_type": "code",
   "execution_count": 18,
   "metadata": {},
   "outputs": [
    {
     "data": {
      "text/plain": [
       "[0, 1, 2]"
      ]
     },
     "execution_count": 18,
     "metadata": {},
     "output_type": "execute_result"
    }
   ],
   "source": [
    "n=int(input())\n",
    "score=[int (input()) for i in range(n)]\n",
    "mydp=[]\n",
    "if n!=1 and n!=2:\n",
    "    mydp.append(score[0])\n",
    "    mydp.append(score[0]+score[1])\n",
    "    mydp.append(max(score[0]+score[2],score[1]+score[2]))\n",
    "    for i in range(3,n):\n",
    "        mydp.append(max(mydp[i-2]+score[i],mydp[i-3]+ score[i]+score[i-1]))\n",
    "    print(mydp[-1])\n",
    "if n==1:\n",
    "    print(score[0])\n",
    "if n==2:\n",
    "    print(score[0]+score[1])"
   ]
  },
  {
   "cell_type": "code",
   "execution_count": 16,
   "metadata": {},
   "outputs": [
    {
     "data": {
      "text/plain": [
       "[0, 10, 13, 12, 14, 114, 212]"
      ]
     },
     "execution_count": 16,
     "metadata": {},
     "output_type": "execute_result"
    }
   ],
   "source": [
    "sum_of_score"
   ]
  },
  {
   "cell_type": "code",
   "execution_count": 3,
   "metadata": {},
   "outputs": [
    {
     "data": {
      "text/plain": [
       "[0, 114, 104]"
      ]
     },
     "execution_count": 3,
     "metadata": {},
     "output_type": "execute_result"
    }
   ],
   "source": [
    "result1"
   ]
  },
  {
   "cell_type": "code",
   "execution_count": 4,
   "metadata": {},
   "outputs": [
    {
     "data": {
      "text/plain": [
       "[0, 113]"
      ]
     },
     "execution_count": 4,
     "metadata": {},
     "output_type": "execute_result"
    }
   ],
   "source": [
    "result2"
   ]
  },
  {
   "cell_type": "code",
   "execution_count": 13,
   "metadata": {},
   "outputs": [
    {
     "data": {
      "text/plain": [
       "([14, 1], [13, 2], [4, 1])"
      ]
     },
     "execution_count": 13,
     "metadata": {},
     "output_type": "execute_result"
    }
   ],
   "source": [
    "second"
   ]
  },
  {
   "cell_type": "code",
   "execution_count": null,
   "metadata": {},
   "outputs": [],
   "source": [
    "\n",
    "#         secondList = [([i,1],[i,2],[i,1]) for i in check]\n",
    "#         for se in secondList:\n",
    "#             if se[1] ==1:\n",
    "#                 se[0] = max(first[0][0]+se[0], first[1][0]+se[0],\n",
    "#                            first[2][0]+se[0])\n",
    "#             elif se[1] ==2:\n",
    "#                 se[0] = max(first[1][0]+se[0], first[2][0]+se[0])\n",
    "                \n",
    "#         max_list = []\n",
    "#         for se in secondList:\n",
    "#             max_list.append(max(se, key=lambda x:x[0])[0])"
   ]
  }
 ],
 "metadata": {
  "kernelspec": {
   "display_name": "Python 3",
   "language": "python",
   "name": "python3"
  },
  "language_info": {
   "codemirror_mode": {
    "name": "ipython",
    "version": 3
   },
   "file_extension": ".py",
   "mimetype": "text/x-python",
   "name": "python",
   "nbconvert_exporter": "python",
   "pygments_lexer": "ipython3",
   "version": "3.7.6"
  }
 },
 "nbformat": 4,
 "nbformat_minor": 2
}
