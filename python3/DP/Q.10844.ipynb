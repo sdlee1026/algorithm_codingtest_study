{
 "cells": [
  {
   "cell_type": "code",
   "execution_count": 75,
   "metadata": {},
   "outputs": [
    {
     "name": "stdout",
     "output_type": "stream",
     "text": [
      "100\n",
      "18404112\n"
     ]
    }
   ],
   "source": [
    "N = int(input())\n",
    "mil = 1000000000\n",
    "dp = [[0 for _ in range(10)]for _ in range(N+1)]\n",
    "for i in range(1, N+1):\n",
    "    for j in range(10):\n",
    "        if i == 1 : \n",
    "            if j >0 : dp[1][j] = 1\n",
    "            else : dp[1][j] = 0\n",
    "        else:\n",
    "            # 이전자리 계단 수의 갯수를 더해서 갱신\n",
    "            if j > 0: dp[i][j] += dp[i-1][j-1]\n",
    "            if j < 9: dp[i][j] += dp[i-1][j+1]\n",
    "            dp[i][j] %= mil\n",
    "\n",
    "print(sum(dp[N])%mil)"
   ]
  },
  {
   "cell_type": "code",
   "execution_count": null,
   "metadata": {},
   "outputs": [],
   "source": []
  }
 ],
 "metadata": {
  "kernelspec": {
   "display_name": "Python 3",
   "language": "python",
   "name": "python3"
  },
  "language_info": {
   "codemirror_mode": {
    "name": "ipython",
    "version": 3
   },
   "file_extension": ".py",
   "mimetype": "text/x-python",
   "name": "python",
   "nbconvert_exporter": "python",
   "pygments_lexer": "ipython3",
   "version": "3.7.6"
  }
 },
 "nbformat": 4,
 "nbformat_minor": 2
}
