{
 "cells": [
  {
   "cell_type": "code",
   "execution_count": 1,
   "metadata": {},
   "outputs": [],
   "source": [
    "# Q.14501"
   ]
  },
  {
   "cell_type": "markdown",
   "metadata": {},
   "source": [
    "## 문제\n",
    "\n",
    "https://www.acmicpc.net/problem/14501\n",
    "\n",
    "## 접근법\n",
    "\n",
    "주어진 날짜 내에서 최대한의 금액을 구하는 문제이다.\n",
    "\n",
    "- 가격(P[])과 같이 얕은 복사를 받은 DP[]의 끝에 초기값 0 을 추가한 후,\n",
    "\n",
    "- for문을 역순으로 돌렸다.(정순으로 돌려도 풀이는 가능할 것 같다)\n",
    "\n",
    "for문 내부 동작 :\n",
    "\n",
    "    if T[i]+i > N, 주어진 날짜만큼 상담을 진행 하였을 때, 날짜를 초과하는 경우\n",
    "        - DP[i] = DP[i+1], DP[i+1]의 값(가장 끝값)으로 초기화,(가장 처음일 경우 0)\n",
    "    \n",
    "    else, 그 외에 DP[] 갱신 동작\n",
    "        - DP[i] = max(DP[i+1], P[i] + DP[i+T[i]]), DP[i+T[i]] 정해진 날짜만큼(T[i])\n",
    "        \n",
    "| |1일 i = 0|2일 i = 1|3일 i = 2|4일 i = 3|5일 i = 4|6일 i = 5|7일 i = 6| |\n",
    "|------|---|---|---|---|---|---|---|---|\n",
    "|T|3|5|1|1|2|4|2||\n",
    "|P|10|20|10|20|15|40|200||\n",
    "|DP|45|45|45|35|15|0|0|0||\n",
    "\n",
    "ex) 예제에서 i가 4일 경우,\n",
    "\n",
    "    DP[i+1]_DP[5]의 값 '0' <- P[5]는 40 이지만, T[i]+i > N 동작으로 인해 DP[5]는 0이 들어감\n",
    "    \n",
    "    DP[i]_DP[4]에 DP[i+1](0) 과 P[i] + DP[i+T[i]] (15+0) 의 값중 큰 15를 넣어줌\n",
    "\n",
    "ex) 예제에서 i가 3일 경우,\n",
    "\n",
    "    DP[i+1]_DP[4]의 값 (15), P[i] + DP[i+T[i]] (20+15)의 값중 큰 35를 넣어줌\n",
    "\n",
    "\n",
    "\n",
    "## 코드\n",
    "```\n",
    "import sys\n",
    "input = sys.stdin.readline\n",
    "\n",
    "Tlist, Plist = [],[]\n",
    "N = int(input())\n",
    "for _ in range(N):\n",
    "    t,p = map(int, input().split())\n",
    "    Tlist+=[t]\n",
    "    Plist+=[p]\n",
    "T, P, DP = Tlist[:], Plist[:], Plist[:] # 얕은 복사\n",
    "DP.append(0) # DP[] 맨 끝에 0 추가\n",
    "\n",
    "for i in range(N-1, -1, -1): # 날짜 끝(N-1)부터 역순으로  0까지, for 루프\n",
    "    if (T[i]+i) > N: # N을 초과하는 날짜일 경우\n",
    "        DP[i] = DP[i+1] \n",
    "            # DP[i+1]의 값(가장 끝값)으로 초기화,(가장 처음일 경우 0)\n",
    "    else:\n",
    "        DP[i] = max(DP[i+1], P[i] + DP[i+T[i]]) \n",
    "            # DP[i+T[i]] 정해진 날짜만큼(T[i])\n",
    "    print(DP[0])\n",
    "```\n"
   ]
  },
  {
   "cell_type": "code",
   "execution_count": 3,
   "metadata": {},
   "outputs": [
    {
     "name": "stdout",
     "output_type": "stream",
     "text": [
      "7\n",
      "3 10\n",
      "5 20\n",
      "1 10\n",
      "1 20\n",
      "2 15\n",
      "4 40\n",
      "2 200\n"
     ]
    }
   ],
   "source": [
    "Tlist, Plist = [],[]\n",
    "N = int(input())\n",
    "for _ in range(N):\n",
    "    t,p = map(int, input().split())\n",
    "    Tlist+=[t]\n",
    "    Plist+=[p]\n",
    "T, P, DP = Tlist[:], Plist[:], Plist[:]\n",
    "DP.append(0) # DP[] 맨 끝에 0 추가"
   ]
  },
  {
   "cell_type": "code",
   "execution_count": 186,
   "metadata": {},
   "outputs": [],
   "source": [
    "for i in range(N-1, -1, -1): # 날짜 끝(N-1)부터 역순으로  0까지, for 루프\n",
    "    if (T[i]+i) > N: # N을 초과하는 날짜일 경우\n",
    "        DP[i] = DP[i+1] # DP[i+1]의 값(가장 끝값)으로 초기화,(가장 처음일 경우 0)\n",
    "    else:\n",
    "        DP[i] = max(DP[i+1], P[i] + DP[i+T[i]]) # DP[i+T[i]] 정해진 날짜만큼(T[i])"
   ]
  },
  {
   "cell_type": "code",
   "execution_count": 188,
   "metadata": {},
   "outputs": [
    {
     "name": "stdout",
     "output_type": "stream",
     "text": [
      "45\n"
     ]
    }
   ],
   "source": [
    "print(DP[0])"
   ]
  },
  {
   "cell_type": "code",
   "execution_count": null,
   "metadata": {},
   "outputs": [],
   "source": [
    "import sys\n",
    "input = sys.stdin.readline\n",
    "Tlist, Plist = [],[]\n",
    "N = int(input())\n",
    "for _ in range(N):\n",
    "    t,p = map(int, input().split())\n",
    "    Tlist+=[t]\n",
    "    Plist+=[p]\n",
    "T, P, DP = Tlist[:], Plist[:], Plist[:]\n",
    "DP.append(0)\n",
    "for i in range(N-1, -1, -1):\n",
    "    if (T[i]+i) > N:\n",
    "        DP[i] = DP[i+1]\n",
    "    else:\n",
    "        DP[i] = max(DP[i+1], P[i] + DP[i+T[i]])\n",
    "print(DP[0])"
   ]
  }
 ],
 "metadata": {
  "kernelspec": {
   "display_name": "Python 3",
   "language": "python",
   "name": "python3"
  },
  "language_info": {
   "codemirror_mode": {
    "name": "ipython",
    "version": 3
   },
   "file_extension": ".py",
   "mimetype": "text/x-python",
   "name": "python",
   "nbconvert_exporter": "python",
   "pygments_lexer": "ipython3",
   "version": "3.7.6"
  }
 },
 "nbformat": 4,
 "nbformat_minor": 2
}
