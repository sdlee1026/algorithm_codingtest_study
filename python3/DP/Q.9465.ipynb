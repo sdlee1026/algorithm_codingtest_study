{
 "cells": [
  {
   "cell_type": "code",
   "execution_count": 1,
   "metadata": {},
   "outputs": [],
   "source": [
    "# Q.9465"
   ]
  },
  {
   "cell_type": "markdown",
   "metadata": {},
   "source": [
    "## 문제\n",
    "\n",
    "https://www.acmicpc.net/problem/9465\n",
    "\n",
    "## 접근법\n",
    "\n",
    "2xn 의 크기로 스티커 배열이 주어진다\n",
    "\n",
    "스티커를 선택하게 되면, 이웃하는 스티커(상,하,좌,우) 는 점수에서 제외된다\n",
    "\n",
    "초기값으로, 0번째 인덱스와 1번째 인덱스의 계산 결과를 넣고\n",
    "\n",
    "우측으로 개행할 때마다 점수를 비교(교차하는 행의 -1번째, -2번째 인덱스값과 비교)해서 높은 값을 DP[]에 갱신시켜나간다\n",
    "\n",
    "50 |10 |100 |20 |40|\n",
    "---|---|---|---|---|\n",
    "30 |50 |70 |10 |60|\n",
    "\n",
    "\n",
    "\n",
    "## 코드\n",
    "```\n",
    "import sys\n",
    "input = sys.stdin.readline\n",
    "for _ in range(int(input())):\n",
    "    l = []\n",
    "    n = int(input())\n",
    "    for _ in range(2):\n",
    "        l.append(list(map(int, input().split())))\n",
    "    l[0][1] += l[1][0]\n",
    "    l[1][1] += l[0][0]\n",
    "    # 초기화, 0~1번쨰 인덱스까지 점수 합\n",
    "    \n",
    "    for j in range(2, n):\n",
    "        # 2번째 인덱스 부터 시작\n",
    "        l[0][j] += max(l[1][j - 1], l[1][j - 2])\n",
    "            # -1번 인덱스의 값, -2번 인덱스의 값 중 큰것 선택하고 합함\n",
    "        l[1][j] += max(l[0][j - 1], l[0][j - 2])\n",
    "    print(max(l[0][n - 1], l[1][n - 1]))\n",
    "\n",
    "```\n"
   ]
  },
  {
   "cell_type": "code",
   "execution_count": 2,
   "metadata": {},
   "outputs": [
    {
     "name": "stdout",
     "output_type": "stream",
     "text": [
      "1\n",
      "5\n",
      "50 10 100 20 40\n",
      "30 50 70 10 60\n",
      "260\n"
     ]
    }
   ],
   "source": [
    "for _ in range(int(input())):\n",
    "    l = []\n",
    "    n = int(input())\n",
    "    for _ in range(2):\n",
    "        l.append(list(map(int, input().split())))\n",
    "    l[0][1] += l[1][0]\n",
    "    l[1][1] += l[0][0]\n",
    "    for j in range(2, n):\n",
    "        l[0][j] += max(l[1][j - 1], l[1][j - 2])\n",
    "        l[1][j] += max(l[0][j - 1], l[0][j - 2])\n",
    "    print(max(l[0][n - 1], l[1][n - 1]))"
   ]
  },
  {
   "cell_type": "code",
   "execution_count": null,
   "metadata": {},
   "outputs": [],
   "source": []
  }
 ],
 "metadata": {
  "kernelspec": {
   "display_name": "Python 3",
   "language": "python",
   "name": "python3"
  },
  "language_info": {
   "codemirror_mode": {
    "name": "ipython",
    "version": 3
   },
   "file_extension": ".py",
   "mimetype": "text/x-python",
   "name": "python",
   "nbconvert_exporter": "python",
   "pygments_lexer": "ipython3",
   "version": "3.7.6"
  }
 },
 "nbformat": 4,
 "nbformat_minor": 2
}
