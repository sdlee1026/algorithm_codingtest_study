{
 "cells": [
  {
   "cell_type": "code",
   "execution_count": 1,
   "metadata": {},
   "outputs": [],
   "source": [
    "# Q.2193\n",
    "# 이친수\n"
   ]
  },
  {
   "cell_type": "code",
   "execution_count": 28,
   "metadata": {},
   "outputs": [
    {
     "name": "stdout",
     "output_type": "stream",
     "text": [
      "10\n"
     ]
    }
   ],
   "source": [
    "N = int(input())\n",
    "anw  = [0 for _ in range(N+2)]\n",
    "anw[:2] = 1,1"
   ]
  },
  {
   "cell_type": "code",
   "execution_count": 29,
   "metadata": {},
   "outputs": [
    {
     "name": "stdout",
     "output_type": "stream",
     "text": [
      "55\n"
     ]
    }
   ],
   "source": [
    "\n",
    "if N == 0 or N == 1:\n",
    "    print('1')\n",
    "else:\n",
    "    for i in range(2, len(anw)):\n",
    "        anw[i] = anw[i-1] + anw[i-2]\n",
    "    print(anw[N-1])"
   ]
  },
  {
   "cell_type": "code",
   "execution_count": 16,
   "metadata": {
    "collapsed": true
   },
   "outputs": [
    {
     "data": {
      "text/plain": [
       "'\\n끝전 인덱스\\n    0 경우 ->  0,1 가능 case +=2\\n    1 경우 ->  0 가능 case +=1\\n3 -> 2\\n10| 0\\n10| 1\\n\\n4 -> 3\\n10 0| 0, 10 0| 1\\n\\n10 1| 0\\n\\n5 - >  5\\n10 1 0 | 0, 10 1 0| 1\\n\\n10 0 0 | 0, 10 0 0| 1\\n10 0 1 | 0\\n\\n10100, 10101, 10000, 10001, 10010\\n\\n6 -> 8\\n\\n10100| 0, 10100| 1\\n10101| 0\\n10000| 0, 10000| 1\\n10001| 0\\n10010| 0, 10010| 1\\n'"
      ]
     },
     "execution_count": 16,
     "metadata": {},
     "output_type": "execute_result"
    }
   ],
   "source": [
    "'''\n",
    "끝전 인덱스\n",
    "    0 경우 ->  0,1 가능 case +=2\n",
    "    1 경우 ->  0 가능 case +=1\n",
    "3 -> 2\n",
    "10| 0\n",
    "10| 1\n",
    "\n",
    "4 -> 3\n",
    "10 0| 0, 10 0| 1\n",
    "\n",
    "10 1| 0\n",
    "\n",
    "1000, 1001, 1010\n",
    "\n",
    "5 - >  5\n",
    "10 1 0 | 0, 10 1 0| 1\n",
    "10 0 0 | 0, 10 0 0| 1\n",
    "\n",
    "10 0 1 | 0\n",
    "\n",
    "10100, 10101, 10000, 10001, 10010\n",
    "\n",
    "6 -> 8\n",
    "0 이 새로운 인덱스로 들어갈 경우는 모든 경우에 가능 -> f(n-1)의 갯수\n",
    "1 이 새로운 인덱스로 들어갈 경우는 끝이 0으로 끝날 경우 가능 \n",
    "    == 2번째 전 경우에서 1번째 전 경에 0을 넣을 경우 -> f(n-2)의 갯수\n",
    "10100| 0, 10100| 1\n",
    "10101| 0\n",
    "10000| 0, 10000| 1\n",
    "10001| 0\n",
    "10010| 0, 10010| 1\n",
    "'''\n"
   ]
  },
  {
   "cell_type": "code",
   "execution_count": null,
   "metadata": {},
   "outputs": [],
   "source": []
  }
 ],
 "metadata": {
  "kernelspec": {
   "display_name": "Python 3",
   "language": "python",
   "name": "python3"
  },
  "language_info": {
   "codemirror_mode": {
    "name": "ipython",
    "version": 3
   },
   "file_extension": ".py",
   "mimetype": "text/x-python",
   "name": "python",
   "nbconvert_exporter": "python",
   "pygments_lexer": "ipython3",
   "version": "3.7.6"
  }
 },
 "nbformat": 4,
 "nbformat_minor": 2
}
