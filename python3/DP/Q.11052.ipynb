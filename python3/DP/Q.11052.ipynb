{
 "cells": [
  {
   "cell_type": "markdown",
   "metadata": {},
   "source": [
    "## 문제\n",
    "\n",
    "https://www.acmicpc.net/problem/11052\n",
    "\n",
    "## 접근법\n",
    "\n",
    "1팩 구매 : 1번팩 1개\n",
    "\n",
    "2팩 구매 : 2번팩 2개, 1번팩 2개 중 큰수 \n",
    "   \n",
    "    여기까지 초기화\n",
    "\n",
    "3팩 구매 : 3번팩 1개, 2팩+1팩 경우\n",
    "\n",
    "4팩 구매 : 4번팩 1개, 3팩+1팩 경우, 2팩 2개 경우\n",
    "\n",
    "n팩 구매\n",
    "\n",
    "    max(dp[n] case, dp[1]+dp[n-1] case, dp[2]+do[n-2] case, ... dp[i]+dp[n-i] case)\n",
    "\n",
    "점화식 : dp[n] = max(dp[n], dp[i] + dp[n-i])\n",
    "\n",
    "## 코드\n",
    "\n",
    "```\n",
    "import sys\n",
    "input = sys.stdin.readline\n",
    "\n",
    "N, card = int(input()), [0]\n",
    "card += list(map(int, input().split()))\n",
    "\n",
    "if N == 1: print(card[1])\n",
    "else:\n",
    "    dp = [0] * (N+1)\n",
    "    dp[1] = card[1]\n",
    "    dp[2] = max(card[2], card[1]*2)\n",
    "\n",
    "    for i in range(3, N+1):\n",
    "        dp[i] = card[i] #자기 자신으로 가장 비싼 경우\n",
    "        for j in range(1, i//2 + 1): #j와 i-j로 만드는 경우, \n",
    "                        # i index의 middle값\n",
    "            dp[i] = max(dp[i], dp[j] + dp[i-j])\n",
    "\n",
    "    print(dp[N])\n",
    "```"
   ]
  },
  {
   "cell_type": "code",
   "execution_count": 341,
   "metadata": {},
   "outputs": [
    {
     "name": "stdout",
     "output_type": "stream",
     "text": [
      "10\n",
      "1 1 2 3 5 8 13 21 34 55\n",
      "55\n"
     ]
    }
   ],
   "source": [
    "N, card = int(input()), [0]\n",
    "card += list(map(int, input().split()))\n",
    "\n",
    "if N == 1: print(card[1])\n",
    "else:\n",
    "    dp = [0] * (N+1)\n",
    "    dp[1] = card[1]\n",
    "    dp[2] = max(card[2], card[1]*2)\n",
    "\n",
    "    for i in range(3, N+1):\n",
    "        dp[i] = card[i] #자기 자신으로 가장 비싼 경우\n",
    "        for j in range(1, i//2 + 1): #j와 i-j로 만드는 경우, \n",
    "                        # i index의 middle값\n",
    "            dp[i] = max(dp[i], dp[j] + dp[i-j])\n",
    "\n",
    "    print(dp[N])"
   ]
  },
  {
   "cell_type": "code",
   "execution_count": null,
   "metadata": {},
   "outputs": [],
   "source": []
  }
 ],
 "metadata": {
  "kernelspec": {
   "display_name": "Python 3",
   "language": "python",
   "name": "python3"
  },
  "language_info": {
   "codemirror_mode": {
    "name": "ipython",
    "version": 3
   },
   "file_extension": ".py",
   "mimetype": "text/x-python",
   "name": "python",
   "nbconvert_exporter": "python",
   "pygments_lexer": "ipython3",
   "version": "3.7.6"
  }
 },
 "nbformat": 4,
 "nbformat_minor": 2
}
