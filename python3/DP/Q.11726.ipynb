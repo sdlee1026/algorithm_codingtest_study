{
 "cells": [
  {
   "cell_type": "code",
   "execution_count": null,
   "metadata": {},
   "outputs": [],
   "source": [
    "# Q.11726\n",
    "# 2 x n 크기 직사각형을, 1x2, 2x1 타일로 채우는 방법의 수\n",
    "# 점화식?\n",
    "    # f(1) = 1\n",
    "    # f(2) = 2\n",
    "    # f(3) = f(2)+f(1)\n",
    "        # f(3) = 3\n",
    "    # f(4) = 5\n",
    "    # f(5) = 8\n",
    "    # f(6) = 13\n",
    "    # f(7) = 21\n",
    "    # f(8) = 34\n",
    "    # f(9) = 55\n",
    "    "
   ]
  },
  {
   "cell_type": "code",
   "execution_count": 13,
   "metadata": {},
   "outputs": [
    {
     "name": "stdout",
     "output_type": "stream",
     "text": [
      "1000\n",
      "1115\n"
     ]
    }
   ],
   "source": [
    "n = int(input())\n",
    "\n",
    "if n == 1:\n",
    "    print(1)\n",
    "else:\n",
    "    ary = [0 for i in range(n)]\n",
    "    ary[0], ary[1] = 1, 2\n",
    "    for num in range(2,n):\n",
    "        ary[num] = ary[num-1]+ ary[num-2]\n",
    "    print(ary[n-1]%10007)"
   ]
  },
  {
   "cell_type": "code",
   "execution_count": null,
   "metadata": {},
   "outputs": [],
   "source": []
  }
 ],
 "metadata": {
  "kernelspec": {
   "display_name": "Python 3",
   "language": "python",
   "name": "python3"
  },
  "language_info": {
   "codemirror_mode": {
    "name": "ipython",
    "version": 3
   },
   "file_extension": ".py",
   "mimetype": "text/x-python",
   "name": "python",
   "nbconvert_exporter": "python",
   "pygments_lexer": "ipython3",
   "version": "3.7.6"
  }
 },
 "nbformat": 4,
 "nbformat_minor": 2
}
