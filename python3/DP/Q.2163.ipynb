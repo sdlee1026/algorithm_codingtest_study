{
 "cells": [
  {
   "cell_type": "code",
   "execution_count": 1,
   "metadata": {},
   "outputs": [],
   "source": [
    "# Q.2163"
   ]
  },
  {
   "cell_type": "markdown",
   "metadata": {},
   "source": [
    "## 문제\n",
    "\n",
    "https://www.acmicpc.net/problem/2163\n",
    "\n",
    "## 접근법\n",
    "\n",
    "NxM 크기의 초콜릿이 주어진다. 이를 1x1 조각으로 모두 자르려 할 때, 최소한의 수행횟수를 구하라\n",
    "\n",
    "작은 문제부터 생각해서, N크기를 1의 크기로 쪼개기 위해선 N-1의 동작이 필요하다\n",
    "- ex) 5x1 크기 초콜릿 -> 4번 쪼개야함\n",
    "\n",
    "마찬가지로 M크기도 M-1번의 수행을 거치는데, 그 M-1번의 수행을 N번 반복해야하기 때문에\n",
    "- (N-1) + (M-1)*N 의 결과값이 답이 된다\n",
    "\n",
    "\n",
    "## 코드\n",
    "```\n",
    "import sys\n",
    "input = sys.stdin.readline\n",
    "N,M = map(int, input().split())\n",
    "print((N-1)+((M-1)*(N)))\n",
    "\n",
    "```\n"
   ]
  },
  {
   "cell_type": "code",
   "execution_count": 30,
   "metadata": {},
   "outputs": [
    {
     "name": "stdout",
     "output_type": "stream",
     "text": [
      "2 2\n",
      "3\n"
     ]
    }
   ],
   "source": [
    "N,M = map(int, input().split())\n",
    "print((N-1)+((M-1)*(N)))"
   ]
  },
  {
   "cell_type": "code",
   "execution_count": null,
   "metadata": {},
   "outputs": [],
   "source": []
  }
 ],
 "metadata": {
  "kernelspec": {
   "display_name": "Python 3",
   "language": "python",
   "name": "python3"
  },
  "language_info": {
   "codemirror_mode": {
    "name": "ipython",
    "version": 3
   },
   "file_extension": ".py",
   "mimetype": "text/x-python",
   "name": "python",
   "nbconvert_exporter": "python",
   "pygments_lexer": "ipython3",
   "version": "3.7.6"
  }
 },
 "nbformat": 4,
 "nbformat_minor": 2
}
