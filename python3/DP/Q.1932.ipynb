{
 "cells": [
  {
   "cell_type": "code",
   "execution_count": 244,
   "metadata": {},
   "outputs": [
    {
     "name": "stdout",
     "output_type": "stream",
     "text": [
      "5\n",
      "7\n",
      "3 8\n",
      "8 1 0\n",
      "2 7 4 4\n",
      "4 5 2 6 5\n",
      "30\n"
     ]
    }
   ],
   "source": [
    "# Q.1932\n",
    "N = int(input())\n",
    "tri = []\n",
    "for i in range(N):\n",
    "    tri.append(list(map(int, input().split())))\n",
    "index = 2\n",
    "# tri 돌아다니는 인덱스\n",
    "for head in range(1, N):\n",
    "    for j in range(index):\n",
    "        if j == 0:\n",
    "            tri[head][j] = tri[head][j] + tri[head - 1][j]\n",
    "            # 맨 왼쪽 경우\n",
    "        elif head == j:\n",
    "            tri[head][j] = tri[head][j] + tri[head - 1][j - 1]\n",
    "            # 맨 오른쪽 경우 \n",
    "        else:\n",
    "            tri[head][j] = max(tri[head - 1][j - 1], \n",
    "                               tri[head - 1][j]) + tri[head][j]\n",
    "            # 다른 모든 경우, 왼쪽의 합_오른쪽의 합 중 큰 경우를 선택함\n",
    "    index += 1\n",
    "    # 트리 한층 내려갈때마다 탐색 범위 넓어짐(tri가 아래로 갈수록 넓어지므로 1칸씩)\n",
    "print(max(tri[N - 1]))"
   ]
  },
  {
   "cell_type": "code",
   "execution_count": 245,
   "metadata": {},
   "outputs": [
    {
     "data": {
      "text/plain": [
       "[[7], [10, 15], [18, 16, 15], [20, 25, 20, 19], [24, 30, 27, 26, 24]]"
      ]
     },
     "execution_count": 245,
     "metadata": {},
     "output_type": "execute_result"
    }
   ],
   "source": [
    "tri\n"
   ]
  },
  {
   "cell_type": "code",
   "execution_count": 247,
   "metadata": {},
   "outputs": [
    {
     "name": "stdout",
     "output_type": "stream",
     "text": [
      "3\n",
      "1\n",
      "2 4\n",
      "3 6 9\n",
      "14\n"
     ]
    }
   ],
   "source": [
    "# Q.1932\n",
    "N = int(input())\n",
    "tri, k = [], 2\n",
    "for i in range(N):\n",
    "    tri.append(list(map(int, input().split())))\n",
    "for i in range(1, N):\n",
    "    for j in range(k):\n",
    "        if j == 0: tri[i][j] = tri[i][j] + tri[i - 1][j]\n",
    "        elif i == j:tri[i][j] = tri[i][j] + tri[i - 1][j - 1]\n",
    "        else:  tri[i][j] = max(tri[i - 1][j - 1], tri[i - 1][j]) + tri[i][j]\n",
    "    k += 1\n",
    "print(max(tri[N - 1]))"
   ]
  },
  {
   "cell_type": "code",
   "execution_count": null,
   "metadata": {},
   "outputs": [],
   "source": []
  }
 ],
 "metadata": {
  "kernelspec": {
   "display_name": "Python 3",
   "language": "python",
   "name": "python3"
  },
  "language_info": {
   "codemirror_mode": {
    "name": "ipython",
    "version": 3
   },
   "file_extension": ".py",
   "mimetype": "text/x-python",
   "name": "python",
   "nbconvert_exporter": "python",
   "pygments_lexer": "ipython3",
   "version": "3.7.6"
  }
 },
 "nbformat": 4,
 "nbformat_minor": 2
}
