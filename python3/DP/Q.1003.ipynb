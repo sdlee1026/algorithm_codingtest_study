{
 "cells": [
  {
   "cell_type": "code",
   "execution_count": null,
   "metadata": {},
   "outputs": [],
   "source": [
    "# Q.1003\n",
    "# f(n) = f(n-1) + f(n-2)"
   ]
  },
  {
   "cell_type": "markdown",
   "metadata": {},
   "source": [
    "  0호출   1호출\n",
    "f0 1     0\n",
    "f1 0     1\n",
    "f2 1     1\n",
    "f3 1     2\n",
    "f4 2     3\n",
    "f5 3     5\n",
    "f6 5.    8"
   ]
  },
  {
   "cell_type": "code",
   "execution_count": 5,
   "metadata": {},
   "outputs": [
    {
     "name": "stdout",
     "output_type": "stream",
     "text": [
      "1\n",
      "50\n",
      "7778742049 12586269025\n"
     ]
    }
   ],
   "source": [
    "def fibo(n):\n",
    "    for i in range(2,n+1):\n",
    "        ary_0[i] = ary_0[i-1]+ary_0[i-2]\n",
    "        ary_1[i] = ary_1[i-1]+ary_1[i-2]\n",
    "for _ in range(int(input())):\n",
    "    N = int(input())\n",
    "    ary_0 = [0 for _ in range(N+2)]\n",
    "    ary_1 = ary_0[:]\n",
    "    ary_0[0],ary_1[0]=1,0\n",
    "    ary_0[1],ary_1[1]=0,1\n",
    "    fibo(N)\n",
    "    print('{} {}'.format(ary_0[N], ary_1[N]))\n",
    "    "
   ]
  },
  {
   "cell_type": "code",
   "execution_count": null,
   "metadata": {},
   "outputs": [],
   "source": []
  }
 ],
 "metadata": {
  "kernelspec": {
   "display_name": "Python 3",
   "language": "python",
   "name": "python3"
  },
  "language_info": {
   "codemirror_mode": {
    "name": "ipython",
    "version": 3
   },
   "file_extension": ".py",
   "mimetype": "text/x-python",
   "name": "python",
   "nbconvert_exporter": "python",
   "pygments_lexer": "ipython3",
   "version": "3.7.6"
  }
 },
 "nbformat": 4,
 "nbformat_minor": 2
}
