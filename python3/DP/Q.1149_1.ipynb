{
 "cells": [
  {
   "cell_type": "code",
   "execution_count": 5,
   "metadata": {},
   "outputs": [
    {
     "name": "stdout",
     "output_type": "stream",
     "text": [
      "3\n",
      "26 40 83\n",
      "49 60 57\n",
      "13 89 99\n",
      "[[26, 40, 83], [49, 60, 57], [13, 89, 99]]\n"
     ]
    }
   ],
   "source": [
    "#top-down \n",
    "n = int(input())\n",
    "rgb = [[int(x) for x in input().split()] for i in range(n)]"
   ]
  },
  {
   "cell_type": "code",
   "execution_count": 6,
   "metadata": {},
   "outputs": [],
   "source": [
    "def dp(lev):\n",
    "    if lev == -1:\n",
    "        return [0,0,0]\n",
    "    cache = dp(lev-1)\n",
    "    rgb[lev][0] += min(cache[1], cache[2])\n",
    "    rgb[lev][1] += min(cache[0], cache[2])\n",
    "    rgb[lev][2] += min(cache[0], cache[1])\n",
    "    return rgb[lev]"
   ]
  },
  {
   "cell_type": "code",
   "execution_count": 19,
   "metadata": {},
   "outputs": [
    {
     "name": "stdout",
     "output_type": "stream",
     "text": [
      "174\n"
     ]
    }
   ],
   "source": [
    "print(min(dp(n-1)))"
   ]
  },
  {
   "cell_type": "code",
   "execution_count": null,
   "metadata": {},
   "outputs": [],
   "source": [
    "import sys\n",
    "sys.setrecursionlimit(10**6)"
   ]
  },
  {
   "cell_type": "code",
   "execution_count": 20,
   "metadata": {},
   "outputs": [
    {
     "name": "stdout",
     "output_type": "stream",
     "text": [
      "3\n",
      "26 40 83\n",
      "49 60 57\n",
      "13 89 99\n",
      "96\n"
     ]
    }
   ],
   "source": [
    "S = []\n",
    "\n",
    "\n",
    "N = int(input())\n",
    "for _ in range(N):\n",
    "    S.append(list(map(int, input().split())))\n",
    "\n",
    "D = [(S[0][0], S[0][1], S[0][2])]\n",
    "\n",
    "for i in range(1, N):\n",
    "    temp1 = min(D[i-1][1], D[i-1][2]) + S[i][0]\n",
    "    temp2 = min(D[i-1][0], D[i-1][2]) + S[i][1]\n",
    "    temp3 = min(D[i-1][0], D[i-1][1]) + S[i][2]\n",
    "    D.append((temp1, temp2, temp3))\n",
    "print(min(D[N-1][0], D[N-1][1], D[N-1][2]))\n"
   ]
  },
  {
   "cell_type": "code",
   "execution_count": 23,
   "metadata": {},
   "outputs": [
    {
     "data": {
      "text/plain": [
       "[(26, 40, 83), (89, 86, 83), (96, 172, 185)]"
      ]
     },
     "execution_count": 23,
     "metadata": {},
     "output_type": "execute_result"
    }
   ],
   "source": [
    "D"
   ]
  },
  {
   "cell_type": "code",
   "execution_count": 25,
   "metadata": {},
   "outputs": [
    {
     "data": {
      "text/plain": [
       "49"
      ]
     },
     "execution_count": 25,
     "metadata": {},
     "output_type": "execute_result"
    }
   ],
   "source": [
    "S[1][0]"
   ]
  },
  {
   "cell_type": "code",
   "execution_count": null,
   "metadata": {},
   "outputs": [],
   "source": []
  }
 ],
 "metadata": {
  "kernelspec": {
   "display_name": "Python 3",
   "language": "python",
   "name": "python3"
  },
  "language_info": {
   "codemirror_mode": {
    "name": "ipython",
    "version": 3
   },
   "file_extension": ".py",
   "mimetype": "text/x-python",
   "name": "python",
   "nbconvert_exporter": "python",
   "pygments_lexer": "ipython3",
   "version": "3.7.6"
  }
 },
 "nbformat": 4,
 "nbformat_minor": 2
}
