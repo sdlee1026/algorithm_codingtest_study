{
 "cells": [
  {
   "cell_type": "code",
   "execution_count": 129,
   "metadata": {},
   "outputs": [
    {
     "name": "stdout",
     "output_type": "stream",
     "text": [
      "6\n",
      "6\n",
      "10\n",
      "13\n",
      "9\n",
      "8\n",
      "1\n"
     ]
    }
   ],
   "source": [
    "# Q.2156\n",
    "N = int(input())\n",
    "test = [0,]\n",
    "for _ in range(N):\n",
    "    test.append(int(input()))"
   ]
  },
  {
   "cell_type": "code",
   "execution_count": 130,
   "metadata": {},
   "outputs": [],
   "source": [
    "dp = [[0 for _ in range(N+1)]for _ in range(4)]\n",
    "    "
   ]
  },
  {
   "cell_type": "code",
   "execution_count": 131,
   "metadata": {},
   "outputs": [],
   "source": [
    "# dp"
   ]
  },
  {
   "cell_type": "code",
   "execution_count": 132,
   "metadata": {},
   "outputs": [
    {
     "name": "stdout",
     "output_type": "stream",
     "text": [
      "33\n"
     ]
    }
   ],
   "source": [
    "for i in range(1, N+1):\n",
    "    dp[0][i] = dp[2][i-1] + test[i]\n",
    "    # 11 이전 잔과 이번 잔 모두 마심\n",
    "    dp[1][i] = max(dp[0][i-1], dp[2][i-1])\n",
    "    # 10 이전 잔만 마심\n",
    "    dp[2][i] = max(dp[1][i-1], dp[3][i-1]) + test[i]\n",
    "    # 01 이번 잔만 마심\n",
    "    dp[3][i] = max(dp[1][i-1], dp[3][i-1])\n",
    "    # 00 이전 잔과 이번잔을 모두 마시지 않음\n",
    "print(max(dp[0][N], dp[1][N], dp[2][N], dp[3][N]))"
   ]
  },
  {
   "cell_type": "code",
   "execution_count": null,
   "metadata": {},
   "outputs": [],
   "source": [
    "N = int(input())\n",
    "test = [0,]\n",
    "for _ in range(N):\n",
    "    test.append(int(input()))\n",
    "dp = [[0 for _ in range(N+1)]for _ in range(4)]\n",
    "for i in range(1, N+1):\n",
    "    dp[0][i] = dp[2][i-1] + test[i]\n",
    "    dp[1][i] = max(dp[0][i-1], dp[2][i-1])\n",
    "    dp[2][i] = max(dp[1][i-1], dp[3][i-1]) + test[i]\n",
    "    dp[3][i] = max(dp[1][i-1], dp[3][i-1])\n",
    "print(max(dp[0][N], dp[1][N], dp[2][N], dp[3][N]))"
   ]
  },
  {
   "cell_type": "code",
   "execution_count": 136,
   "metadata": {},
   "outputs": [
    {
     "name": "stdout",
     "output_type": "stream",
     "text": [
      "0\n",
      "6\n",
      "16\n",
      "23\n",
      "28\n",
      "33\n"
     ]
    }
   ],
   "source": [
    "for i in range(N):\n",
    "    print(max(dp[0][i], dp[1][i], dp[2][i], dp[3][i]))"
   ]
  },
  {
   "cell_type": "code",
   "execution_count": 165,
   "metadata": {},
   "outputs": [
    {
     "name": "stdout",
     "output_type": "stream",
     "text": [
      "10\n",
      "1\n",
      "2\n",
      "3\n",
      "4\n",
      "5\n",
      "6\n",
      "7\n",
      "8\n",
      "9\n",
      "10\n",
      "40\n"
     ]
    }
   ],
   "source": [
    "N = int(input())\n",
    "test = [0,]\n",
    "for _ in range(N):\n",
    "    test.append(int(input()))\n",
    "dp = [0 for _ in range(4)]\n",
    "for i in range(1, N+1):\n",
    "    temp = []\n",
    "    temp += [\n",
    "        dp[2] + test[i],\n",
    "        max(dp[0], dp[2]),\n",
    "        max(dp[1], dp[3]) +test[i],\n",
    "        max(dp[1], dp[3])\n",
    "    ]\n",
    "    dp = temp\n",
    "\n",
    "print(max(temp))"
   ]
  },
  {
   "cell_type": "code",
   "execution_count": 166,
   "metadata": {},
   "outputs": [
    {
     "data": {
      "text/plain": [
       "[40, 33, 37, 27]"
      ]
     },
     "execution_count": 166,
     "metadata": {},
     "output_type": "execute_result"
    }
   ],
   "source": [
    "temp"
   ]
  },
  {
   "cell_type": "code",
   "execution_count": null,
   "metadata": {},
   "outputs": [],
   "source": [
    "import sys\n",
    "input = sys.stdin.readline"
   ]
  }
 ],
 "metadata": {
  "kernelspec": {
   "display_name": "Python 3",
   "language": "python",
   "name": "python3"
  },
  "language_info": {
   "codemirror_mode": {
    "name": "ipython",
    "version": 3
   },
   "file_extension": ".py",
   "mimetype": "text/x-python",
   "name": "python",
   "nbconvert_exporter": "python",
   "pygments_lexer": "ipython3",
   "version": "3.7.6"
  }
 },
 "nbformat": 4,
 "nbformat_minor": 2
}
