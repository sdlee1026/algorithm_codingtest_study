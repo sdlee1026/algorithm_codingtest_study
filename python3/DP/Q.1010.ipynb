{
 "cells": [
  {
   "cell_type": "code",
   "execution_count": 1,
   "metadata": {},
   "outputs": [],
   "source": [
    "# Q.1010"
   ]
  },
  {
   "cell_type": "markdown",
   "metadata": {},
   "source": [
    "## 문제\n",
    "\n",
    "https://www.acmicpc.net/problem/1010\n",
    "\n",
    "\n",
    "## 접근법\n",
    "\n",
    "문제를 보고 직관적으로 조합에 관련된 문제라는 것을 느꼈다.\n",
    "- 이전에 배치된 다리는 지나갈 수 없으므로, nCr -> n이 1씩 줄어듬..\n",
    "- 조합의 공식 : nCr = n! / r!*(n-r)! -> 오버플로우 발생\n",
    "    - 순열은.. (순서가 없는, 중복을 허용)nPr = n*(n-1)*(n-2) ... (n-r+1) (단, 0<r<=n) \n",
    "    - 순열과 조합 : \n",
    "        - nCr = nPr / r! \n",
    "            - (중복을 허용한 모든 경우)/(중복 제외하기 위해서, 고르는 경우의 수를 나눠줌)\n",
    "        - 서로 다른 n개에서 r개를 순서와 상관없이 고르는 조합의 수\n",
    "\n",
    "경우의 수를 따지는 데에는 순열과 조합이 있는데, 이와 같이 엇갈리지 않게, \n",
    "\n",
    "즉, 항상 정해진 순서대로(또는 증가하는 순서, 감소하는 순서 등) 나열해야한다면, \n",
    "- 이것은 조합을 선택해야 함\n",
    "- 결국 이 문제는 M개 중에서 N개를 선택하는 문제가 됨\n",
    "\n",
    "조합과 DP의 연관성에 대해서는 잘 이해가 가지 않는 문제였다..\n",
    "\n",
    "\n",
    "## 코드\n",
    "```\n",
    "import sys\n",
    "input = sys.stdin.readline\n",
    "\n",
    "for _ in range(int(input())):\n",
    "    N, M = map(int, input().split())\n",
    "\n",
    "    ans = 1         # 동쪽과 서쪽의 사이트 갯수가 동일할때\n",
    "    if N != M:      # 동쪽의 사이트 갯수가 더 많을때\n",
    "        for i in range(M, M-N, -1):\n",
    "            ans *= i # M부터 M-N일 경우까지의 팩토리얼 nPr\n",
    "        for i in range(N, 1, -1):\n",
    "            ans //= i # r! 로 나눠주는 동작의 for loop\n",
    "    print(ans)\n",
    "\n",
    "```\n",
    "\n",
    "\n",
    "## 입력\n",
    "\n",
    "입력의 첫 줄에는 테스트 케이스의 개수 T가 주어진다. 그 다음 줄부터 각각의 테스트케이스에 대해 강의 서쪽과 동쪽에 있는 사이트의 개수 정수 N, M (0 < N ≤ M < 30)이 주어진다.\n",
    "\n",
    "    예제 입력 1 \n",
    "\n",
    "    3\n",
    "    2 2\n",
    "    1 5\n",
    "    13 29\n",
    "\n",
    "## 출력\n",
    "\n",
    "각 테스트 케이스에 대해 주어진 조건하에 다리를 지을 수 있는 경우의 수를 출력한다.\n",
    "\n",
    "    예제 출력 1 \n",
    "    1\n",
    "    5\n",
    "    67863915"
   ]
  },
  {
   "cell_type": "markdown",
   "metadata": {},
   "source": []
  },
  {
   "cell_type": "code",
   "execution_count": 2,
   "metadata": {},
   "outputs": [
    {
     "name": "stdout",
     "output_type": "stream",
     "text": [
      "3\n",
      "2 2\n",
      "1\n",
      "1 5\n",
      "5\n",
      "13 29\n",
      "67863915\n"
     ]
    }
   ],
   "source": [
    "for _ in range(int(input())):\n",
    "    N, M = map(int, input().split())\n",
    "    ans = 1\n",
    "    if N != M:\n",
    "        for i in range(M, M-N, -1):\n",
    "            ans *= i\n",
    "        for i in range(N, 1, -1):\n",
    "            ans //= i\n",
    "    print(ans)"
   ]
  },
  {
   "cell_type": "code",
   "execution_count": null,
   "metadata": {},
   "outputs": [],
   "source": []
  }
 ],
 "metadata": {
  "kernelspec": {
   "display_name": "Python 3",
   "language": "python",
   "name": "python3"
  },
  "language_info": {
   "codemirror_mode": {
    "name": "ipython",
    "version": 3
   },
   "file_extension": ".py",
   "mimetype": "text/x-python",
   "name": "python",
   "nbconvert_exporter": "python",
   "pygments_lexer": "ipython3",
   "version": "3.7.6"
  }
 },
 "nbformat": 4,
 "nbformat_minor": 2
}
