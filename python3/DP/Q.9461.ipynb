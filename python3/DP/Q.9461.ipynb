{
 "cells": [
  {
   "cell_type": "markdown",
   "metadata": {},
   "source": [
    "## 문제\n",
    "\n",
    "https://www.acmicpc.net/problem/9461\n",
    "\n",
    "## 접근법\n",
    "점화식 접근:\n",
    "\n",
    "문제에서 주어진 수열: 1, 1, 1, 2, 2, 3, 4, 5, 7, 9\n",
    "* 직관적으로 바라봤을 때, f(n) : f(n-2) + f(n-3) 임을 알 수 있었다\n",
    "\n",
    "그러나 왜 그렇게 될까?\n",
    "\n",
    "이 문제는 점화식 도출을 통해서 아주 직관적으로 풀었지만, 다른 문제에서도 적용 할 수 있을지 모르겠다..\n",
    "\n",
    "\n",
    "## 코드\n",
    "\n",
    "```\n",
    "import sys\n",
    "input = sys.stdin.readline\n",
    "\n",
    "for _ in range(int(input())):\n",
    "    N = int(input())\n",
    "    dp = [0 for i in range(N-1)]\n",
    "    dp[:2] = 1,1,1\n",
    "    for i in range(3,N):\n",
    "        dp[i] = dp[i-2] + dp[i-3]\n",
    "    print(dp[N-1])\n",
    "```"
   ]
  },
  {
   "cell_type": "code",
   "execution_count": 13,
   "metadata": {},
   "outputs": [
    {
     "name": "stdout",
     "output_type": "stream",
     "text": [
      "1\n",
      "99\n",
      "670976837021\n"
     ]
    }
   ],
   "source": [
    "for _ in range(int(input())):\n",
    "    N = int(input())\n",
    "    dp = [0 for i in range(N-1)]\n",
    "    dp[:2] = 1,1,1\n",
    "    for i in range(3,N):\n",
    "        dp[i] = dp[i-2] + dp[i-3]\n",
    "    print(dp[N-1])"
   ]
  },
  {
   "cell_type": "code",
   "execution_count": 12,
   "metadata": {},
   "outputs": [
    {
     "data": {
      "text/plain": [
       "[1, 1, 1, 2, 2, 3, 4, 5, 7, 9, 12, 16]"
      ]
     },
     "execution_count": 12,
     "metadata": {},
     "output_type": "execute_result"
    }
   ],
   "source": [
    "dp"
   ]
  }
 ],
 "metadata": {
  "kernelspec": {
   "display_name": "Python 3",
   "language": "python",
   "name": "python3"
  },
  "language_info": {
   "codemirror_mode": {
    "name": "ipython",
    "version": 3
   },
   "file_extension": ".py",
   "mimetype": "text/x-python",
   "name": "python",
   "nbconvert_exporter": "python",
   "pygments_lexer": "ipython3",
   "version": "3.7.6"
  }
 },
 "nbformat": 4,
 "nbformat_minor": 2
}
