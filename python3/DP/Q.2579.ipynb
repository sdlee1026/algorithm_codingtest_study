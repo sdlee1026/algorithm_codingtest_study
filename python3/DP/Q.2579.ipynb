{
 "cells": [
  {
   "cell_type": "code",
   "execution_count": 1,
   "metadata": {},
   "outputs": [],
   "source": [
    "# Q.2579\n",
    "# 계단은 한계단 또는 두계단 씩 상승 가능\n",
    "# 시작점을 제외하고, 연속되게 세개의 계단을 밟아선 안된다\n",
    "# 마지막 도착 계단은 반드시 밟아야한다\n",
    "\n",
    "# 이 게임에서 얻을 수 있는 최대값\n",
    "# 첫쨰 줄 계단의 개수  300이하 자연수\n",
    "# 둘쨰줄부터 한줄에 하나씩 계단의 순서대로 계단의 점수가 주어짐 10000이하의 자연수"
   ]
  },
  {
   "cell_type": "code",
   "execution_count": 3,
   "metadata": {},
   "outputs": [
    {
     "name": "stdout",
     "output_type": "stream",
     "text": [
      "6\n",
      "10\n",
      "20\n",
      "15\n",
      "25\n",
      "10\n",
      "20\n"
     ]
    }
   ],
   "source": [
    "N = int(input())\n",
    "s = []\n",
    "for _ in range(N):\n",
    "    s.append(int(input()))\n",
    "    "
   ]
  },
  {
   "cell_type": "code",
   "execution_count": 9,
   "metadata": {},
   "outputs": [],
   "source": [
    "# upcount = 0\n",
    "# index = -1\n",
    "# required = 0\n",
    "# result = [0 for _ in range(N)]\n",
    "# # 인덱스별로 얻은 점수 카운트?\n",
    "\n",
    "# while index <len(s):\n",
    "#     if index +1 == len(s)-1:\n",
    "#         # 두계단은 무조건 오를 수 없는 경우, 한계단 남은 경우\n",
    "#         index+=1\n",
    "#         result[index]+= s[index]+required\n",
    "#     else:\n",
    "#         if upcount!=2:\n",
    "#             # 한계단 오르기\n",
    "#             index, s, upcount, required, result=upper_one(\n",
    "#                 index, s, upcount, required, result)\n",
    "#         # 두계단 오르기"
   ]
  },
  {
   "cell_type": "code",
   "execution_count": 42,
   "metadata": {},
   "outputs": [],
   "source": [
    "# def upper_one(index, s, upcount, required, result):\n",
    "#     upcount += 1\n",
    "#     index+=1\n",
    "#     required+= s[index]\n",
    "#     result[index] += s[index]\n",
    "    \n",
    "#     return index, s, upcount, required, result\n",
    "\n",
    "# def upper_two(index, s, upcount, required, result):\n",
    "#     upcount = 0\n",
    "#     index+=2\n",
    "#     required+= s[index]\n",
    "#     result[index] += s[index]\n",
    "    \n",
    "#     return index, s, upcount, required, result\n"
   ]
  },
  {
   "cell_type": "code",
   "execution_count": null,
   "metadata": {},
   "outputs": [],
   "source": [
    "# 총 네개의 계단을 올라갈때, 어떤 방법이 더 점수를 얻는지 비교\n",
    "# 왜 네개냐?\n",
    "# 연속에서 한개의 계단을 3번 올라갈 수 없으므로, 1개의 계단을 연속해서\n",
    "# 밟을 경우는 최대 2번, ... 등으로 3개의 경우로 나누어짐 \n",
    "    # case0 : 1,1,2 -> upcount =1일 때만 검사, upcount=1 end\n",
    "    # case1 : 1,2,1 -> upcount =1or2 일때 검사, upcount=2 end\n",
    "    # case2 : 2,2 -> upcount =1or2 일때 검사, upcount=1 end\n",
    "    \n",
    "    # case3 : 1,2\n",
    "    # case4 : 2,1\n",
    "# upcount == 3면 3연속 발판\n",
    "# 1. 계단을 4묶음으로 나눔\n",
    "# 각 묶음 당 할 수 있는 모든 경우를 검사\n",
    "    # 검사 후 이전 블록과 합산했을 경우, 가장 높은 점수를 가진 경우를 저장하고 다음 블록으로 넘어감\n",
    "    "
   ]
  },
  {
   "cell_type": "code",
   "execution_count": 116,
   "metadata": {},
   "outputs": [],
   "source": [
    "def upper_four(s_tok):\n",
    "    cal_list = [0,1],[0,2],[0,1]\n",
    "        # [case0[4칸 점수,upcount], case1.., case3]\n",
    "    # case0\n",
    "    cal_list[0][0] += s_tok[0]+s_tok[1]+s_tok[3]\n",
    "    # case1\n",
    "    cal_list[1][0] += s_tok[0]+s_tok[2]+s_tok[3]\n",
    "    # case2\n",
    "    cal_list[2][0] += s_tok[1]+s_tok[3]\n",
    "    \n",
    "    return cal_list\n",
    "# 밟을 계단들의 점수 합 계산"
   ]
  },
  {
   "cell_type": "code",
   "execution_count": 117,
   "metadata": {},
   "outputs": [],
   "source": [
    "four_token = len(s)//4\n",
    "tok = 0\n",
    "tok_list = [[] for _ in range(four_token+1)]\n",
    "    \n",
    "while tok <four_token:\n",
    "    tok_list[tok] = s[tok*4:(tok+1)*4]\n",
    "    tok+=1\n",
    "tok_list[tok] = s[tok*4:]"
   ]
  },
  {
   "cell_type": "code",
   "execution_count": 123,
   "metadata": {},
   "outputs": [
    {
     "name": "stdout",
     "output_type": "stream",
     "text": [
      "[10, 20]\n",
      "직전까지의 합: ([55, 1], [50, 2], [45, 1])\n"
     ]
    }
   ],
   "source": [
    "first = [0,1],[0,2],[0,1]\n",
    "# 앞의 토큰에서\n",
    "        # case0, case1, case2\n",
    "for check in tok_list:\n",
    "    if len(check) ==4:\n",
    "        second = upper_four(check)\n",
    "        for i in second:\n",
    "            if i[1] ==1:\n",
    "                i[0] = max(first[0][0]+i[0], first[1][0]+i[0],\n",
    "                           first[2][0]+i[0])\n",
    "                # 앞의 모든 경우를 뒤의 토큰과 검사, 가장 높은 점수 선택, 나머지 0\n",
    "            elif i[1] ==2:\n",
    "                i[0] = max(first[1][0]+i[0], first[2][0]+i[0])\n",
    "                # 앞의 case1,2경우를 뒤의 토큰과 검사, 가장 높은 점수 선택, 나머지 0\n",
    "    else:\n",
    "        # 마지막 부분\n",
    "        print(check)\n",
    "        print('직전까지의 합:',first)\n",
    "        result1, result2 = 0, 0\n",
    "        for i in first:\n",
    "            if i[1] == 1:\n",
    "                if len(check) <2: result =\n",
    "                result1 = \n",
    "            elif i[1]==2:\n",
    "                if len(check) <2: result-=1\n",
    "                if i[0]+check[1] > result: result=i[0]+check[1]\n",
    "                # 무조건 2칸 뛰는것\n",
    "        \n",
    "    first = second"
   ]
  },
  {
   "cell_type": "code",
   "execution_count": 119,
   "metadata": {},
   "outputs": [
    {
     "data": {
      "text/plain": [
       "0"
      ]
     },
     "execution_count": 119,
     "metadata": {},
     "output_type": "execute_result"
    }
   ],
   "source": [
    "first[0][0]"
   ]
  },
  {
   "cell_type": "code",
   "execution_count": 127,
   "metadata": {},
   "outputs": [
    {
     "name": "stdout",
     "output_type": "stream",
     "text": [
      "[10, 20]\n",
      "직전까지의 합: ([55, 1], [50, 2], [45, 1])\n"
     ]
    }
   ],
   "source": [
    "print(check)\n",
    "print('직전까지의 합:',first)\n",
    "result1, result2 = [0], [0]\n",
    "for i in first:\n",
    "    if i[1] == 1: # 1칸 내지, 두칸 올라갈 수 있을경우\n",
    "        if len(check) ==1: result1.append(i[0]+check[0])\n",
    "            # 남은 계단이 1칸\n",
    "        elif len(check) ==2: \n",
    "            result1.append(i[0]+check[1])\n",
    "            # 남은 계단이 2칸\n",
    "        else:\n",
    "            result1.append(max(i[0]+check[0]+check[2], i[0]+check[1]+check[2]))\n",
    "            # 남은 계단이 3칸\n",
    "    elif i[1]==2:# 무조건 두칸 올라가야하는 경우\n",
    "        if len(check) ==1: result2.append(-1)# 1칸밖에 없을때\n",
    "        elif len(check) ==2: result2.append(i[0]+check[1])# 2칸 올라갈 수 있을때\n",
    "        else: result2.append(-1) # 3칸은 리타이어\n",
    "        "
   ]
  },
  {
   "cell_type": "code",
   "execution_count": 131,
   "metadata": {},
   "outputs": [
    {
     "name": "stdout",
     "output_type": "stream",
     "text": [
      "75\n"
     ]
    }
   ],
   "source": [
    "print(max(max(result1),max(result2)))"
   ]
  },
  {
   "cell_type": "code",
   "execution_count": 115,
   "metadata": {},
   "outputs": [
    {
     "data": {
      "text/plain": [
       "([55, 1], [50, 2], [45, 1])"
      ]
     },
     "execution_count": 115,
     "metadata": {},
     "output_type": "execute_result"
    }
   ],
   "source": [
    "second"
   ]
  },
  {
   "cell_type": "code",
   "execution_count": null,
   "metadata": {},
   "outputs": [],
   "source": [
    "# def upper_four(last_list,index, s, upcount, required, result):\n",
    "#     cal_list = [[,0],[,1],[,2],[,0]]\n",
    "#         # [case0[4칸 점수,upcount], case1.., case3]\n",
    "#     if upcount == 0 or upcount==1:\n",
    "#         if upcount ==0:\n",
    "#             case_0func() ? case_1func() : \n",
    "#                 큰거에 따라 \n",
    "#                 case0->upcount=0 or case1->upcount=1\n",
    "#             # case0\n",
    "#         case_1func()\n",
    "#         # case1\n",
    "#     if upcount ==0 or upcount ==1:\n",
    "        \n",
    "#         upcount=1\n",
    "#         # case1"
   ]
  },
  {
   "cell_type": "code",
   "execution_count": null,
   "metadata": {},
   "outputs": [],
   "source": []
  }
 ],
 "metadata": {
  "kernelspec": {
   "display_name": "Python 3",
   "language": "python",
   "name": "python3"
  },
  "language_info": {
   "codemirror_mode": {
    "name": "ipython",
    "version": 3
   },
   "file_extension": ".py",
   "mimetype": "text/x-python",
   "name": "python",
   "nbconvert_exporter": "python",
   "pygments_lexer": "ipython3",
   "version": "3.7.6"
  }
 },
 "nbformat": 4,
 "nbformat_minor": 2
}
