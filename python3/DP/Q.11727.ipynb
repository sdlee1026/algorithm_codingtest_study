{
 "cells": [
  {
   "cell_type": "markdown",
   "metadata": {},
   "source": [
    "## 문제\n",
    "\n",
    "https://www.acmicpc.net/problem/11727\n",
    "\n",
    "## 접근법\n",
    "점화식 접근:\n",
    "\n",
    "* 2x0 -> 0, 초기화\n",
    "\n",
    "* 2x1 직사각형을 채우는 case -> 1, 초기화\n",
    "\n",
    "* 2x2 직사각형을 채우는 case -> 3, 초기화\n",
    "     * 2x1로 채우는 경우 2가지, 2x2로 채우는 경우 1\n",
    "\n",
    "* 2x3 ?? -> 2x2 case + 2x1 case(좌측에 들어갈 경우, 우측에 들어갈 경우)*2 \n",
    "\n",
    "f(n) : f(n-1) + f(n-2)*2\n",
    "\n",
    "\n",
    "## 코드\n",
    "\n",
    "```\n",
    "import sys\n",
    "input = sys.stdin.readline\n",
    "\n",
    "n = int(input())\n",
    "dp = [0 for i in range(n)]\n",
    "dp[1:2] = 1,3\n",
    "for i in range(3,n+1):\n",
    "    dp[i] = (dp[i-1] + (dp[i-2]*2))%10007\n",
    "print(dp[n])\n",
    "\n",
    "\n",
    "```\n"
   ]
  },
  {
   "cell_type": "code",
   "execution_count": 53,
   "metadata": {},
   "outputs": [
    {
     "name": "stdout",
     "output_type": "stream",
     "text": [
      "989\n",
      "3106\n"
     ]
    }
   ],
   "source": [
    "n = int(input())\n",
    "dp = [0 for _ in range(n)]\n",
    "dp[1:2] = 1,3\n",
    "for i in range(3,n+1):\n",
    "    dp[i] = (dp[i-1] + (dp[i-2]*2))%10007\n",
    "print(dp[n])"
   ]
  },
  {
   "cell_type": "code",
   "execution_count": null,
   "metadata": {},
   "outputs": [],
   "source": []
  }
 ],
 "metadata": {
  "kernelspec": {
   "display_name": "Python 3",
   "language": "python",
   "name": "python3"
  },
  "language_info": {
   "codemirror_mode": {
    "name": "ipython",
    "version": 3
   },
   "file_extension": ".py",
   "mimetype": "text/x-python",
   "name": "python",
   "nbconvert_exporter": "python",
   "pygments_lexer": "ipython3",
   "version": "3.7.6"
  }
 },
 "nbformat": 4,
 "nbformat_minor": 2
}
