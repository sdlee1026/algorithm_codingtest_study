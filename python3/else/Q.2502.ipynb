{
 "cells": [
  {
   "cell_type": "code",
   "execution_count": null,
   "metadata": {},
   "outputs": [],
   "source": [
    "# Q.2502\n",
    "# import sys\n",
    "# input=sys.stdin.readline\n",
    "Day, K = map(int, input().split())\n"
   ]
  },
  {
   "cell_type": "code",
   "execution_count": null,
   "metadata": {},
   "outputs": [],
   "source": [
    "# answer = a, b, a+b, a+2b, 2a+3b, 3a+5b ...\n",
    "a_val = [1, 0, 1, 1, 2, 3, 5, 8]\n",
    "# a의 계수들\n",
    "# a[i] = b[i-1]"
   ]
  },
  {
   "cell_type": "code",
   "execution_count": null,
   "metadata": {},
   "outputs": [],
   "source": [
    "b_val = [0, 1, 1, 2, 3, 5, 8, 13]\n",
    "# b[i] = b[i-1]+ a[i-1]\n",
    "# b[i-1] = b[i] - a[i-1] \n",
    "    # b[i] = b[i+1] - a[i]"
   ]
  },
  {
   "cell_type": "code",
   "execution_count": null,
   "metadata": {},
   "outputs": [],
   "source": [
    "a,b= [1],[0]\n",
    "for i in range(1,Day):\n",
    "    a.append(b[i-1])\n",
    "    b.append(b[i-1] + a[i-1])"
   ]
  },
  {
   "cell_type": "code",
   "execution_count": null,
   "metadata": {},
   "outputs": [],
   "source": [
    "flag = False\n",
    "day_one = 1\n",
    "day_two = 1\n",
    "while flag==False:\n",
    "    for num in range(1,day_two+1):\n",
    "        day_one = num\n",
    "        if (a[-1]*day_one) + (b[-1]*day_two) == K:\n",
    "            flag=True\n",
    "            break\n",
    "    day_two +=1"
   ]
  },
  {
   "cell_type": "code",
   "execution_count": null,
   "metadata": {},
   "outputs": [],
   "source": [
    "\n",
    "print(day_one)\n",
    "print(day_two-1)"
   ]
  },
  {
   "cell_type": "code",
   "execution_count": 11,
   "metadata": {},
   "outputs": [
    {
     "name": "stdout",
     "output_type": "stream",
     "text": [
      "6 41\n",
      "2\n",
      "7\n"
     ]
    }
   ],
   "source": [
    "Day, K = map(int, input().split())\n",
    "a,b=[1],[0]\n",
    "flag = False\n",
    "A,B=0,1\n",
    "for i in range(1,Day):\n",
    "    a.append(b[i-1])\n",
    "    b.append(b[i-1] + a[i-1])\n",
    "while flag == False:\n",
    "    A+=1\n",
    "    for B in range(A, 100000):\n",
    "        if (a[-1]*A) + (b[-1]*B) == K:\n",
    "            flag = True\n",
    "            break\n",
    "print('{}\\n{}'.format(A, B))"
   ]
  },
  {
   "cell_type": "code",
   "execution_count": null,
   "metadata": {},
   "outputs": [],
   "source": []
  }
 ],
 "metadata": {
  "kernelspec": {
   "display_name": "Python 3",
   "language": "python",
   "name": "python3"
  },
  "language_info": {
   "codemirror_mode": {
    "name": "ipython",
    "version": 3
   },
   "file_extension": ".py",
   "mimetype": "text/x-python",
   "name": "python",
   "nbconvert_exporter": "python",
   "pygments_lexer": "ipython3",
   "version": "3.7.6"
  }
 },
 "nbformat": 4,
 "nbformat_minor": 2
}
