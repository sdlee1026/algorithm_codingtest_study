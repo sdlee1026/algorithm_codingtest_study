{
 "cells": [
  {
   "cell_type": "code",
   "execution_count": null,
   "metadata": {},
   "outputs": [],
   "source": [
    "# Q.1316\n",
    "N = int(input())\n",
    "word = [input() for i in range(N)]\n",
    "not_group_count =0\n",
    "for i in word:\n",
    "    word_group = set()\n",
    "    before = i[0]\n",
    "    word_group.add(i[0])\n",
    "    if len(i) ==1:\n",
    "        continue;\n",
    "    else:\n",
    "        for j in i[1:]:\n",
    "            if before == j:\n",
    "                before = j\n",
    "            elif j in word_group:\n",
    "                not_group_count -=1\n",
    "                break;\n",
    "            else:\n",
    "                before = j\n",
    "                word_group.add(j)\n",
    "                \n",
    "print(N+not_group_count)\n",
    "            \n",
    "        "
   ]
  },
  {
   "cell_type": "code",
   "execution_count": 54,
   "metadata": {},
   "outputs": [
    {
     "name": "stdout",
     "output_type": "stream",
     "text": [
      "3\n",
      "abba\n",
      "aba\n",
      "aaa\n",
      "1\n"
     ]
    }
   ],
   "source": [
    "result = 0\n",
    "for i in range(int(input())):\n",
    "    word = input()\n",
    "    if list(word) == sorted(word, key=word.find):\n",
    "        result +=1\n",
    "print(result)"
   ]
  },
  {
   "cell_type": "code",
   "execution_count": null,
   "metadata": {},
   "outputs": [],
   "source": [
    "'''\n",
    "\"h\"를 넣으면, \"happy\".find(\"h\") = 0이므로,\n",
    "\"h\"의 정렬 키는 0입니다.\n",
    "\n",
    "\"a\"를 넣으면, \"happy\".find(\"a\") = 1이므로,\n",
    "\"a\"의 정렬 키는 1입니다.\n",
    "\n",
    "이런 식으로 전부 키를 구하면 \n",
    "[\"h\"=0, \"a\"=1, \"p\"=2, \"p\"=2, \"y\"=4]인데,\n",
    "이미 0, 1, 2, 4 순서로 정렬되어 있으니 \n",
    "[\"h\", \"a\", \"p\", \"p\", \"y\"]를 그대로 반환합니다.\n",
    "\n",
    "이걸 \"abcabc\"에도 적용해보면, \n",
    "[\"a\"=0, \"b\"=1, \"c\"=2, \"a\"=0, \"b\"=1, \"c\"=2]이므로 \n",
    "0, 1, 2 순으로 정렬하면 \n",
    "[\"a\", \"a\", \"b\", \"b\", \"c\", \"c\"]가 됩니다.\n",
    "\n",
    "이게 그냥 리스트 형식으로 바꾼경우와 같으면 그룹 글자\n",
    "'''"
   ]
  }
 ],
 "metadata": {
  "kernelspec": {
   "display_name": "Python 3",
   "language": "python",
   "name": "python3"
  },
  "language_info": {
   "codemirror_mode": {
    "name": "ipython",
    "version": 3
   },
   "file_extension": ".py",
   "mimetype": "text/x-python",
   "name": "python",
   "nbconvert_exporter": "python",
   "pygments_lexer": "ipython3",
   "version": "3.7.6"
  }
 },
 "nbformat": 4,
 "nbformat_minor": 2
}
