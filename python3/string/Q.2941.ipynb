{
 "cells": [
  {
   "cell_type": "code",
   "execution_count": 164,
   "metadata": {},
   "outputs": [
    {
     "name": "stdout",
     "output_type": "stream",
     "text": [
      "c=c=\n",
      "2\n"
     ]
    }
   ],
   "source": [
    "# Q.2941\n",
    "check = ['c=', 'c-', 'dz=', 'd-', 'lj', 'nj', 's=', 'z=']\n",
    "S = input()\n",
    "str_len = len(S)\n",
    "result =0\n",
    "limit = 0\n",
    "for word in check:\n",
    "    while (word in S) or (str_len>limit):\n",
    "        if word in S:\n",
    "            S = S.replace(word,' ',1)\n",
    "            result+=1\n",
    "        limit+=1\n",
    "S = S.replace(' ','')\n",
    "print(result+len(S))"
   ]
  },
  {
   "cell_type": "code",
   "execution_count": 161,
   "metadata": {},
   "outputs": [],
   "source": [
    "# for word in check:\n",
    "#     if word in S:\n",
    "#         print(word)\n",
    "#         tok = S.split(word)\n",
    "#         for tok_word in tok:\n",
    "#             if len(tok_word)<1:\n",
    "#                 S = S.replace(word,'',1)\n",
    "#                 count+=1\n",
    "                \n",
    "#         print(tok)\n",
    "#     print('row : ',S)"
   ]
  },
  {
   "cell_type": "code",
   "execution_count": 167,
   "metadata": {},
   "outputs": [
    {
     "name": "stdout",
     "output_type": "stream",
     "text": [
      "c=c=\n",
      "2\n"
     ]
    }
   ],
   "source": [
    "l = input ()\n",
    "\n",
    "c = ['c=', 'c-', 'dz=', 'd-', 'lj', 'nj', 's=', 'z=']\n",
    "\n",
    "for i in range(0, len(c)) :\n",
    "    l = l.replace(c[i], '_')\n",
    "    \n",
    "print(len(l))"
   ]
  },
  {
   "cell_type": "code",
   "execution_count": 168,
   "metadata": {},
   "outputs": [
    {
     "data": {
      "text/plain": [
       "'__'"
      ]
     },
     "execution_count": 168,
     "metadata": {},
     "output_type": "execute_result"
    }
   ],
   "source": []
  },
  {
   "cell_type": "code",
   "execution_count": null,
   "metadata": {},
   "outputs": [],
   "source": []
  }
 ],
 "metadata": {
  "kernelspec": {
   "display_name": "Python 3",
   "language": "python",
   "name": "python3"
  },
  "language_info": {
   "codemirror_mode": {
    "name": "ipython",
    "version": 3
   },
   "file_extension": ".py",
   "mimetype": "text/x-python",
   "name": "python",
   "nbconvert_exporter": "python",
   "pygments_lexer": "ipython3",
   "version": "3.7.6"
  }
 },
 "nbformat": 4,
 "nbformat_minor": 2
}
