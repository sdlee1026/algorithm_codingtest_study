{
 "cells": [
  {
   "cell_type": "code",
   "execution_count": 36,
   "metadata": {},
   "outputs": [
    {
     "name": "stdout",
     "output_type": "stream",
     "text": [
      "Mazatneunde Wae Teullyeoyo Mazatneunde Wae Teullyeoyo\n",
      "6\n"
     ]
    }
   ],
   "source": [
    "# Q.1152\n",
    "from collections import Counter\n",
    "\n",
    "S = input()\n",
    "s_counter = Counter(S.split())\n",
    "result = [i for i in s_counter.values()]\n",
    "print(sum(result))"
   ]
  },
  {
   "cell_type": "code",
   "execution_count": 37,
   "metadata": {},
   "outputs": [
    {
     "name": "stdout",
     "output_type": "stream",
     "text": [
      "Mazatneunde Wae Teullyeoyo Mazatneunde Wae Teullyeoyo\n",
      "6\n"
     ]
    }
   ],
   "source": [
    "print(len(input().split()))"
   ]
  },
  {
   "cell_type": "code",
   "execution_count": 35,
   "metadata": {},
   "outputs": [
    {
     "name": "stdout",
     "output_type": "stream",
     "text": [
      "Mazatneunde Wae Teullyeoyo Mazatneunde Wae Teullyeoyo\n"
     ]
    },
    {
     "data": {
      "text/plain": [
       "['Mazatneunde', 'Wae', 'Teullyeoyo', 'Mazatneunde', 'Wae', 'Teullyeoyo']"
      ]
     },
     "execution_count": 35,
     "metadata": {},
     "output_type": "execute_result"
    }
   ],
   "source": [
    "input().split()\n"
   ]
  },
  {
   "cell_type": "code",
   "execution_count": null,
   "metadata": {},
   "outputs": [],
   "source": []
  }
 ],
 "metadata": {
  "kernelspec": {
   "display_name": "Python 3",
   "language": "python",
   "name": "python3"
  },
  "language_info": {
   "codemirror_mode": {
    "name": "ipython",
    "version": 3
   },
   "file_extension": ".py",
   "mimetype": "text/x-python",
   "name": "python",
   "nbconvert_exporter": "python",
   "pygments_lexer": "ipython3",
   "version": "3.7.6"
  }
 },
 "nbformat": 4,
 "nbformat_minor": 2
}
