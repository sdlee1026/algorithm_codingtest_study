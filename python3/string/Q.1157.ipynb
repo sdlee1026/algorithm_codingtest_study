{
 "cells": [
  {
   "cell_type": "code",
   "execution_count": 90,
   "metadata": {},
   "outputs": [
    {
     "name": "stdout",
     "output_type": "stream",
     "text": [
      "AaAawweQwe\n",
      "A\n"
     ]
    }
   ],
   "source": [
    "# Q.1157\n",
    "S = str(input()).upper()\n",
    "\n",
    "alpha_dict = {}\n",
    "top = 0\n",
    "top_key = ''\n",
    "\n",
    "for s in S:\n",
    "    if s in alpha_dict.keys():\n",
    "        alpha_dict[s] = alpha_dict.get(s) + 1\n",
    "    else:\n",
    "        alpha_dict[s] = 1\n",
    "        \n",
    "for i in alpha_dict:\n",
    "    if alpha_dict.get(i) > top:\n",
    "        top = alpha_dict.get(i)\n",
    "        \n",
    "for key, values in alpha_dict.items():\n",
    "    if values == top:\n",
    "        top_key += key\n",
    "        \n",
    "print(top_key if len(top_key) <2 else '?')"
   ]
  },
  {
   "cell_type": "code",
   "execution_count": 89,
   "metadata": {},
   "outputs": [
    {
     "name": "stdout",
     "output_type": "stream",
     "text": [
      "asdqwea\n",
      "A\n"
     ]
    }
   ],
   "source": [
    "from collections import Counter\n",
    "S = input().upper()\n",
    "\n",
    "s_counter = Counter(S.upper())\n",
    "max_value = max(s_counter.values())\n",
    "max_str = ''\n",
    "for k, v in s_counter.items():\n",
    "    if max_value == v:\n",
    "        max_str += k\n",
    "print(max_str if len(max_str)<2 else '?')"
   ]
  },
  {
   "cell_type": "code",
   "execution_count": null,
   "metadata": {},
   "outputs": [],
   "source": []
  }
 ],
 "metadata": {
  "kernelspec": {
   "display_name": "Python 3",
   "language": "python",
   "name": "python3"
  },
  "language_info": {
   "codemirror_mode": {
    "name": "ipython",
    "version": 3
   },
   "file_extension": ".py",
   "mimetype": "text/x-python",
   "name": "python",
   "nbconvert_exporter": "python",
   "pygments_lexer": "ipython3",
   "version": "3.7.6"
  }
 },
 "nbformat": 4,
 "nbformat_minor": 2
}
