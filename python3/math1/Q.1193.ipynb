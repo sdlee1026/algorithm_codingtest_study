{
 "cells": [
  {
   "cell_type": "code",
   "execution_count": 1,
   "metadata": {},
   "outputs": [],
   "source": [
    "# Q.1193\n",
    "# 1/1 1\n",
    "\n",
    "# 1/2 2\n",
    "# 2/1 3\n",
    "\n",
    "# 3/1 4\n",
    "# 2/2 5\n",
    "# 1/3 6\n",
    "\n",
    "# 1/4 7\n",
    "# 2/3 8\n",
    "# 3/2 9\n",
    "# 4/1 10\n",
    "\n",
    "# 5/1 11\n",
    "# 4/2 12\n",
    "# 3/3 13\n",
    "# 2/4 14\n",
    "# 1/5 15"
   ]
  },
  {
   "cell_type": "code",
   "execution_count": 64,
   "metadata": {},
   "outputs": [
    {
     "name": "stdout",
     "output_type": "stream",
     "text": [
      "21\n",
      "6/1\n"
     ]
    }
   ],
   "source": [
    "N = int(input())\n",
    "check = N\n",
    "div_num = 1\n",
    "start = 0\n",
    "while True:\n",
    "    check -= div_num\n",
    "    if check <= 0:\n",
    "        for i in range(div_num):\n",
    "            start += i\n",
    "        start += 1\n",
    "        break;\n",
    "    div_num += 1\n",
    "if div_num % 2 == 1:\n",
    "    for i in range(div_num,0,-1):\n",
    "        if N == start:\n",
    "            output = str(i)+'/'+str(div_num+1-i)\n",
    "            print(output)\n",
    "        start+=1\n",
    "else:\n",
    "    for i in range(1,div_num+1):\n",
    "        if N == start:\n",
    "            output = str(i)+'/'+str(div_num+1-i)\n",
    "            print(output)\n",
    "        start+=1"
   ]
  },
  {
   "cell_type": "code",
   "execution_count": null,
   "metadata": {},
   "outputs": [],
   "source": []
  }
 ],
 "metadata": {
  "kernelspec": {
   "display_name": "Python 3",
   "language": "python",
   "name": "python3"
  },
  "language_info": {
   "codemirror_mode": {
    "name": "ipython",
    "version": 3
   },
   "file_extension": ".py",
   "mimetype": "text/x-python",
   "name": "python",
   "nbconvert_exporter": "python",
   "pygments_lexer": "ipython3",
   "version": "3.7.6"
  }
 },
 "nbformat": 4,
 "nbformat_minor": 2
}
