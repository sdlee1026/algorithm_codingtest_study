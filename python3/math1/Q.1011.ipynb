{
 "cells": [
  {
   "cell_type": "code",
   "execution_count": 1,
   "metadata": {},
   "outputs": [],
   "source": [
    "# Q.1011\n",
    "\n",
    "# y-x : 짝수\n",
    "\n",
    "# if distance : 16 x,y (0,16)__ y-x : 16\n",
    "# x 1 -> 2 -> 3 -> 4 -> 3 -> 2 -> 1 -> y\n",
    "# 0   1    3    6    10   13   15   16\n",
    "    # 16 -> 2^4\n",
    "    # max speed : 4 int(sqrt(2, 16))\n",
    "    # count : sqrt(2,16)*2 - 1 : 7\n",
    "\n",
    "# if distance : 4 x,y (1,5)__ y-x : 4\n",
    "# x 1 -> 2 -> 1 -> y\n",
    "# 1   2    4    5\n",
    "    # 4 -> 2^2\n",
    "    # max speed : 2 int(sqrt(2, 4))\n",
    "    # count : sqrt(2,4)*2 -1 : 3\n",
    "    "
   ]
  },
  {
   "cell_type": "code",
   "execution_count": 2,
   "metadata": {},
   "outputs": [],
   "source": [
    "# y-x : 홀수\n",
    "\n",
    "# if distance : x, y (0,3)__ y-x : 3 2^2 -1\n",
    "# x 1 -> 1 -> 1 -> y\n",
    "# 0   1    2   3\n",
    "    # 3 -> 2^1 + 1\n",
    "    # max speed : 1,  int(sprt(2, 3))\n",
    "    # count : int(sqrt(2,3))*(2-max speed) +1 : 3\n",
    "\n",
    "# if  distance : x, y (45, 50)__ y-x : 5 2^2 +1\n",
    "# x 1 ->  2 -> 1 -> 1 -> y\n",
    "# 45   46   48   49   50\n",
    "    # 5 -> 2^2 +1\n",
    "    # max speed : 2, int(sqrt(2,5))\n",
    "    # count : int(sqrt(2,5))*(2) +1 : 5\n",
    "# if distance : 9 (0, 9)\n",
    "# 1 2 3 2 1"
   ]
  },
  {
   "cell_type": "code",
   "execution_count": 26,
   "metadata": {},
   "outputs": [
    {
     "name": "stdout",
     "output_type": "stream",
     "text": [
      "3\n",
      "0 3\n",
      "1 5\n",
      "45 50\n"
     ]
    }
   ],
   "source": [
    "answer = []\n",
    "for _ in range(int(input())):\n",
    "    x, y = map(int, input().split())\n",
    "    dis = y-x\n",
    "    if (dis)%2 == 1:\n",
    "        answer.append( (int(dis**0.5)*2) +1)\n",
    "    else:\n",
    "        answer.append( int(dis**0.5)*2 -1)"
   ]
  },
  {
   "cell_type": "code",
   "execution_count": 18,
   "metadata": {},
   "outputs": [
    {
     "data": {
      "text/plain": [
       "2"
      ]
     },
     "execution_count": 18,
     "metadata": {},
     "output_type": "execute_result"
    }
   ],
   "source": [
    "int(dis**0.5)"
   ]
  },
  {
   "cell_type": "code",
   "execution_count": 27,
   "metadata": {},
   "outputs": [
    {
     "data": {
      "text/plain": [
       "[3, 3, 5]"
      ]
     },
     "execution_count": 27,
     "metadata": {},
     "output_type": "execute_result"
    }
   ],
   "source": [
    "answer"
   ]
  },
  {
   "cell_type": "code",
   "execution_count": 28,
   "metadata": {},
   "outputs": [],
   "source": [
    "                                    # /1\n",
    "                                    # dis:1\n",
    "                                    # count :1, (0)+1\n",
    "    \n",
    "# 1 1\n",
    "# dis:2\n",
    "# count : 2, (1*2)+0\n",
    "\n",
    "                                    # 1 1 /1\n",
    "                                    # dis:3\n",
    "                                    # count : 3, (1*2)+1\n",
    "    \n",
    "# 1 2 1\n",
    "# dis:4\n",
    "# count : 3, (1*2)+1\n",
    "                                    # 1 2 1 /1\n",
    "                                    # dis:5\n",
    "                                    # count : 4, 2*2\n",
    "    \n",
    "# 1 2 2 1 >4\n",
    "# dis:6\n",
    "# count : 4, 2*2\n",
    "                                    # 1 2 2 1 1\n",
    "                                    # dis : 7\n",
    "                                    # count : 4\n",
    "# 1 2 2 2 1 >5\n",
    "# dis:8\n",
    "# count: 5, 2*2 +1\n",
    "                                    # 1 2 3 2 1\n",
    "# 1 2 3 2 1 1 >6\n",
    "# dis: 10\n",
    "# count:6\n",
    "                                    # 1 2 3 2 2 1\n",
    "                                    # 11\n",
    "# 1~3 : 1등장\n",
    "# 4~8 : 2등장\n",
    "# 9~15 : 3등장\n",
    "# 16~ 31 : 4등장"
   ]
  },
  {
   "cell_type": "code",
   "execution_count": 36,
   "metadata": {},
   "outputs": [
    {
     "name": "stdout",
     "output_type": "stream",
     "text": [
      "3\n",
      "0 3\n",
      "1 5\n",
      "45 50\n",
      "3\n",
      "\n",
      "3\n",
      "\n",
      "4\n",
      "\n"
     ]
    }
   ],
   "source": [
    "import sys\n",
    "import math\n",
    "\n",
    "results = []\n",
    "\n",
    "for _ in range(int(input())):\n",
    "    x, y = map(int,input().split())\n",
    "    distance = y - x\n",
    "\n",
    "    factor = math.ceil(math.sqrt(distance))\n",
    "\n",
    "    flag1 = (factor - 1) ** 2\n",
    "    flag2 = factor ** 2\n",
    "\n",
    "    if distance >= (flag1 + flag2) / 2: res = factor * 2 - 1\n",
    "    else: res = factor * 2 - 2\n",
    "\n",
    "    results.append(res)\n",
    "\n",
    "for result in results:\n",
    "    print(str(result)+'\\n')"
   ]
  },
  {
   "cell_type": "code",
   "execution_count": null,
   "metadata": {},
   "outputs": [],
   "source": []
  }
 ],
 "metadata": {
  "kernelspec": {
   "display_name": "Python 3",
   "language": "python",
   "name": "python3"
  },
  "language_info": {
   "codemirror_mode": {
    "name": "ipython",
    "version": 3
   },
   "file_extension": ".py",
   "mimetype": "text/x-python",
   "name": "python",
   "nbconvert_exporter": "python",
   "pygments_lexer": "ipython3",
   "version": "3.7.6"
  }
 },
 "nbformat": 4,
 "nbformat_minor": 2
}
