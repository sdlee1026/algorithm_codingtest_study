{
 "cells": [
  {
   "cell_type": "code",
   "execution_count": 1,
   "metadata": {},
   "outputs": [],
   "source": [
    "# Q.2839\n",
    "# 사탕가게 설탕 N킬로 배달\n",
    "# 봉지는 3,5 봉지 존재\n",
    "# 최대한 적은봉지 사용\n",
    "# ex) 18kg -> 3*6 (6봉), 5*3+3*1 (4봉)가능\n",
    "# 5로 나누어진다면 5짜리 봉지로 다 담기\n",
    "    # 아니라면 3짜리 봉지로 하나씩 담아보기\n",
    "    # 반복"
   ]
  },
  {
   "cell_type": "code",
   "execution_count": 109,
   "metadata": {},
   "outputs": [
    {
     "name": "stdout",
     "output_type": "stream",
     "text": [
      "11\n",
      "3\n"
     ]
    }
   ],
   "source": [
    "inp = int(input())\n",
    "Box = 0\n",
    "while True:\n",
    "    if (inp % 5) == 0:\n",
    "        Box = Box + (inp//5)\n",
    "        print(Box)\n",
    "        break\n",
    "    inp = inp-3\n",
    "    Box += 1\n",
    "    if inp < 0:\n",
    "        print(\"-1\")\n",
    "        break"
   ]
  },
  {
   "cell_type": "code",
   "execution_count": null,
   "metadata": {},
   "outputs": [],
   "source": []
  },
  {
   "cell_type": "code",
   "execution_count": null,
   "metadata": {},
   "outputs": [],
   "source": []
  }
 ],
 "metadata": {
  "kernelspec": {
   "display_name": "Python 3",
   "language": "python",
   "name": "python3"
  },
  "language_info": {
   "codemirror_mode": {
    "name": "ipython",
    "version": 3
   },
   "file_extension": ".py",
   "mimetype": "text/x-python",
   "name": "python",
   "nbconvert_exporter": "python",
   "pygments_lexer": "ipython3",
   "version": "3.7.6"
  }
 },
 "nbformat": 4,
 "nbformat_minor": 2
}
