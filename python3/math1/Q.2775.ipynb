{
 "cells": [
  {
   "cell_type": "code",
   "execution_count": 2,
   "metadata": {},
   "outputs": [
    {
     "name": "stdout",
     "output_type": "stream",
     "text": [
      "2\n",
      "1\n",
      "3\n",
      "2\n",
      "3\n",
      "6\n",
      "10\n"
     ]
    }
   ],
   "source": [
    "# Q.2775\n",
    "geustList, tempList, answer_set, answer_num =[], [], [], []\n",
    "\n",
    "geustList.append([i+1 for i in range(14)])\n",
    "# 1층\n",
    "\n",
    "for test_case in range(int(input())):\n",
    "    k = int(input())\n",
    "    n = int(input())\n",
    "    answer_set.append([k,n])\n",
    "max_k=max(answer_set, key=lambda item:item[0])[0]\n",
    "max_n=max(answer_set, key=lambda item:item[1])[1]\n",
    "\n",
    "for j in range(1,max_k+1):\n",
    "    for i in range(max_n):\n",
    "        tempList.append(sum(geustList[j-1][:i+1]))\n",
    "    geustList.append(tempList)\n",
    "    tempList =[]\n",
    "    \n",
    "for q in answer_set:\n",
    "    answer_num.append(geustList[q[0]][q[1]-1])\n",
    "for a in answer_num:\n",
    "    print(a)\n"
   ]
  },
  {
   "cell_type": "code",
   "execution_count": 4,
   "metadata": {},
   "outputs": [
    {
     "data": {
      "text/plain": [
       "[[1, 2, 3, 4, 5, 6, 7, 8, 9, 10, 11, 12, 13, 14], [1, 3, 6], [1, 4, 10]]"
      ]
     },
     "execution_count": 4,
     "metadata": {},
     "output_type": "execute_result"
    }
   ],
   "source": [
    "geustList"
   ]
  },
  {
   "cell_type": "code",
   "execution_count": 10,
   "metadata": {},
   "outputs": [
    {
     "name": "stdout",
     "output_type": "stream",
     "text": [
      "2\n",
      "1\n",
      "3\n",
      "6\n",
      "2\n",
      "3\n",
      "10\n"
     ]
    }
   ],
   "source": [
    "T = int(input())\n",
    "for _ in range(T):\n",
    "    k = int(input())\n",
    "    n = int(input())\n",
    "    people = [ i for i in range(1, n+1)]\n",
    "    # 0층\n",
    "    for _ in range(k):\n",
    "        for c in range(1,n):\n",
    "            people[c] += people[c-1]\n",
    "    print(people[-1]) # 맨 끝값\n",
    "    # 1 2  3  > 0층\n",
    "    # 1 '' 6  > 1층 1 3 6\n",
    "                # ''경우, 1 2 3 에서  2(원래값) += 1(한 인덱스앞의값) > 3\n",
    "    # 1 '' [] > 2층 1 4 10\n",
    "                # ''경우, 마찬가지로 3(원래) +=1(한 인덱스앞) >4\n",
    "                # []경우, 마찬가지로 6(원래) +=4(한 인덱스앞) > 10\n",
    "    \n",
    "    \n",
    "    \n",
    "    "
   ]
  },
  {
   "cell_type": "code",
   "execution_count": null,
   "metadata": {},
   "outputs": [],
   "source": []
  }
 ],
 "metadata": {
  "kernelspec": {
   "display_name": "Python 3",
   "language": "python",
   "name": "python3"
  },
  "language_info": {
   "codemirror_mode": {
    "name": "ipython",
    "version": 3
   },
   "file_extension": ".py",
   "mimetype": "text/x-python",
   "name": "python",
   "nbconvert_exporter": "python",
   "pygments_lexer": "ipython3",
   "version": "3.7.6"
  }
 },
 "nbformat": 4,
 "nbformat_minor": 2
}
