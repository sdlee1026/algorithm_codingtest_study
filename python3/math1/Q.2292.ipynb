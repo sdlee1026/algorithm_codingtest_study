{
 "cells": [
  {
   "cell_type": "code",
   "execution_count": 265,
   "metadata": {},
   "outputs": [],
   "source": [
    "# Q.2292\n",
    "# +6씩 커지는 수열이 특징\n",
    "    # 거리 1 : 1\n",
    "    # 거리 2 : 2~7\n",
    "        # 1 > 7 , +6\n",
    "    # 거리 3 : 9~19  \n",
    "        # 7 > 19, +12"
   ]
  },
  {
   "cell_type": "code",
   "execution_count": 266,
   "metadata": {},
   "outputs": [
    {
     "name": "stdout",
     "output_type": "stream",
     "text": [
      "58\n",
      "5\n"
     ]
    }
   ],
   "source": [
    "N = int(input())\n",
    "\n",
    "plus_range, plus = 1, 6\n",
    "distance = 1\n",
    "if N == 1:\n",
    "    print(distance)\n",
    "else:\n",
    "    while True:\n",
    "        plus_range = plus_range + plus\n",
    "        distance+= 1\n",
    "        if N <= plus_range:\n",
    "            print(distance)\n",
    "            break\n",
    "        plus += 6"
   ]
  },
  {
   "cell_type": "code",
   "execution_count": 267,
   "metadata": {},
   "outputs": [
    {
     "name": "stdout",
     "output_type": "stream",
     "text": [
      "58\n",
      "5\n"
     ]
    }
   ],
   "source": [
    "n = int(input())\n",
    "cnt = 1\n",
    "\n",
    "while n > 1 : \n",
    "    n -= (6 * cnt)\n",
    "    cnt += 1\n",
    "    # 칸 소거법\n",
    "\n",
    "print(cnt)"
   ]
  },
  {
   "cell_type": "code",
   "execution_count": null,
   "metadata": {},
   "outputs": [],
   "source": []
  }
 ],
 "metadata": {
  "kernelspec": {
   "display_name": "Python 3",
   "language": "python",
   "name": "python3"
  },
  "language_info": {
   "codemirror_mode": {
    "name": "ipython",
    "version": 3
   },
   "file_extension": ".py",
   "mimetype": "text/x-python",
   "name": "python",
   "nbconvert_exporter": "python",
   "pygments_lexer": "ipython3",
   "version": "3.7.6"
  }
 },
 "nbformat": 4,
 "nbformat_minor": 2
}
