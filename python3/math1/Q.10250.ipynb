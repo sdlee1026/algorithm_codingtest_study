{
 "cells": [
  {
   "cell_type": "code",
   "execution_count": 9,
   "metadata": {},
   "outputs": [
    {
     "name": "stdout",
     "output_type": "stream",
     "text": [
      "2\n",
      "6 12 10\n",
      "30 50 72\n",
      "402\n",
      "1203\n"
     ]
    }
   ],
   "source": [
    "# Q.10250\n",
    "result=[]\n",
    "T = int(input())\n",
    "for i in range(T):\n",
    "    H, W, N = map(int, input().split())\n",
    "    gest_count = 1\n",
    "    for weight in range(1, W+1):\n",
    "        for height in range(1, H+1):\n",
    "            if N == gest_count:\n",
    "                if weight <10:\n",
    "                    result.append(str(height)+'0'+str(weight))\n",
    "                else:\n",
    "                    result.append(str(height)+str(weight))\n",
    "            gest_count+=1\n",
    "for i in range(T): print(result[i])"
   ]
  },
  {
   "cell_type": "code",
   "execution_count": null,
   "metadata": {},
   "outputs": [],
   "source": [
    "# Q.10250\n",
    "result=[]\n",
    "T = int(input())\n",
    "for i in range(T):\n",
    "    H, W, N = map(int, input().split())\n",
    "    gest_count = 1\n",
    "    for weight in range(1, W+1):\n",
    "        for height in range(1, H+1):\n",
    "            print(height, weight, gest_count)\n",
    "            if N == gest_count:\n",
    "                if weight <10:\n",
    "                    result.append(str(height)+'0'+str(weight))\n",
    "                else:\n",
    "                    result.append(str(height)+str(weight))\n",
    "            gest_count+=1\n",
    "for i in range(T): print(result[i])"
   ]
  }
 ],
 "metadata": {
  "kernelspec": {
   "display_name": "Python 3",
   "language": "python",
   "name": "python3"
  },
  "language_info": {
   "codemirror_mode": {
    "name": "ipython",
    "version": 3
   },
   "file_extension": ".py",
   "mimetype": "text/x-python",
   "name": "python",
   "nbconvert_exporter": "python",
   "pygments_lexer": "ipython3",
   "version": "3.7.6"
  }
 },
 "nbformat": 4,
 "nbformat_minor": 2
}
