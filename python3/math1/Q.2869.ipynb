{
 "cells": [
  {
   "cell_type": "code",
   "execution_count": 55,
   "metadata": {},
   "outputs": [
    {
     "name": "stdout",
     "output_type": "stream",
     "text": [
      "2 1 5\n",
      "4\n"
     ]
    }
   ],
   "source": [
    "# Q.2869\n",
    "# A 미터 올라감 낮\n",
    "# B 미터 내려감 밤\n",
    "    # if 정상에 올라가면 미끄러지지 않음\n",
    "# 몇일이 걸릴까 나무막대를 올라가려면?\n",
    "A, B, V = map(int, input().split())\n",
    "K = (V-B)/(A-B)\n",
    "print(int(K) if K==int(K) else int(K)+1)\n",
    "# V-B 밤에 내려가지 않는 경우의 거리\n",
    "# A-B 하루에 올라가는 거리로 나눠줌\n",
    "    # K가 int(K)보다 크다면 밤에 내려가는 경우가 있음 따라서 +1\n",
    "        # 나눴을 경우 정수로 나누어지지 않는 경우\n",
    "        # 0.x로 하루로 침\n",
    "    # K가 int(K)와 동일하다면 낮에 도착하여 그대로"
   ]
  },
  {
   "cell_type": "code",
   "execution_count": 56,
   "metadata": {},
   "outputs": [
    {
     "data": {
      "text/plain": [
       "4"
      ]
     },
     "execution_count": 56,
     "metadata": {},
     "output_type": "execute_result"
    }
   ],
   "source": [
    "V-B"
   ]
  },
  {
   "cell_type": "code",
   "execution_count": 57,
   "metadata": {},
   "outputs": [
    {
     "data": {
      "text/plain": [
       "1"
      ]
     },
     "execution_count": 57,
     "metadata": {},
     "output_type": "execute_result"
    }
   ],
   "source": [
    "A-B"
   ]
  },
  {
   "cell_type": "code",
   "execution_count": 59,
   "metadata": {},
   "outputs": [
    {
     "data": {
      "text/plain": [
       "4.0"
      ]
     },
     "execution_count": 59,
     "metadata": {},
     "output_type": "execute_result"
    }
   ],
   "source": [
    "K"
   ]
  },
  {
   "cell_type": "code",
   "execution_count": null,
   "metadata": {},
   "outputs": [],
   "source": []
  }
 ],
 "metadata": {
  "kernelspec": {
   "display_name": "Python 3",
   "language": "python",
   "name": "python3"
  },
  "language_info": {
   "codemirror_mode": {
    "name": "ipython",
    "version": 3
   },
   "file_extension": ".py",
   "mimetype": "text/x-python",
   "name": "python",
   "nbconvert_exporter": "python",
   "pygments_lexer": "ipython3",
   "version": "3.7.6"
  }
 },
 "nbformat": 4,
 "nbformat_minor": 2
}
