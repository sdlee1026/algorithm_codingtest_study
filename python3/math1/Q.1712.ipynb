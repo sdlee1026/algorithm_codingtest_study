{
 "cells": [
  {
   "cell_type": "code",
   "execution_count": 1,
   "metadata": {},
   "outputs": [],
   "source": [
    "# Q.1712\n",
    "# 임대료, 재산세, 보험료, 급여 지출 A만원\n",
    "# 노트북 생산당 재료비, 인건비 B만원 가변비용\n",
    "# Ex) A 1000, B 70\n",
    "    # 1대 생산 1000 + 1*70\n",
    "    # 10대 생산 1000 + 10*70\n",
    "# 노트북 가격이 C만원일때, 생산 대수를 늘리다보면\n",
    "    # 총 판매수익 > 총 비용보다 많아지게됨\n",
    "    # 이익 발생점 측정\n",
    "    # A + n*B >= C*n\n",
    "    # (C-B)*n <= A\n",
    "    # n <= A/(C-B)\n",
    "    # +1 하는 이유, 같아지는 시점 +1 < 이익발생 시점"
   ]
  },
  {
   "cell_type": "code",
   "execution_count": 14,
   "metadata": {},
   "outputs": [
    {
     "name": "stdout",
     "output_type": "stream",
     "text": [
      "1000 70 170\n",
      "11\n"
     ]
    }
   ],
   "source": [
    "A, B, C = map(int, input().split())\n",
    "\n",
    "if B >= C: print('-1')\n",
    "else : print(int(A/(C-B))+1)"
   ]
  },
  {
   "cell_type": "code",
   "execution_count": null,
   "metadata": {},
   "outputs": [],
   "source": []
  }
 ],
 "metadata": {
  "kernelspec": {
   "display_name": "Python 3",
   "language": "python",
   "name": "python3"
  },
  "language_info": {
   "codemirror_mode": {
    "name": "ipython",
    "version": 3
   },
   "file_extension": ".py",
   "mimetype": "text/x-python",
   "name": "python",
   "nbconvert_exporter": "python",
   "pygments_lexer": "ipython3",
   "version": "3.7.6"
  }
 },
 "nbformat": 4,
 "nbformat_minor": 2
}
