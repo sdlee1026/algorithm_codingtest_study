{
 "cells": [
  {
   "cell_type": "code",
   "execution_count": 3,
   "metadata": {},
   "outputs": [
    {
     "name": "stdout",
     "output_type": "stream",
     "text": [
      "5\n",
      "12 23\n",
      "35\n",
      "24 23\n",
      "47\n",
      "11 22\n",
      "33\n",
      "1111 1111\n",
      "2222\n",
      "222 223\n",
      "445\n"
     ]
    }
   ],
   "source": [
    "# Q.15552\n",
    "# import sys\n",
    "\n",
    "# T = int(sys.stdin.readline())\n",
    "\n",
    "# for i in range(T):\n",
    "#     a, b = map(int, sys.stdin.readline().split())\n",
    "#     print(a+b)\n",
    "    \n",
    "# jupyter 환경에서는 sys.stdin 안됨\n",
    "\n",
    "T = int(input())\n",
    "\n",
    "for i in range(T):\n",
    "    a, b = map(int, input().split())\n",
    "    print(a+b)"
   ]
  },
  {
   "cell_type": "code",
   "execution_count": null,
   "metadata": {},
   "outputs": [],
   "source": []
  },
  {
   "cell_type": "code",
   "execution_count": null,
   "metadata": {},
   "outputs": [],
   "source": []
  },
  {
   "cell_type": "code",
   "execution_count": null,
   "metadata": {},
   "outputs": [],
   "source": []
  }
 ],
 "metadata": {
  "kernelspec": {
   "display_name": "Python 3",
   "language": "python",
   "name": "python3"
  },
  "language_info": {
   "codemirror_mode": {
    "name": "ipython",
    "version": 3
   },
   "file_extension": ".py",
   "mimetype": "text/x-python",
   "name": "python",
   "nbconvert_exporter": "python",
   "pygments_lexer": "ipython3",
   "version": "3.7.6"
  }
 },
 "nbformat": 4,
 "nbformat_minor": 4
}
