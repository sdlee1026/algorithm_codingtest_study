{
 "cells": [
  {
   "cell_type": "code",
   "execution_count": 1,
   "metadata": {},
   "outputs": [],
   "source": [
    "# Q2\n",
    "# 입출력 예\n",
    "# n\tresults\treturn\n",
    "# 5\t[[4, 3], [4, 2], [3, 2], [1, 2], [2, 5]]\t2\n",
    "# 입출력 예 설명\n",
    "# 2번 선수는 [1, 3, 4] 선수에게 패배했고 5번 선수에게 승리했기 때문에 4위입니다.\n",
    "# 5번 선수는 4위인 2번 선수에게 패배했기 때문에 5위입니다.\n",
    "https://codedrive.tistory.com/190"
   ]
  },
  {
   "cell_type": "code",
   "execution_count": 188,
   "metadata": {},
   "outputs": [],
   "source": [
    "# hash\n",
    "def solution(n, results):\n",
    "    answer = 0\n",
    "    win = {}\n",
    "    lose ={}\n",
    "    for i in range(1, n+1):\n",
    "        win[i] = set()\n",
    "        lose[i] = set()\n",
    "    results.sort()\n",
    "    for i in range(1, n+1):\n",
    "        for re in results:\n",
    "            if re[0] == i:\n",
    "                win[i].add(re[1])\n",
    "            if re[1] == i:\n",
    "                lose[i].add(re[0])\n",
    "        for j in win[i]:\n",
    "            lose[j].update(lose[i])\n",
    "        for j in lose[i]:\n",
    "            win[j].update(win[i])\n",
    "    for i in range(1, n+1):\n",
    "        if len(win[i]) + len(lose[i]) == n-1:\n",
    "            answer+=1\n",
    "    return answer\n",
    "    "
   ]
  },
  {
   "cell_type": "code",
   "execution_count": 189,
   "metadata": {},
   "outputs": [
    {
     "data": {
      "text/plain": [
       "2"
      ]
     },
     "execution_count": 189,
     "metadata": {},
     "output_type": "execute_result"
    }
   ],
   "source": [
    "solution(5, [[4, 3], [4, 2], [3, 2], [1, 2], [2, 5]])"
   ]
  },
  {
   "cell_type": "code",
   "execution_count": 177,
   "metadata": {},
   "outputs": [],
   "source": [
    "def solution(n, results):\n",
    "    from collections import Counter\n",
    "    answer = 0\n",
    "    temp = 0\n",
    "    temp_ar = []\n",
    "    for i in results:\n",
    "        winner = i[0]\n",
    "        loser = i[1]\n",
    "        if winner not in temp_ar and loser not in temp_ar:\n",
    "            print('비었음', winner, loser)\n",
    "            temp_ar.append(loser)\n",
    "            temp_ar[1:] = temp_ar[0:]\n",
    "            temp_ar[0] = winner\n",
    "            print('temp_ar',temp_ar)\n",
    "            print('\\n')\n",
    "        else:\n",
    "            print('차있음')\n",
    "            if winner in temp_ar:\n",
    "                win_index = temp_ar.index(winner)\n",
    "                if loser not in temp_ar:\n",
    "                    # 승자만 있는 경우\n",
    "                    temp_ar[win_index+1:] = temp_ar[win_index:]\n",
    "                    temp_ar[win_index+1] = loser\n",
    "                    print('승자 인덱스', win_index)\n",
    "                    print('승자 이름', winner)\n",
    "                    print('temp_ar',temp_ar)\n",
    "                else:\n",
    "                    # 승자와 패자가 모두 있는 경우\n",
    "                    los_index = temp_ar.index(loser)\n",
    "                    temp = temp_ar[los_index]\n",
    "                    temp_ar[los_index] = temp_ar[win_index]\n",
    "                    temp_ar[win_index] = temp\n",
    "                    print('승자 패자 위치 정렬')\n",
    "                    print('temp_ar',temp_ar)\n",
    "                print('\\n')\n",
    "            else:\n",
    "                # 패자만 있는 경우\n",
    "                los_index = temp_ar.index(loser)\n",
    "                temp_ar[los_index+1:] = temp_ar[los_index:]\n",
    "                temp_ar[los_index] = winner\n",
    "                print('패자만 있는 경우')\n",
    "                print('temp_ar', temp_ar)\n",
    "                print('\\n')\n",
    "    \n",
    "    win_check = [0 for _ in range(n)] # 0 False, 1 True -> 순위확정\n",
    "    lose_check = [0 for _ in range(n)]\n",
    "    aq = []\n",
    "    for j in a:\n",
    "        aq += j\n",
    "    sigh_index=list(Counter(aq).values()).index(max(Counter(aq).values()))\n",
    "    sighed_who = list(Counter(aq).keys())[sigh_index]\n",
    "    # 가장 많이 등장한 순위 -> 확정 순위로 선언\n",
    "    win_check[temp_ar.index(sighed_who)] =1\n",
    "    print('index:{}, name:{}'.format(temp_ar.index(sighed_who), sighed_who))\n",
    "    rank_index = temp_ar.index(sighed_who)\n",
    "    while rank_index < len(temp):\n",
    "        \n",
    "    \n",
    "#     def rank(who):\n",
    "#         if temp_ar.index(who) == len(temp):break # 맨끝까지 옴\n",
    "#         elif win_check[temp_ar.index(who)+1] == 1:# 다음 순위가 확정 순위라면\n",
    "#             win_check[temp_ar.index(who)]=1\n",
    "#         if temp_ar.index(who) == 0: break;# 맨처음까지옴\n",
    "#         elif\n",
    "            \n",
    "    print(temp_ar)\n",
    "    return answer"
   ]
  },
  {
   "cell_type": "code",
   "execution_count": 178,
   "metadata": {},
   "outputs": [
    {
     "name": "stdout",
     "output_type": "stream",
     "text": [
      "비었음 4 3\n",
      "temp_ar [4, 3]\n",
      "\n",
      "\n",
      "차있음\n",
      "승자 인덱스 0\n",
      "승자 이름 4\n",
      "temp_ar [4, 2, 3]\n",
      "\n",
      "\n",
      "차있음\n",
      "승자 패자 위치 정렬\n",
      "temp_ar [4, 3, 2]\n",
      "\n",
      "\n",
      "차있음\n",
      "패자만 있는 경우\n",
      "temp_ar [4, 3, 1, 2]\n",
      "\n",
      "\n",
      "차있음\n",
      "승자 인덱스 3\n",
      "승자 이름 2\n",
      "temp_ar [4, 3, 1, 2, 5]\n",
      "\n",
      "\n",
      "index:3, name:2\n",
      "[4, 3, 1, 2, 5]\n"
     ]
    },
    {
     "data": {
      "text/plain": [
       "0"
      ]
     },
     "execution_count": 178,
     "metadata": {},
     "output_type": "execute_result"
    }
   ],
   "source": [
    "solution(5, [[4, 3], [4, 2], [3, 2], [1, 2], [2, 5]])"
   ]
  },
  {
   "cell_type": "code",
   "execution_count": 114,
   "metadata": {},
   "outputs": [],
   "source": [
    "a = [[4, 3], [4, 2], [3, 2], [1, 2], [2, 5]]\n"
   ]
  },
  {
   "cell_type": "code",
   "execution_count": 115,
   "metadata": {},
   "outputs": [],
   "source": [
    "aq = []\n",
    "for j in a:\n",
    "    aq += j"
   ]
  },
  {
   "cell_type": "code",
   "execution_count": 163,
   "metadata": {},
   "outputs": [],
   "source": [
    "sigh_index=list(Counter(aq).values()).index(max(Counter(aq).values()))"
   ]
  },
  {
   "cell_type": "code",
   "execution_count": 165,
   "metadata": {},
   "outputs": [],
   "source": [
    "sighed_who = list(Counter(aq).keys())[sigh_index]"
   ]
  },
  {
   "cell_type": "code",
   "execution_count": 166,
   "metadata": {},
   "outputs": [
    {
     "data": {
      "text/plain": [
       "2"
      ]
     },
     "execution_count": 166,
     "metadata": {},
     "output_type": "execute_result"
    }
   ],
   "source": [
    "sighed_who"
   ]
  },
  {
   "cell_type": "code",
   "execution_count": 180,
   "metadata": {},
   "outputs": [
    {
     "data": {
      "text/plain": [
       "[2, 2, 4, 1, 1]"
      ]
     },
     "execution_count": 180,
     "metadata": {},
     "output_type": "execute_result"
    }
   ],
   "source": [
    "list(Counter(aq).values())"
   ]
  },
  {
   "cell_type": "code",
   "execution_count": null,
   "metadata": {},
   "outputs": [],
   "source": []
  }
 ],
 "metadata": {
  "kernelspec": {
   "display_name": "Python 3",
   "language": "python",
   "name": "python3"
  },
  "language_info": {
   "codemirror_mode": {
    "name": "ipython",
    "version": 3
   },
   "file_extension": ".py",
   "mimetype": "text/x-python",
   "name": "python",
   "nbconvert_exporter": "python",
   "pygments_lexer": "ipython3",
   "version": "3.7.6"
  }
 },
 "nbformat": 4,
 "nbformat_minor": 2
}
