{
 "cells": [
  {
   "cell_type": "code",
   "execution_count": 41,
   "metadata": {},
   "outputs": [],
   "source": [
    "# Q2\n",
    "# 입출력 예\n",
    "# n\tresults\treturn\n",
    "# 5\t[[4, 3], [4, 2], [3, 2], [1, 2], [2, 5]]\t2\n",
    "# 입출력 예 설명\n",
    "# 2번 선수는 [1, 3, 4] 선수에게 패배했고 5번 선수에게 승리했기 때문에 4위입니다.\n",
    "# 5번 선수는 4위인 2번 선수에게 패배했기 때문에 5위입니다.\n",
    "# https://codedrive.tistory.com/190\n",
    "# https://velog.io/@tjdud0123/%EC%88%9C%EC%9C%84-python"
   ]
  },
  {
   "cell_type": "code",
   "execution_count": 22,
   "metadata": {},
   "outputs": [],
   "source": [
    "# hash\n",
    "def solution(n, results):\n",
    "    answer = 0\n",
    "    win = {}\n",
    "    lose ={}\n",
    "    for i in range(1, n+1):\n",
    "        win[i] = set()\n",
    "        lose[i] = set()\n",
    "    results.sort()\n",
    "    for i in range(1, n+1):\n",
    "        for re in results:\n",
    "            if re[0] == i:\n",
    "                win[i].add(re[1])\n",
    "            if re[1] == i:\n",
    "                lose[i].add(re[0])\n",
    "        for j in win[i]:\n",
    "            lose[j].update(lose[i])\n",
    "        for j in lose[i]:\n",
    "            win[j].update(win[i])\n",
    "    for i in range(1, n+1):\n",
    "        if len(win[i]) + len(lose[i]) == n-1:\n",
    "            answer+=1\n",
    "    return answer\n",
    "    "
   ]
  },
  {
   "cell_type": "code",
   "execution_count": 32,
   "metadata": {},
   "outputs": [],
   "source": [
    "from collections import defaultdict\n",
    "\n",
    "def solution(n, results):\n",
    "    answer = 0\n",
    "    wins = defaultdict(set)\n",
    "    loses = defaultdict(set)\n",
    "    for a, b in results:\n",
    "        wins[a].add(b)\n",
    "        loses[b].add(a)\n",
    "        \n",
    "    # defaultdict(<class 'set'>, {4: {2, 3}, 3: {2}, 1: {2}, 2: {5}})\n",
    "    # defaultdict(<class 'set'>, {3: {4}, 2: {1, 3, 4}, 5: {2}})\n",
    "    \n",
    "    for i in range(1, n+1):\n",
    "        for loser in wins[i]:\n",
    "            loses[loser] |= loses[i]# or비트연산\n",
    "        for winner in loses[i]:\n",
    "            wins[winner] |= wins[i]# or비트연산\n",
    "\n",
    "    for i in range(1, n+1):\n",
    "        if len(wins[i]) + len(loses[i]) == n - 1:\n",
    "            answer += 1\n",
    "\n",
    "    return answer\n",
    "# wins\n",
    "# {4: {2, 3, 5}, 3: {2, 5}, 1: {2, 5}, 2: {5}, 5: set()}\n",
    "# loses\n",
    "# {3: {4}, 2: {1, 3, 4}, 5: {1, 2, 3, 4}, 1: set(), 4: set()}"
   ]
  },
  {
   "cell_type": "code",
   "execution_count": 33,
   "metadata": {},
   "outputs": [
    {
     "data": {
      "text/plain": [
       "2"
      ]
     },
     "execution_count": 33,
     "metadata": {},
     "output_type": "execute_result"
    }
   ],
   "source": [
    "solution(5, [[4, 3], [4, 2], [3, 2], [1, 2], [2, 5]])"
   ]
  },
  {
   "cell_type": "code",
   "execution_count": 51,
   "metadata": {},
   "outputs": [],
   "source": [
    "from collections import Counter"
   ]
  },
  {
   "cell_type": "code",
   "execution_count": 86,
   "metadata": {},
   "outputs": [],
   "source": [
    "a = [1,2,1,4,3,2,1,3,1,5,12,1,2,2,2,2,2,2,2,678,678,678,678,678,678,678,678,678,678,678,678]"
   ]
  },
  {
   "cell_type": "code",
   "execution_count": 87,
   "metadata": {},
   "outputs": [],
   "source": [
    "test = list(Counter(a))"
   ]
  },
  {
   "cell_type": "code",
   "execution_count": 88,
   "metadata": {},
   "outputs": [
    {
     "data": {
      "text/plain": [
       "Counter({1: 5, 2: 9, 4: 1, 3: 2, 5: 1, 12: 1, 678: 12})"
      ]
     },
     "execution_count": 88,
     "metadata": {},
     "output_type": "execute_result"
    }
   ],
   "source": [
    "Counter(a)"
   ]
  },
  {
   "cell_type": "code",
   "execution_count": 91,
   "metadata": {},
   "outputs": [
    {
     "name": "stdout",
     "output_type": "stream",
     "text": [
      "가장 많은 갯수를 가진 key의 Counter 내부의 index 번호 6\n"
     ]
    }
   ],
   "source": [
    "test_index = list(Counter(a).values()).index(max(Counter(a).values()))\n",
    "print('가장 많은 갯수를 가진 key의 Counter 내부의 index 번호',test_index)"
   ]
  },
  {
   "cell_type": "code",
   "execution_count": 92,
   "metadata": {},
   "outputs": [
    {
     "name": "stdout",
     "output_type": "stream",
     "text": [
      "가장 많은 갯수를 가진 key 678\n"
     ]
    }
   ],
   "source": [
    "print('가장 많은 갯수를 가진 key',list(Counter(a).keys())[test_index])"
   ]
  },
  {
   "cell_type": "code",
   "execution_count": 78,
   "metadata": {},
   "outputs": [
    {
     "ename": "NameError",
     "evalue": "name 'aq' is not defined",
     "output_type": "error",
     "traceback": [
      "\u001b[0;31m---------------------------------------------------------------------------\u001b[0m",
      "\u001b[0;31mNameError\u001b[0m                                 Traceback (most recent call last)",
      "\u001b[0;32m<ipython-input-78-ea2e68fcdad5>\u001b[0m in \u001b[0;36m<module>\u001b[0;34m\u001b[0m\n\u001b[0;32m----> 1\u001b[0;31m \u001b[0msigh_index\u001b[0m\u001b[0;34m=\u001b[0m\u001b[0mlist\u001b[0m\u001b[0;34m(\u001b[0m\u001b[0mCounter\u001b[0m\u001b[0;34m(\u001b[0m\u001b[0maq\u001b[0m\u001b[0;34m)\u001b[0m\u001b[0;34m.\u001b[0m\u001b[0mvalues\u001b[0m\u001b[0;34m(\u001b[0m\u001b[0;34m)\u001b[0m\u001b[0;34m)\u001b[0m\u001b[0;34m.\u001b[0m\u001b[0mindex\u001b[0m\u001b[0;34m(\u001b[0m\u001b[0mmax\u001b[0m\u001b[0;34m(\u001b[0m\u001b[0mCounter\u001b[0m\u001b[0;34m(\u001b[0m\u001b[0maq\u001b[0m\u001b[0;34m)\u001b[0m\u001b[0;34m.\u001b[0m\u001b[0mvalues\u001b[0m\u001b[0;34m(\u001b[0m\u001b[0;34m)\u001b[0m\u001b[0;34m)\u001b[0m\u001b[0;34m)\u001b[0m\u001b[0;34m\u001b[0m\u001b[0;34m\u001b[0m\u001b[0m\n\u001b[0m",
      "\u001b[0;31mNameError\u001b[0m: name 'aq' is not defined"
     ]
    }
   ],
   "source": [
    "sigh_index=list(Counter(aq).values()).index(max(Counter(aq).values()))"
   ]
  },
  {
   "cell_type": "code",
   "execution_count": 165,
   "metadata": {},
   "outputs": [],
   "source": [
    "sighed_who = list(Counter(aq).keys())[sigh_index]"
   ]
  },
  {
   "cell_type": "code",
   "execution_count": 166,
   "metadata": {},
   "outputs": [
    {
     "data": {
      "text/plain": [
       "2"
      ]
     },
     "execution_count": 166,
     "metadata": {},
     "output_type": "execute_result"
    }
   ],
   "source": [
    "sighed_who"
   ]
  },
  {
   "cell_type": "code",
   "execution_count": 180,
   "metadata": {},
   "outputs": [
    {
     "data": {
      "text/plain": [
       "[2, 2, 4, 1, 1]"
      ]
     },
     "execution_count": 180,
     "metadata": {},
     "output_type": "execute_result"
    }
   ],
   "source": [
    "list(Counter(aq).values())"
   ]
  },
  {
   "cell_type": "code",
   "execution_count": null,
   "metadata": {},
   "outputs": [],
   "source": []
  }
 ],
 "metadata": {
  "kernelspec": {
   "display_name": "Python 3",
   "language": "python",
   "name": "python3"
  },
  "language_info": {
   "codemirror_mode": {
    "name": "ipython",
    "version": 3
   },
   "file_extension": ".py",
   "mimetype": "text/x-python",
   "name": "python",
   "nbconvert_exporter": "python",
   "pygments_lexer": "ipython3",
   "version": "3.7.6"
  }
 },
 "nbformat": 4,
 "nbformat_minor": 2
}
