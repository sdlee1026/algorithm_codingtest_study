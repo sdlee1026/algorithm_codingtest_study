{
 "cells": [
  {
   "cell_type": "code",
   "execution_count": 305,
   "metadata": {},
   "outputs": [],
   "source": [
    "def solution(info, query):\n",
    "    answer = []\n",
    "    q_list,i_list = [],[]\n",
    "    for q_text in query:\n",
    "        temp,temp2 = [],[]\n",
    "        temp += q_text.split(' ')\n",
    "        for t in temp:\n",
    "            if t == 'and':\n",
    "                continue;\n",
    "            else:\n",
    "                temp2.append(t)\n",
    "        q_list.append(temp2)\n",
    "\n",
    "    for i_text in info:\n",
    "        i_list.append(i_text.split(' '))\n",
    "    \n",
    "    answer_hap = [[] for n in range(0,len(query))]\n",
    "    for Q, qry in enumerate(q_list):\n",
    "        for info_list in i_list:\n",
    "            pass_count = 0\n",
    "            for i, imf in enumerate(info_list):\n",
    "                if i-4 ==0:# 점수\n",
    "                    if int(qry[i])>int(imf): \n",
    "                        pass_count+=0\n",
    "                    elif qry[i] == '-':# 쿼리 점수가 -일경우\n",
    "                        pass_count+=1\n",
    "                    else:\n",
    "                        pass_count += 1\n",
    "                else: # 다른 조건\n",
    "                    if qry[i] == imf:# 쿼리와 만족하는 상황\n",
    "                        pass_count+=1\n",
    "                    elif qry[i] == '-':\n",
    "                        pass_count+=1\n",
    "            if pass_count ==5:\n",
    "                answer_hap[Q].append(1)\n",
    "    for i, a in enumerate(answer_hap):\n",
    "        answer.append(answer_hap[i].count(1))\n",
    "    \n",
    "    return answer"
   ]
  },
  {
   "cell_type": "code",
   "execution_count": 306,
   "metadata": {},
   "outputs": [],
   "source": [
    "info = [\"java backend junior pizza 150\",\n",
    "        \"python frontend senior chicken 210\",\n",
    "        \"python frontend senior chicken 150\",\n",
    "        \"cpp backend senior pizza 260\",\n",
    "        \"java backend junior chicken 80\",\n",
    "        \"python backend senior chicken 50\"]\n",
    "query = [\"java and backend and junior and pizza 100\",\n",
    "         \"python and frontend and senior and chicken 200\",\n",
    "         \"cpp and - and senior and pizza 250\",\n",
    "         \"- and backend and senior and - 150\",\n",
    "         \"- and - and - and chicken 100\",\n",
    "         \"- and - and - and - 150\"]\n",
    "\n"
   ]
  },
  {
   "cell_type": "code",
   "execution_count": 52,
   "metadata": {},
   "outputs": [],
   "source": [
    "# pass_info = [[0,0,0,0,0] for n in range(0,len(info))]"
   ]
  },
  {
   "cell_type": "code",
   "execution_count": 307,
   "metadata": {},
   "outputs": [
    {
     "data": {
      "text/plain": [
       "[1, 1, 1, 1, 2, 4]"
      ]
     },
     "execution_count": 307,
     "metadata": {},
     "output_type": "execute_result"
    }
   ],
   "source": [
    "solution(info,query)"
   ]
  },
  {
   "cell_type": "code",
   "execution_count": 149,
   "metadata": {},
   "outputs": [],
   "source": []
  },
  {
   "cell_type": "code",
   "execution_count": 163,
   "metadata": {},
   "outputs": [],
   "source": [
    "# pass_info = [[0,0,0,0,0] for n in range(0,len(info))]\n",
    "# for i, qry in enumerate(q_list):\n",
    "#     for j,q in enumerate(qry):\n",
    "#         if j == 4:\n",
    "#             continue;\n",
    "#             #score\n",
    "#         else:\n",
    "#             if q_list[i][j] == '-':\n",
    "#                 pass_info[i][j] += 1\n",
    "#             elif q_list[i][j]"
   ]
  },
  {
   "cell_type": "code",
   "execution_count": 241,
   "metadata": {},
   "outputs": [],
   "source": [
    "\n"
   ]
  },
  {
   "cell_type": "code",
   "execution_count": 301,
   "metadata": {},
   "outputs": [],
   "source": [
    "answer = []\n",
    "q_list,i_list = [],[]\n",
    "for q_text in query:\n",
    "    temp,temp2 = [],[]\n",
    "    temp += q_text.split(' ')\n",
    "    for t in temp:\n",
    "        if t == 'and':\n",
    "            continue;\n",
    "        else:\n",
    "            temp2.append(t)\n",
    "    q_list.append(temp2)\n",
    "    \n",
    "for i_text in info:\n",
    "    i_list.append(i_text.split(' '))\n",
    "    \n",
    "answer_hap = [[] for n in range(0,len(query))]\n",
    "for Q, qry in enumerate(q_list):\n",
    "    for info_list in i_list:\n",
    "        pass_count = 0\n",
    "        for i, imf in enumerate(info_list):\n",
    "            if i-4 ==0:# 점수\n",
    "                if int(qry[i])>int(imf): \n",
    "                    pass_count+=0\n",
    "                elif qry[i] == '-':# 쿼리 점수가 -일경우\n",
    "                    pass_count+=1\n",
    "                else:\n",
    "                    pass_count += 1\n",
    "            else: # 다른 조건\n",
    "                if qry[i] == imf:# 쿼리와 만족하는 상황\n",
    "                    pass_count+=1\n",
    "                elif qry[i] == '-':\n",
    "                    pass_count+=1\n",
    "        if pass_count ==5:\n",
    "            answer_hap[Q].append(1)\n",
    "for i, a in enumerate(answer_hap):\n",
    "    answer.append(answer_hap[i].count(1))\n",
    "    "
   ]
  },
  {
   "cell_type": "code",
   "execution_count": 303,
   "metadata": {},
   "outputs": [],
   "source": []
  },
  {
   "cell_type": "code",
   "execution_count": 304,
   "metadata": {},
   "outputs": [
    {
     "data": {
      "text/plain": [
       "[1, 1, 1, 1, 2, 4]"
      ]
     },
     "execution_count": 304,
     "metadata": {},
     "output_type": "execute_result"
    }
   ],
   "source": [
    "answer"
   ]
  },
  {
   "cell_type": "code",
   "execution_count": null,
   "metadata": {},
   "outputs": [],
   "source": []
  }
 ],
 "metadata": {
  "kernelspec": {
   "display_name": "Python 3",
   "language": "python",
   "name": "python3"
  },
  "language_info": {
   "codemirror_mode": {
    "name": "ipython",
    "version": 3
   },
   "file_extension": ".py",
   "mimetype": "text/x-python",
   "name": "python",
   "nbconvert_exporter": "python",
   "pygments_lexer": "ipython3",
   "version": "3.7.6"
  }
 },
 "nbformat": 4,
 "nbformat_minor": 2
}
