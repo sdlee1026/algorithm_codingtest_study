{
 "cells": [
  {
   "cell_type": "code",
   "execution_count": 49,
   "metadata": {},
   "outputs": [],
   "source": [
    "# coding test\n",
    "\n",
    "# [[1, 4], [3, 4], [3, 10]] [1, 10]\n",
    "# [[1, 1], [2, 2], [1, 2]] [2, 1]\n"
   ]
  },
  {
   "cell_type": "code",
   "execution_count": 4,
   "metadata": {},
   "outputs": [],
   "source": [
    "v1 = [[1,4], [3,4], [3,10]]\n",
    "v2 = [[1,1], [2,2], [1,2]]"
   ]
  },
  {
   "cell_type": "code",
   "execution_count": 55,
   "metadata": {},
   "outputs": [],
   "source": [
    "def solution(v):\n",
    "    v1, v2 = [], []\n",
    "    for i in v:\n",
    "        if i[0] not in v1:\n",
    "            v1.append(i[0])\n",
    "        else:\n",
    "            v1.remove(i[0])\n",
    "        if i[1] not in v2:\n",
    "            v2.append(i[1])\n",
    "        else:\n",
    "            v2.remove(i[1])\n",
    "    \n",
    "    return v1+v2"
   ]
  },
  {
   "cell_type": "code",
   "execution_count": 56,
   "metadata": {},
   "outputs": [
    {
     "data": {
      "text/plain": [
       "[1, 10]"
      ]
     },
     "execution_count": 56,
     "metadata": {},
     "output_type": "execute_result"
    }
   ],
   "source": [
    "solution(v1)"
   ]
  },
  {
   "cell_type": "code",
   "execution_count": null,
   "metadata": {},
   "outputs": [],
   "source": []
  }
 ],
 "metadata": {
  "kernelspec": {
   "display_name": "Python 3",
   "language": "python",
   "name": "python3"
  },
  "language_info": {
   "codemirror_mode": {
    "name": "ipython",
    "version": 3
   },
   "file_extension": ".py",
   "mimetype": "text/x-python",
   "name": "python",
   "nbconvert_exporter": "python",
   "pygments_lexer": "ipython3",
   "version": "3.7.6"
  }
 },
 "nbformat": 4,
 "nbformat_minor": 2
}
