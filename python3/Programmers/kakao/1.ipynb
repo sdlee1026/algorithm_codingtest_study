{
 "cells": [
  {
   "cell_type": "code",
   "execution_count": 146,
   "metadata": {},
   "outputs": [],
   "source": [
    "# 새로 가입하는 유저들이 카카오 아이디 규칙에 맞지 않는 아이디를 입력했을 때, 입력된 아이디와 유사하면서 규칙에 맞는 아이디를 추천해주는 프로그램을 개발하는 것입니다.\n",
    "# 다음은 카카오 아이디의 규칙입니다.\n",
    "\n",
    "# 아이디의 길이는 3자 이상 15자 이하여야 합니다.\n",
    "# 아이디는 알파벳 소문자, 숫자, 빼기(-), 밑줄(_), 마침표(.) 문자만 사용할 수 있습니다.\n",
    "# 단, 마침표(.)는 처음과 끝에 사용할 없으며 또한 연속으로 사용할 수 없습니다.\n",
    "# 네오는 다음과 같이 7단계의 순차적인 처리 과정을 통해 신규 유저가 입력한 아이디가 카카오 아이디 규칙에 맞는 지 검사하고\n",
    "# 규칙에 맞지 않은 경우 규칙에 맞는 새로운 아이디를 추천해 주려고 합니다.\n",
    "# 신규 유저가 입력한 아이디가 new_id 라고 한다면,\n",
    "\n",
    "#! 1단계 new_id의 모든 대문자를 대응되는 소문자로 치환합니다.\n",
    "#! 2단계 new_id에서 알파벳 소문자, 숫자, 빼기(-), 밑줄(_), 마침표(.)를 제외한 모든 문자를 제거합니다.\n",
    "# 3단계 new_id에서 마침표(.)가 2번 이상 연속된 부분을 하나의 마침표(.)로 치환합니다.\n",
    "#! 4단계 new_id에서 마침표(.)가 처음이나 끝에 위치한다면 제거합니다.\n",
    "#! 5단계 new_id가 빈 문자열이라면, new_id에 \"a\"를 대입합니다.\n",
    "#! 6단계 new_id의 길이가 16자 이상이면, new_id의 첫 15개의 문자를 제외한 나머지 문자들을 모두 제거합니다.\n",
    "#      만약 제거 후 마침표(.)가 new_id의 끝에 위치한다면 끝에 위치한 마침표(.) 문자를 제거합니다.\n",
    "#! 7단계 new_id의 길이가 2자 이하라면, new_id의 마지막 문자를 new_id의 길이가 3이 될 때까지 반복해서 끝에 붙입니다."
   ]
  },
  {
   "cell_type": "code",
   "execution_count": 233,
   "metadata": {},
   "outputs": [
    {
     "name": "stdout",
     "output_type": "stream",
     "text": [
      "123_.def\n"
     ]
    }
   ],
   "source": [
    "import re\n",
    "new_id = '123_.def'\n",
    "#1\n",
    "new_id = new_id.lower()\n",
    "#2\n",
    "for st in new_id:\n",
    "    if st.isdigit():\n",
    "        continue;\n",
    "    else:\n",
    "        if not (ord(st)==45 or ord(st)==95 or ord(st)==46) and not (ord(st)>96 and ord(st)<123):\n",
    "            new_id = new_id.replace(st,'')\n",
    "#3\n",
    "new_id=re.sub('\\.+','.',new_id)\n",
    "#4\n",
    "if new_id[0] == '.':\n",
    "    new_id = new_id.lstrip('.')\n",
    "elif new_id[-1] == '.':\n",
    "    new_id = new_id.rstrip('.')\n",
    "#5\n",
    "if len(new_id)<1:\n",
    "    new_id = 'a'\n",
    "#6\n",
    "if len(new_id)>16:\n",
    "    new_id = new_id[0:15]\n",
    "    new_id = new_id.rstrip('.')\n",
    "#7\n",
    "if len(new_id) < 3:\n",
    "    temp = new_id[-1]\n",
    "    while len(new_id) < 3:\n",
    "        new_id+=temp\n",
    "print(new_id)"
   ]
  },
  {
   "cell_type": "code",
   "execution_count": 218,
   "metadata": {},
   "outputs": [
    {
     "data": {
      "text/plain": [
       "'z-'"
      ]
     },
     "execution_count": 218,
     "metadata": {},
     "output_type": "execute_result"
    }
   ],
   "source": [
    "new_id"
   ]
  },
  {
   "cell_type": "code",
   "execution_count": null,
   "metadata": {},
   "outputs": [],
   "source": [
    "A:65, a :97 z:122\n",
    "            \n",
    "num : 48-57\n",
    "- : 45\n",
    "_ : 95\n",
    ". : 46\n",
    "    "
   ]
  },
  {
   "cell_type": "code",
   "execution_count": 229,
   "metadata": {},
   "outputs": [],
   "source": [
    "test = '.asda.'"
   ]
  },
  {
   "cell_type": "code",
   "execution_count": 215,
   "metadata": {},
   "outputs": [
    {
     "data": {
      "text/plain": [
       "'asda.'"
      ]
     },
     "execution_count": 215,
     "metadata": {},
     "output_type": "execute_result"
    }
   ],
   "source": [
    "test.lstrip('.')"
   ]
  },
  {
   "cell_type": "code",
   "execution_count": 228,
   "metadata": {},
   "outputs": [
    {
     "data": {
      "text/plain": [
       "'.asda'"
      ]
     },
     "execution_count": 228,
     "metadata": {},
     "output_type": "execute_result"
    }
   ],
   "source": [
    "test.rstrip('.')"
   ]
  },
  {
   "cell_type": "code",
   "execution_count": 230,
   "metadata": {},
   "outputs": [
    {
     "data": {
      "text/plain": [
       "'.asda.'"
      ]
     },
     "execution_count": 230,
     "metadata": {},
     "output_type": "execute_result"
    }
   ],
   "source": [
    "test"
   ]
  },
  {
   "cell_type": "code",
   "execution_count": null,
   "metadata": {},
   "outputs": [],
   "source": []
  }
 ],
 "metadata": {
  "kernelspec": {
   "display_name": "Python 3",
   "language": "python",
   "name": "python3"
  },
  "language_info": {
   "codemirror_mode": {
    "name": "ipython",
    "version": 3
   },
   "file_extension": ".py",
   "mimetype": "text/x-python",
   "name": "python",
   "nbconvert_exporter": "python",
   "pygments_lexer": "ipython3",
   "version": "3.7.6"
  }
 },
 "nbformat": 4,
 "nbformat_minor": 2
}
