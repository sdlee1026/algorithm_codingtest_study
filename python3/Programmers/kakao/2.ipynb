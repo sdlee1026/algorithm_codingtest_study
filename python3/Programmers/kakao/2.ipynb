{
 "cells": [
  {
   "cell_type": "code",
   "execution_count": null,
   "metadata": {},
   "outputs": [],
   "source": [
    "# orders\tcourse\tresult\n",
    "# [\"ABCFG\", \"AC\", \"CDE\", \"ACDE\", \"BCFG\", \"ACDEH\"]\t[2,3,4]\t[\"AC\", \"ACDE\", \"BCFG\", \"CDE\"]\n",
    "# [\"ABCDE\", \"AB\", \"CD\", \"ADE\", \"XYZ\", \"XYZ\", \"ACD\"]\t[2,3,5]\t[\"ACD\", \"AD\", \"ADE\", \"CD\", \"XYZ\"]\n",
    "# [\"XYZ\", \"XWY\", \"WXA\"]\t[2,3,4]\t[\"WX\", \"XY\"]"
   ]
  },
  {
   "cell_type": "code",
   "execution_count": 97,
   "metadata": {},
   "outputs": [],
   "source": [
    "from itertools import combinations \n",
    "from collections import defaultdict\n",
    "def solution(orders, course):\n",
    "    for i, text in enumerate(orders):\n",
    "        t = list(text)\n",
    "        t.sort()\n",
    "        t = ''.join(t)\n",
    "        orders[i]=t\n",
    "    list_com = []\n",
    "    \n",
    "    for i in orders:\n",
    "        for j in course:\n",
    "            list_com.append(list(map(''.join, combinations(i, j))))\n",
    "            \n",
    "    counter = defaultdict(int)\n",
    "    for i in list_com:\n",
    "        for j in i:\n",
    "            counter[j]+=1\n",
    "    ary= [[] for num in course]\n",
    "    ary.append([])\n",
    "    for k in range(1,len(course)+1):\n",
    "        for i,j in counter.items():\n",
    "            if i==0 and j==0:\n",
    "                continue;\n",
    "            if k+1==len(i):\n",
    "                ary[k-1].append([i,j])\n",
    "    test = []\n",
    "    answer=set()\n",
    "    for i in range(0,len(ary)-1):\n",
    "        if len(ary[i])<1:\n",
    "            continue;\n",
    "        top = max(ary[i],key= lambda x:x[1])[1]\n",
    "        for j in ary[i]:\n",
    "            if top==j[1] and top>1:\n",
    "                answer.add(j[0])\n",
    "    answer = sorted(list(answer))\n",
    "    return answer"
   ]
  },
  {
   "cell_type": "code",
   "execution_count": null,
   "metadata": {},
   "outputs": [],
   "source": []
  },
  {
   "cell_type": "code",
   "execution_count": 100,
   "metadata": {},
   "outputs": [
    {
     "data": {
      "text/plain": [
       "['WX', 'XY']"
      ]
     },
     "execution_count": 100,
     "metadata": {},
     "output_type": "execute_result"
    }
   ],
   "source": [
    "orders = [\"XYZ\", \"XWY\", \"WXA\"]\n",
    "course = [2,3,4]\n",
    "solution(orders,course)"
   ]
  },
  {
   "cell_type": "code",
   "execution_count": null,
   "metadata": {},
   "outputs": [],
   "source": []
  }
 ],
 "metadata": {
  "language_info": {
   "codemirror_mode": {
    "name": "ipython",
    "version": 3
   },
   "file_extension": ".py",
   "mimetype": "text/x-python",
   "name": "python",
   "nbconvert_exporter": "python",
   "pygments_lexer": "ipython3",
   "version": "3.7.6"
  }
 },
 "nbformat": 4,
 "nbformat_minor": 2
}
