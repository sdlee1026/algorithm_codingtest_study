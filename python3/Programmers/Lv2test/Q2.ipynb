{
 "cells": [
  {
   "cell_type": "code",
   "execution_count": null,
   "metadata": {},
   "outputs": [],
   "source": [
    "\n",
    "# m은 음 1개 이상 1439개 이하로 구성되어 있다.\n",
    "    # 네오가 기억한 멜로디와 악보에 사용되는 음은 \n",
    "    # C, C#, D, D#, E, F, F#, G, G#, A, A#, B \n",
    "    # 12개이다\n",
    "# musicinfos 음악이 시작한 시각, 끝난 시각, 음악 제목, 악보 정보가 ','로 구분된 문자열이다.\n",
    "    # 음악의 시작 시각과 끝난 시각은 24시간 HH:MM 형식이다.\n",
    "    # 음악 제목은 ',' 이외의 출력 가능한 문자로 표현된 길이 1 이상 64 이하의 문자열이다.\n",
    "    # 악보 정보는 음 1개 이상 1439개 이하로 구성되어 있다.\n",
    "\n",
    "    \n",
    "# 조건이 일치하는 음악이 여러 개일 때에는 라디오에서 재생된 시간이 제일 긴 음악 제목을 반환한다. \n",
    "# 재생된 시간도 같을 경우 먼저 입력된 음악 제목을 반환한다.\n",
    "# 조건이 일치하는 음악이 없을 때에는 `(None)`을 반환한다."
   ]
  },
  {
   "cell_type": "code",
   "execution_count": 60,
   "metadata": {},
   "outputs": [],
   "source": [
    "# Q2, 방금그곡\n",
    "def solution(m, musicinfos):\n",
    "    musicList=[]\n",
    "    for music in musicinfos:\n",
    "        musicList.append(music.split(','))\n",
    "    for music in musicList:\n",
    "        print(music[1].split(':')[0], music[0].split(':')[0])\n",
    "        print(music[1].split(':')[1], music[0].split(':')[1])\n",
    "        runtime_H = int(music[1].split(':')[0])-int(music[0].split(':')[0])\n",
    "        runtime_M = int(music[1].split(':')[1])-int(music[0].split(':')[1])\n",
    "        print(runtime_H, runtime_M)\n",
    "        if runtime_M<0:\n",
    "            runtime_H-=1\n",
    "            runtime_M+=60\n",
    "        \n",
    "        \n",
    "        \n",
    "#         music_len = music[1] - music[0]"
   ]
  },
  {
   "cell_type": "code",
   "execution_count": 61,
   "metadata": {},
   "outputs": [
    {
     "name": "stdout",
     "output_type": "stream",
     "text": [
      "12 12\n",
      "14 00\n",
      "0 14\n",
      "13 13\n",
      "05 00\n",
      "0 5\n"
     ]
    }
   ],
   "source": [
    "solution('ABCDEFG', \n",
    "         ['12:00,12:14,HELLO,CDEFGAB', '13:00,13:05,WORLD,ABCDEF'])\n"
   ]
  },
  {
   "cell_type": "code",
   "execution_count": 33,
   "metadata": {},
   "outputs": [
    {
     "data": {
      "text/plain": [
       "['12:00', '12:14', 'HELLO', 'CDEFGAB']"
      ]
     },
     "execution_count": 33,
     "metadata": {},
     "output_type": "execute_result"
    }
   ],
   "source": [
    "'12:00,12:14,HELLO,CDEFGAB'.split(',')"
   ]
  },
  {
   "cell_type": "code",
   "execution_count": 49,
   "metadata": {},
   "outputs": [
    {
     "data": {
      "text/plain": [
       "'00'"
      ]
     },
     "execution_count": 49,
     "metadata": {},
     "output_type": "execute_result"
    }
   ],
   "source": [
    "'12:00'.split(':')[1]"
   ]
  },
  {
   "cell_type": "code",
   "execution_count": 62,
   "metadata": {},
   "outputs": [],
   "source": [
    "def solution(m, musicinfos):\n",
    "    m = m.replace('A#','H');\n",
    "    m = m.replace('C#','I');\n",
    "    m = m.replace('D#','J');\n",
    "    m = m.replace('F#','K');\n",
    "    m = m.replace('G#','L');\n",
    "    answer = ''\n",
    "    result = None\n",
    "    dic = dict()\n",
    "    for info in musicinfos:\n",
    "        start, end, title, sound = info.split(',')\n",
    "        hour1, min1 = start.split(':')\n",
    "        hour2, min2 = end.split(':')\n",
    "        time = (int(hour2)-int(hour1))*60 + int(min2)-int(min1)\n",
    "        sound = sound.replace('A#','H');\n",
    "        sound = sound.replace('C#','I');\n",
    "        sound = sound.replace('D#','J');\n",
    "        sound = sound.replace('F#','K');\n",
    "        sound = sound.replace('G#','L');\n",
    "        sound = sound*(time//len(sound))+sound[0:time%len(sound)]\n",
    "        dic[sound] = title\n",
    "    for song in dic.keys():\n",
    "        if m in song:\n",
    "            if result == None:\n",
    "                result = song\n",
    "            else:\n",
    "                if len(result) < len(song):\n",
    "                    result = song\n",
    "    if result != None:\n",
    "        return dic[result]\n",
    "    else: return \"(None)\""
   ]
  },
  {
   "cell_type": "code",
   "execution_count": 63,
   "metadata": {},
   "outputs": [
    {
     "data": {
      "text/plain": [
       "'HELLO'"
      ]
     },
     "execution_count": 63,
     "metadata": {},
     "output_type": "execute_result"
    }
   ],
   "source": [
    "solution('ABCDEFG', \n",
    "         ['12:00,12:14,HELLO,CDEFGAB', '13:00,13:05,WORLD,ABCDEF'])"
   ]
  },
  {
   "cell_type": "code",
   "execution_count": null,
   "metadata": {},
   "outputs": [],
   "source": []
  }
 ],
 "metadata": {
  "kernelspec": {
   "display_name": "Python 3",
   "language": "python",
   "name": "python3"
  },
  "language_info": {
   "codemirror_mode": {
    "name": "ipython",
    "version": 3
   },
   "file_extension": ".py",
   "mimetype": "text/x-python",
   "name": "python",
   "nbconvert_exporter": "python",
   "pygments_lexer": "ipython3",
   "version": "3.7.6"
  }
 },
 "nbformat": 4,
 "nbformat_minor": 2
}
