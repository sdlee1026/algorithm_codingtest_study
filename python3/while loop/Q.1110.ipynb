{
 "cells": [
  {
   "cell_type": "code",
   "execution_count": 2,
   "metadata": {},
   "outputs": [
    {
     "name": "stdout",
     "output_type": "stream",
     "text": [
      "1\n",
      "60\n"
     ]
    }
   ],
   "source": [
    "# Q.1110\n",
    "N = int(input())\n",
    "count =0\n",
    "N_point = N\n",
    "\n",
    "while True:\n",
    "    tokstr = []\n",
    "    tokstr.append(N//10)\n",
    "    tokstr.append(N%10)\n",
    "    sum_N = tokstr[0]+tokstr[1]\n",
    "    N = tokstr[1]*10 + sum_N%10\n",
    "    count +=1\n",
    "    if N_point == N:\n",
    "        print(count)\n",
    "        break;"
   ]
  },
  {
   "cell_type": "code",
   "execution_count": null,
   "metadata": {},
   "outputs": [],
   "source": []
  }
 ],
 "metadata": {
  "kernelspec": {
   "display_name": "Python 3",
   "language": "python",
   "name": "python3"
  },
  "language_info": {
   "codemirror_mode": {
    "name": "ipython",
    "version": 3
   },
   "file_extension": ".py",
   "mimetype": "text/x-python",
   "name": "python",
   "nbconvert_exporter": "python",
   "pygments_lexer": "ipython3",
   "version": "3.7.6"
  }
 },
 "nbformat": 4,
 "nbformat_minor": 4
}
