{
 "cells": [
  {
   "cell_type": "code",
   "execution_count": 26,
   "metadata": {},
   "outputs": [
    {
     "name": "stdout",
     "output_type": "stream",
     "text": [
      "7 5 4\n"
     ]
    }
   ],
   "source": [
    "# Q.2875\n",
    "female, male, join_num = map(int, input().split())\n",
    "# female 2, male 1 < team\n",
    "    # intern > need 2 people _join_num\n",
    "    \n",
    "# 먼저 팀의 구성 여2, 남1 의 경우를 최대한으로 구함\n",
    "    # 잉여인원의 경우를 인턴으로 밈\n",
    "    # 인턴인원이 부족한 경우, 팀 하나를 쪼개고 여2 남1 비율로 인턴으로 보냄"
   ]
  },
  {
   "cell_type": "code",
   "execution_count": 27,
   "metadata": {},
   "outputs": [
    {
     "name": "stdout",
     "output_type": "stream",
     "text": [
      "2\n"
     ]
    }
   ],
   "source": [
    "can_intern = 0\n",
    "fe_able = female//2\n",
    "ma_able = male\n",
    "make_team = min(fe_able, ma_able)\n",
    "can_intern += female - (make_team*2) + male - (make_team)\n",
    "        \n",
    "while True:\n",
    "    if join_num > can_intern:\n",
    "        make_team -= 1\n",
    "        can_intern += 3\n",
    "    else:\n",
    "        print(make_team)\n",
    "        break;\n"
   ]
  },
  {
   "cell_type": "code",
   "execution_count": 28,
   "metadata": {},
   "outputs": [
    {
     "name": "stdout",
     "output_type": "stream",
     "text": [
      "7 5 4\n",
      "2\n"
     ]
    }
   ],
   "source": [
    "a,b,c=map(int,input().split())\n",
    "print(min(a//2,b,(a+b-c)//3))"
   ]
  },
  {
   "cell_type": "code",
   "execution_count": null,
   "metadata": {},
   "outputs": [],
   "source": []
  }
 ],
 "metadata": {
  "kernelspec": {
   "display_name": "Python 3",
   "language": "python",
   "name": "python3"
  },
  "language_info": {
   "codemirror_mode": {
    "name": "ipython",
    "version": 3
   },
   "file_extension": ".py",
   "mimetype": "text/x-python",
   "name": "python",
   "nbconvert_exporter": "python",
   "pygments_lexer": "ipython3",
   "version": "3.7.6"
  }
 },
 "nbformat": 4,
 "nbformat_minor": 2
}
