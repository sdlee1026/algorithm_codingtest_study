{
 "cells": [
  {
   "cell_type": "code",
   "execution_count": 1,
   "metadata": {},
   "outputs": [],
   "source": [
    "# Q.1946\n",
    "# 1차 서류\n",
    "# 2차 면접\n",
    "# 선발자 : 다른 모든 지원자와 비교, 1차, 2차 점수 모두 같거나 높아야함\n",
    "# 회사가 선발 할 수 있는 최대 인원\n"
   ]
  },
  {
   "cell_type": "code",
   "execution_count": 12,
   "metadata": {},
   "outputs": [
    {
     "name": "stdout",
     "output_type": "stream",
     "text": [
      "1\n",
      "7\n",
      "3 6\n",
      "7 3\n",
      "4 2\n",
      "1 4\n",
      "5 7\n",
      "2 5\n",
      "6 1\n",
      "2\n"
     ]
    }
   ],
   "source": [
    "# 고수준\n",
    "T = int(input())\n",
    "N = int(input())\n",
    "for _ in range(T):\n",
    "    case = []\n",
    "    count = 0\n",
    "    for _ in range(N):\n",
    "        case.append(list(map(int, input().split())))\n",
    "    max_score_1 = max(case, key=lambda x:x[0])\n",
    "    max_score_2 = max(case, key=lambda x:x[1])\n",
    "    \n",
    "    for num_1, num_2 in case:\n",
    "        if num_1 <= max_score_1[0] and \n",
    "    print(count)\n",
    "    \n",
    "    "
   ]
  },
  {
   "cell_type": "code",
   "execution_count": null,
   "metadata": {},
   "outputs": [],
   "source": [
    "# 저수준\n",
    "import sys\n",
    "T = int(sys.stdin.readline())\n",
    "N = int(sys.stdin.readline())\n",
    "for _ in range(T):\n",
    "    case = []\n",
    "    for _ in range(N): \n",
    "        case.append(list(map(int, sys.stdin.readline().split())))"
   ]
  },
  {
   "cell_type": "code",
   "execution_count": 7,
   "metadata": {},
   "outputs": [
    {
     "data": {
      "text/plain": [
       "[[3, 2]]"
      ]
     },
     "execution_count": 7,
     "metadata": {},
     "output_type": "execute_result"
    }
   ],
   "source": [
    "case"
   ]
  },
  {
   "cell_type": "code",
   "execution_count": null,
   "metadata": {},
   "outputs": [],
   "source": []
  }
 ],
 "metadata": {
  "kernelspec": {
   "display_name": "Python 3",
   "language": "python",
   "name": "python3"
  },
  "language_info": {
   "codemirror_mode": {
    "name": "ipython",
    "version": 3
   },
   "file_extension": ".py",
   "mimetype": "text/x-python",
   "name": "python",
   "nbconvert_exporter": "python",
   "pygments_lexer": "ipython3",
   "version": "3.7.6"
  }
 },
 "nbformat": 4,
 "nbformat_minor": 2
}
