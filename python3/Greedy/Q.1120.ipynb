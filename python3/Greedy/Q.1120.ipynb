{
 "cells": [
  {
   "cell_type": "code",
   "execution_count": 96,
   "metadata": {},
   "outputs": [
    {
     "name": "stdout",
     "output_type": "stream",
     "text": [
      "min minji\n",
      "0\n"
     ]
    }
   ],
   "source": [
    "# Q.1120\n",
    "# adaabc aababbc\n",
    "A, B = map(str, input().split())\n",
    "count = 0\n",
    "def index_setting(A,B):\n",
    "    a,tempA,tempB = [],A,B\n",
    "    \n",
    "    while len(tempA) < len(tempB)+1:\n",
    "        count = 0\n",
    "        for i in range(len(tempA)):\n",
    "            if tempA[i] == tempB[i] : count+=1\n",
    "        a.append([tempA,tempB,count])\n",
    "        tempA = '_' + tempA\n",
    "    \n",
    "    tempA,tempB,_=max(a,key=lambda x:x[2])\n",
    "    tempA += '_'*(len(tempB)-len(tempA))\n",
    "    return list(tempA), list(tempB)\n",
    "\n",
    "A, B = index_setting(A,B)\n",
    "\n",
    "for i in range(len(A)):\n",
    "    if A[i] == '_': A[i] = B[i]\n",
    "    elif A[i] != B[i] : count+=1\n",
    "print(count)"
   ]
  },
  {
   "cell_type": "code",
   "execution_count": null,
   "metadata": {},
   "outputs": [],
   "source": []
  }
 ],
 "metadata": {
  "kernelspec": {
   "display_name": "Python 3",
   "language": "python",
   "name": "python3"
  },
  "language_info": {
   "codemirror_mode": {
    "name": "ipython",
    "version": 3
   },
   "file_extension": ".py",
   "mimetype": "text/x-python",
   "name": "python",
   "nbconvert_exporter": "python",
   "pygments_lexer": "ipython3",
   "version": "3.7.6"
  }
 },
 "nbformat": 4,
 "nbformat_minor": 2
}
