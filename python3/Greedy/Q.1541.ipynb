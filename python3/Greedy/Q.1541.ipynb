{
 "cells": [
  {
   "cell_type": "code",
   "execution_count": 67,
   "metadata": {},
   "outputs": [
    {
     "name": "stdout",
     "output_type": "stream",
     "text": [
      "10+45-50+30+10\n",
      "-35\n"
     ]
    }
   ],
   "source": [
    "# Q.1541\n",
    "arr = input().split('-')\n",
    "result = 0\n",
    "for i in arr[0].split('+'):\n",
    "    result += int(i)\n",
    "for i in arr[1:]:\n",
    "    for j in i.split('+'):\n",
    "        result -= int(j)\n",
    "print(result)"
   ]
  },
  {
   "cell_type": "code",
   "execution_count": 66,
   "metadata": {},
   "outputs": [
    {
     "name": "stdout",
     "output_type": "stream",
     "text": [
      "10+45-50+30+10\n",
      "입력된 스트링을 '-' 부호를 기준으로 전부 분리\n",
      "['10+45', '50+30+10']\n",
      "그 후  첫번째'-' 부호를 만나기전엔, 그 전의 벨류들을 항상 합해줌!\n",
      "'+'부호를 기준으로 분리, 각 내용들을 더해서 결과값에 더해줌\n",
      "10\n",
      "45\n",
      "------------------------------\n",
      "그 후, '-' 부호를 기준으로 나눠진 값들은\n",
      "뺄셈을 당하는 수가 되므로 결과값이 작아지길 원하면 이 값들이 커야함\n",
      "== 마이너스 기호를 만났을 때, 다음 마이너스가 없다면 끝까지 모든 수를 더해서 한번에 빼줌\n",
      "50+30+10\n",
      "50\n",
      "30\n",
      "10\n",
      "-35\n"
     ]
    }
   ],
   "source": [
    "# Q.1541\n",
    "arr = input().split('-')\n",
    "result = 0\n",
    "\n",
    "print(\"입력된 스트링을 '-' 부호를 기준으로 전부 분리\")\n",
    "print(arr)\n",
    "print(\"그 후  첫번째'-' 부호를 만나기전엔, 그 전의 벨류들을 항상 합해줌!\")\n",
    "print(\"'+'부호를 기준으로 분리, 각 내용들을 더해서 결과값에 더해줌\")\n",
    "for first_num in arr[0].split('+'):\n",
    "    print(first_num)\n",
    "    result += int(first_num)\n",
    "\n",
    "print('-'*30)\n",
    "print(\"그 후, '-' 부호를 기준으로 나눠진 값들은\")\n",
    "print('뺄셈을 당하는 수가 되므로 결과값이 작아지길 원하면 이 값들이 커야함')\n",
    "print('== 마이너스 기호를 만났을 때, 다음 마이너스가 없다면, 혹은 찾을때까지 끝까지 모든 수를 더해서 한번에 빼줌')\n",
    "\n",
    "for num in arr[1:]:\n",
    "    print(num)\n",
    "    for j in num.split('+'):\n",
    "        print(j)\n",
    "        result -= int(j)\n",
    "print(result)\n",
    "    \n",
    "\n"
   ]
  },
  {
   "cell_type": "code",
   "execution_count": null,
   "metadata": {},
   "outputs": [],
   "source": []
  },
  {
   "cell_type": "code",
   "execution_count": null,
   "metadata": {},
   "outputs": [],
   "source": []
  }
 ],
 "metadata": {
  "kernelspec": {
   "display_name": "Python 3",
   "language": "python",
   "name": "python3"
  },
  "language_info": {
   "codemirror_mode": {
    "name": "ipython",
    "version": 3
   },
   "file_extension": ".py",
   "mimetype": "text/x-python",
   "name": "python",
   "nbconvert_exporter": "python",
   "pygments_lexer": "ipython3",
   "version": "3.7.6"
  }
 },
 "nbformat": 4,
 "nbformat_minor": 2
}
