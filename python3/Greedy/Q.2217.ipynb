{
 "cells": [
  {
   "cell_type": "code",
   "execution_count": null,
   "metadata": {},
   "outputs": [],
   "source": [
    "# test case\n",
    "# 6    3   2\n",
    "# 50   11  10\n",
    "# 1    5   100\n",
    "# 13   4\n",
    "# 40\n",
    "# 33\n",
    "# 33"
   ]
  },
  {
   "cell_type": "code",
   "execution_count": 6,
   "metadata": {},
   "outputs": [
    {
     "name": "stdout",
     "output_type": "stream",
     "text": [
      "6\n",
      "50\n",
      "1\n",
      "13\n",
      "40\n",
      "33\n",
      "33\n",
      "132\n"
     ]
    }
   ],
   "source": [
    "N = int(input()) \n",
    "rope = [] \n",
    "value = [] \n",
    "for _ in range(N): \n",
    "    rope.append(int(input())) \n",
    "rope.sort(reverse=True) \n",
    "for num in range(N): \n",
    "    value.append(rope[num]*(num+1))\n",
    "print(max(value))"
   ]
  },
  {
   "cell_type": "code",
   "execution_count": 7,
   "metadata": {},
   "outputs": [
    {
     "data": {
      "text/plain": [
       "[50, 40, 33, 33, 13, 1]"
      ]
     },
     "execution_count": 7,
     "metadata": {},
     "output_type": "execute_result"
    }
   ],
   "source": [
    "rope"
   ]
  },
  {
   "cell_type": "code",
   "execution_count": 8,
   "metadata": {},
   "outputs": [
    {
     "data": {
      "text/plain": [
       "[50, 80, 99, 132, 65, 6]"
      ]
     },
     "execution_count": 8,
     "metadata": {},
     "output_type": "execute_result"
    }
   ],
   "source": [
    "value"
   ]
  },
  {
   "cell_type": "code",
   "execution_count": null,
   "metadata": {},
   "outputs": [],
   "source": [
    "import sys\n",
    "\n",
    "N = int(sys.stdin.readline())\n",
    "rope, value = [], []\n",
    "for _ in range(N): \n",
    "    rope.append(int(sys.stdin.readline()))\n",
    "rope.sort(reverse=True) \n",
    "for num in range(N): \n",
    "    value.append(rope[num]*(num+1))\n",
    "print(max(value))\n",
    "\n"
   ]
  }
 ],
 "metadata": {
  "kernelspec": {
   "display_name": "Python 3",
   "language": "python",
   "name": "python3"
  },
  "language_info": {
   "codemirror_mode": {
    "name": "ipython",
    "version": 3
   },
   "file_extension": ".py",
   "mimetype": "text/x-python",
   "name": "python",
   "nbconvert_exporter": "python",
   "pygments_lexer": "ipython3",
   "version": "3.7.6"
  }
 },
 "nbformat": 4,
 "nbformat_minor": 2
}
