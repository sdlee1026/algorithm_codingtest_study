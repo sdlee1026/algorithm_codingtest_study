{
 "cells": [
  {
   "cell_type": "code",
   "execution_count": null,
   "metadata": {},
   "outputs": [],
   "source": [
    "# Q.1931\n",
    "import sys\n",
    "\n",
    "def greedy(meeting):\n",
    "    meeting_count = 0\n",
    "    start_time = 0\n",
    "    \n",
    "    for time in meeting:\n",
    "        if time[0]>=start_time:\n",
    "            start_time = time[1]\n",
    "            meeting_count += 1\n",
    "        else: continue;\n",
    "    return meeting_count\n",
    "\n",
    "if __name__ == '__main__':\n",
    "    mCount = int(sys.stdin.readline())\n",
    "    meeting = []\n",
    "    for i in range(mCount):\n",
    "        start, end = map(int, sys.stdin.readline().split())\n",
    "        meeting.append((start, end))\n",
    "    \n",
    "    meeting = sorted(meeting, key = lambda time:time[0])\n",
    "    meeting = sorted(meeting, key = lambda time:time[1])\n",
    "    print(greedy(meeting))\n",
    "    \n"
   ]
  },
  {
   "cell_type": "code",
   "execution_count": 7,
   "metadata": {},
   "outputs": [
    {
     "name": "stdout",
     "output_type": "stream",
     "text": [
      "4\n",
      "1 4\n",
      "3 5\n",
      "5 8\n",
      "5 7\n",
      "2\n"
     ]
    }
   ],
   "source": [
    "import sys\n",
    "\n",
    "def greedy(meeting):\n",
    "    meeting_count = 0\n",
    "    start_time = 0\n",
    "    \n",
    "    for time in meeting:\n",
    "        if time[0]>=start_time:\n",
    "            start_time = time[1]\n",
    "            meeting_count += 1\n",
    "        else: continue;\n",
    "    return meeting_count\n",
    "\n",
    "if __name__ == '__main__':\n",
    "    # mCount = int(sys.stdin.readline())\n",
    "    mCount = int(input())\n",
    "\n",
    "    meeting = sorted([list(map(int, input().split()))for i in range(mCount)], key=lambda x:(x[1],x[0]))\n",
    "    # meeting = []\n",
    "#     for i in range(mCount):\n",
    "#         #start, end = map(int, sys.stdin.readline().split())\n",
    "#         start, end = map(int, input().split())\n",
    "#         meeting.append((start, end))\n",
    "    \n",
    "#     meeting = sorted(meeting, key = lambda a:a[0]) # base를 a[0]\n",
    "#     meeting = sorted(meeting, key = lambda a:a[1]) # 주로 a[1]를 기준\n",
    "    print(greedy(meeting))\n",
    "    \n"
   ]
  },
  {
   "cell_type": "code",
   "execution_count": null,
   "metadata": {},
   "outputs": [],
   "source": [
    "# !jupyter nbconvert --to script [filename].ipynb "
   ]
  },
  {
   "cell_type": "code",
   "execution_count": 8,
   "metadata": {},
   "outputs": [
    {
     "data": {
      "text/plain": [
       "[[1, 4], [3, 5], [5, 7], [5, 8]]"
      ]
     },
     "execution_count": 8,
     "metadata": {},
     "output_type": "execute_result"
    }
   ],
   "source": [
    "meeting"
   ]
  },
  {
   "cell_type": "code",
   "execution_count": 35,
   "metadata": {},
   "outputs": [
    {
     "name": "stdout",
     "output_type": "stream",
     "text": [
      "2 2\n",
      "1 2\n",
      "3 5\n",
      "3 4\n",
      "2 5\n",
      "2 4\n",
      "10 11\n"
     ]
    }
   ],
   "source": [
    "test=[list(map(int, input().split()))for i in range(7)]"
   ]
  },
  {
   "cell_type": "code",
   "execution_count": 36,
   "metadata": {},
   "outputs": [
    {
     "data": {
      "text/plain": [
       "[[2, 2], [1, 2], [3, 5], [3, 4], [2, 5], [2, 4], [10, 11]]"
      ]
     },
     "execution_count": 36,
     "metadata": {},
     "output_type": "execute_result"
    }
   ],
   "source": [
    "test"
   ]
  },
  {
   "cell_type": "code",
   "execution_count": 37,
   "metadata": {},
   "outputs": [
    {
     "data": {
      "text/plain": [
       "[[1, 2], [2, 2], [2, 4], [2, 5], [3, 4], [3, 5], [10, 11]]"
      ]
     },
     "execution_count": 37,
     "metadata": {},
     "output_type": "execute_result"
    }
   ],
   "source": [
    "sorted(test)"
   ]
  },
  {
   "cell_type": "code",
   "execution_count": 38,
   "metadata": {},
   "outputs": [
    {
     "data": {
      "text/plain": [
       "[[1, 2], [2, 2], [2, 5], [2, 4], [3, 5], [3, 4], [10, 11]]"
      ]
     },
     "execution_count": 38,
     "metadata": {},
     "output_type": "execute_result"
    }
   ],
   "source": [
    "sorted(test, key=lambda a:a[0])"
   ]
  },
  {
   "cell_type": "code",
   "execution_count": 39,
   "metadata": {},
   "outputs": [
    {
     "data": {
      "text/plain": [
       "[[2, 2], [1, 2], [3, 4], [2, 4], [3, 5], [2, 5], [10, 11]]"
      ]
     },
     "execution_count": 39,
     "metadata": {},
     "output_type": "execute_result"
    }
   ],
   "source": [
    "sorted(test, key=lambda a:a[1])"
   ]
  },
  {
   "cell_type": "code",
   "execution_count": 43,
   "metadata": {},
   "outputs": [
    {
     "data": {
      "text/plain": [
       "[[1, 2], [2, 2], [2, 4], [3, 4], [2, 5], [3, 5], [10, 11]]"
      ]
     },
     "execution_count": 43,
     "metadata": {},
     "output_type": "execute_result"
    }
   ],
   "source": [
    "sorted(test, key=lambda a:(a[1], a[0]))"
   ]
  },
  {
   "cell_type": "code",
   "execution_count": 44,
   "metadata": {},
   "outputs": [
    {
     "data": {
      "text/plain": [
       "[[1, 2], [2, 2], [2, 4], [2, 5], [3, 4], [3, 5], [10, 11]]"
      ]
     },
     "execution_count": 44,
     "metadata": {},
     "output_type": "execute_result"
    }
   ],
   "source": [
    "sorted(test, key=lambda a:(a[0], a[1]))"
   ]
  },
  {
   "cell_type": "code",
   "execution_count": 40,
   "metadata": {},
   "outputs": [
    {
     "data": {
      "text/plain": [
       "False"
      ]
     },
     "execution_count": 40,
     "metadata": {},
     "output_type": "execute_result"
    }
   ],
   "source": [
    "sorted(test) == sorted(test, key=lambda a:a[1])"
   ]
  },
  {
   "cell_type": "code",
   "execution_count": 41,
   "metadata": {},
   "outputs": [
    {
     "data": {
      "text/plain": [
       "False"
      ]
     },
     "execution_count": 41,
     "metadata": {},
     "output_type": "execute_result"
    }
   ],
   "source": [
    "sorted(test) == sorted(test, key=lambda a:a[0])"
   ]
  },
  {
   "cell_type": "code",
   "execution_count": 42,
   "metadata": {},
   "outputs": [
    {
     "data": {
      "text/plain": [
       "False"
      ]
     },
     "execution_count": 42,
     "metadata": {},
     "output_type": "execute_result"
    }
   ],
   "source": [
    "sorted(test) == sorted(test, key=lambda a:(a[1], a[0]))\n",
    "# 옳게된 경우"
   ]
  },
  {
   "cell_type": "code",
   "execution_count": 45,
   "metadata": {},
   "outputs": [
    {
     "data": {
      "text/plain": [
       "True"
      ]
     },
     "execution_count": 45,
     "metadata": {},
     "output_type": "execute_result"
    }
   ],
   "source": [
    "sorted(test) == sorted(test, key=lambda a:(a[0], a[1]))"
   ]
  },
  {
   "cell_type": "code",
   "execution_count": 48,
   "metadata": {},
   "outputs": [
    {
     "name": "stdout",
     "output_type": "stream",
     "text": [
      "True\n"
     ]
    }
   ],
   "source": [
    "test_00 = sorted(test, key=lambda a:a[0])\n",
    "    # '회의 시작 시간' 기준으로 정렬 한 배열을\n",
    "test_00 = sorted(test_00, key=lambda a:a[1])\n",
    "    # '회의 종료 시간' 기준으로 정렬\n",
    "print(test_00 == sorted(test, key=lambda a:(a[1], a[0])))\n",
    "# 회의 종료시간이 같다면, 회의 시작 시간을 기준으로 한 오름차순 정렬\n"
   ]
  },
  {
   "cell_type": "code",
   "execution_count": null,
   "metadata": {},
   "outputs": [],
   "source": []
  },
  {
   "cell_type": "code",
   "execution_count": null,
   "metadata": {},
   "outputs": [],
   "source": []
  }
 ],
 "metadata": {
  "kernelspec": {
   "display_name": "Python 3",
   "language": "python",
   "name": "python3"
  },
  "language_info": {
   "codemirror_mode": {
    "name": "ipython",
    "version": 3
   },
   "file_extension": ".py",
   "mimetype": "text/x-python",
   "name": "python",
   "nbconvert_exporter": "python",
   "pygments_lexer": "ipython3",
   "version": "3.7.6"
  }
 },
 "nbformat": 4,
 "nbformat_minor": 2
}
