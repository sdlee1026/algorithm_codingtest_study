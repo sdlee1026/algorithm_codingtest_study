{
 "cells": [
  {
   "cell_type": "code",
   "execution_count": null,
   "metadata": {},
   "outputs": [],
   "source": [
    "from itertools import permutations\n",
    "input_num = int(input())\n",
    "sign =input().split()\n",
    "num = list(range(0,10))\n",
    "result = []\n",
    "\n",
    "for c in permutations(num, input_num+1): # nPr\n",
    "                    # n개의 원소를 사용해서 순서를 정하여 r개의 배열로 나타내는 것\n",
    "                    # 각 순열마다 for문 시행\n",
    "                        # input_num+1 < 부등호보다 숫자의 순열이 하나 많아야하므로\n",
    "    flag = True\n",
    "    for i in range(input_num):\n",
    "        if sign[i] == '<':      \n",
    "            # 부등호가 '<'인 경우\n",
    "            if not c[i]<c[i+1]: \n",
    "                # 각 순열의_c = nPr\n",
    "                # 0번째부터 1번째 ~ n번째부터 ~n+1번째 부등호의 True, False 검사\n",
    "                flag = False\n",
    "        \n",
    "        else:\n",
    "            # 부등호가 '>'인 경우\n",
    "            if not c[i]>c[i+1]:\n",
    "                # 0번째부터 1번째 ~ n번째부터 ~n+1번째 부등호의 True, False 검사\n",
    "                flag = False\n",
    "    if flag: # 이번 순열의 경우, 모든 부등호에 대한 검사를 거치고 난 flag가 True일 경우\n",
    "        result.append(c)\n",
    "print(''.join(str(i) for i in result[-1]))\n",
    "print(''.join(str(i) for i in result[0]))"
   ]
  },
  {
   "cell_type": "code",
   "execution_count": null,
   "metadata": {},
   "outputs": [],
   "source": [
    "# 스텍으로도 풀 수 있을까?\n"
   ]
  },
  {
   "cell_type": "code",
   "execution_count": null,
   "metadata": {},
   "outputs": [],
   "source": [
    "for test in permutations([1,2,3],2):\n",
    "    print(test)\n",
    "    # 순열 nPr\n",
    "    # nPr = n!/(n-r)!"
   ]
  },
  {
   "cell_type": "code",
   "execution_count": null,
   "metadata": {},
   "outputs": [],
   "source": [
    "qq = permutations([1,2,3],2)"
   ]
  },
  {
   "cell_type": "code",
   "execution_count": null,
   "metadata": {},
   "outputs": [],
   "source": [
    "for i in qq:\n",
    "    print(i)"
   ]
  },
  {
   "cell_type": "code",
   "execution_count": null,
   "metadata": {},
   "outputs": [],
   "source": [
    "from itertools import combinations, combinations_with_replacement\n",
    "for test in combinations([1,2,3,4],2):\n",
    "    print(test)\n",
    "    # 중복 포함 x 조힙 nCr\n",
    "    # nCr=nPr/r!"
   ]
  },
  {
   "cell_type": "code",
   "execution_count": null,
   "metadata": {},
   "outputs": [],
   "source": [
    "for test in combinations_with_replacement([1,2,3,4],2):\n",
    "    print(test)\n",
    "    # 중복 포함 조합"
   ]
  },
  {
   "cell_type": "code",
   "execution_count": null,
   "metadata": {},
   "outputs": [],
   "source": [
    "len(result)"
   ]
  },
  {
   "cell_type": "code",
   "execution_count": null,
   "metadata": {},
   "outputs": [],
   "source": [
    "import sys\n",
    "import operator\n",
    "from itertools import combinations"
   ]
  },
  {
   "cell_type": "code",
   "execution_count": 12,
   "metadata": {},
   "outputs": [
    {
     "name": "stdout",
     "output_type": "stream",
     "text": [
      "5\n",
      "> < > < <\n",
      "978456\n",
      "103245\n"
     ]
    }
   ],
   "source": [
    "import sys\n",
    "import operator\n",
    "from itertools import permutations\n",
    "input_num = int(input())\n",
    "sign =input().split()\n",
    "num = list(range(0,10))\n",
    "result = []\n",
    "oper = []\n",
    "for s in sign:\n",
    "    if s == '<':\n",
    "        oper.append(operator.lt)\n",
    "    else:\n",
    "        oper.append(operator.gt)\n",
    "for c in permutations(num, input_num+1):\n",
    "    flag = True\n",
    "    for i in range(input_num):\n",
    "        if not oper[i](c[i],c[i+1]):\n",
    "            flag = False\n",
    "    if flag:\n",
    "        result.append(c)\n",
    "        \n",
    "print(''.join([str(i) for i in result[-1]]))\n",
    "print(''.join([str(i) for i in result[0]]))\n",
    "    "
   ]
  },
  {
   "cell_type": "code",
   "execution_count": 8,
   "metadata": {},
   "outputs": [
    {
     "data": {
      "text/plain": [
       "True"
      ]
     },
     "execution_count": 8,
     "metadata": {},
     "output_type": "execute_result"
    }
   ],
   "source": [
    "9> 8> 6< 7>5"
   ]
  },
  {
   "cell_type": "code",
   "execution_count": null,
   "metadata": {},
   "outputs": [],
   "source": []
  },
  {
   "cell_type": "code",
   "execution_count": null,
   "metadata": {},
   "outputs": [],
   "source": []
  }
 ],
 "metadata": {
  "kernelspec": {
   "display_name": "Python 3",
   "language": "python",
   "name": "python3"
  },
  "language_info": {
   "codemirror_mode": {
    "name": "ipython",
    "version": 3
   },
   "file_extension": ".py",
   "mimetype": "text/x-python",
   "name": "python",
   "nbconvert_exporter": "python",
   "pygments_lexer": "ipython3",
   "version": "3.7.6"
  }
 },
 "nbformat": 4,
 "nbformat_minor": 2
}
