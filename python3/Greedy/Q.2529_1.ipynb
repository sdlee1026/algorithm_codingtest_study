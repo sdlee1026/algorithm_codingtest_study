{
 "cells": [
  {
   "cell_type": "code",
   "execution_count": 1,
   "metadata": {},
   "outputs": [],
   "source": [
    "# Q.2529_1"
   ]
  },
  {
   "cell_type": "code",
   "execution_count": 2,
   "metadata": {},
   "outputs": [],
   "source": [
    "def pop_and_tolist(List):\n",
    "    while len(stack)>0:\n",
    "        List.append(str(stack.pop()))\n",
    "    return List"
   ]
  },
  {
   "cell_type": "code",
   "execution_count": 22,
   "metadata": {},
   "outputs": [
    {
     "name": "stdout",
     "output_type": "stream",
     "text": [
      "2\n",
      "> <\n",
      "978\n",
      "102\n"
     ]
    }
   ],
   "source": [
    "# 최대\n",
    "k = int(input())\n",
    "sign = input().split()\n",
    "stack = []\n",
    "maxList, minList = [], []\n",
    "\n",
    "num =9\n",
    "stack.append(num)\n",
    "num-=1\n",
    "# 9 -> 8 -> ... -> 0, 스텍에 들어가는 순서\n",
    "    # 순차적으로 넣을 경우\n",
    "    # pop() 경우 순서 : 0 -1-2...- 9(top)\n",
    "for oper in sign:\n",
    "    if oper == '<': pass\n",
    "    elif oper == '>': pop_and_tolist(maxList) # 스텍pop(), maxList에 저장\n",
    "        # 최대값구할때, '>'인 경우, 8 (>) 9 로 리스트 저장되므로 안됨\n",
    "        # 바로 pop, 스텍 비워줌, 있던 숫자들은 리스트로 저장\n",
    "    stack.append(num) # 새롭게 스택에 적재\n",
    "        # '<'인경우, (올바른 경우) 8 (<) 9 \n",
    "        # 스텍에 적재, num 순회 계속\n",
    "    num-=1\n",
    "\n",
    "pop_and_tolist(maxList)\n",
    "# 부등호 순회가 끝난경우, 스텍 남은 내용 pop() -> pop한 내용들 maxList에 저장\n",
    "\n",
    "num =0\n",
    "stack.append(num)\n",
    "# 0 > 1 .. > 9, 스텍에 들어가는 순서\n",
    "    # 순차 적재 완료후\n",
    "    # pop(): 9 > 8 > 7 ... >0\n",
    "num+=1\n",
    "for oper in sign:\n",
    "    if oper == '>': pass\n",
    "    elif oper == '<': pop_and_tolist(minList)\n",
    "    stack.append(num)\n",
    "    num+=1\n",
    "pop_and_tolist(minList)\n",
    "print(''.join(maxList))\n",
    "print(''.join(minList))"
   ]
  },
  {
   "cell_type": "code",
   "execution_count": 20,
   "metadata": {},
   "outputs": [
    {
     "name": "stdout",
     "output_type": "stream",
     "text": [
      "0 적재\n",
      "1 적재\n",
      "2 적재\n",
      "3 적재\n",
      "4 적재\n",
      "5 적재\n",
      "6 적재\n",
      "7 적재\n",
      "8 적재\n",
      "9 적재\n",
      "[0, 1, 2, 3, 4, 5, 6, 7, 8, 9]\n"
     ]
    }
   ],
   "source": [
    "a = []\n",
    "for i in range(10):\n",
    "    a.append(i)\n",
    "    print(i,'적재')\n",
    "print(a)"
   ]
  },
  {
   "cell_type": "code",
   "execution_count": 16,
   "metadata": {},
   "outputs": [
    {
     "name": "stdout",
     "output_type": "stream",
     "text": [
      "9\n",
      "8\n",
      "7\n",
      "6\n",
      "5\n",
      "4\n",
      "3\n",
      "2\n",
      "1\n",
      "0\n"
     ]
    }
   ],
   "source": [
    "for _ in range(len(a)):\n",
    "    print(a.pop())"
   ]
  },
  {
   "cell_type": "code",
   "execution_count": null,
   "metadata": {},
   "outputs": [],
   "source": [
    "def pop_and_tolist(List):\n",
    "    while len(stack)>0:\n",
    "        List.append(str(stack.pop()))\n",
    "    return List\n",
    "\n",
    "k = int(input())\n",
    "sign = input().split()\n",
    "stack = []\n",
    "maxList, minList = [], []\n",
    "\n",
    "num =9\n",
    "stack.append(num)\n",
    "num-=1\n",
    "for oper in sign:\n",
    "    if oper == '>': pop_and_tolist(maxList)\n",
    "    stack.append(num)\n",
    "    num-=1\n",
    "pop_and_tolist(maxList)\n",
    "\n",
    "num =0\n",
    "stack.append(num)\n",
    "num+=1\n",
    "for oper in sign:\n",
    "    if oper == '<': pop_and_tolist(minList)\n",
    "    stack.append(num)\n",
    "    num+=1\n",
    "pop_and_tolist(minList)\n",
    "\n",
    "print(''.join(maxList))\n",
    "print(''.join(minList))"
   ]
  }
 ],
 "metadata": {
  "kernelspec": {
   "display_name": "Python 3",
   "language": "python",
   "name": "python3"
  },
  "language_info": {
   "codemirror_mode": {
    "name": "ipython",
    "version": 3
   },
   "file_extension": ".py",
   "mimetype": "text/x-python",
   "name": "python",
   "nbconvert_exporter": "python",
   "pygments_lexer": "ipython3",
   "version": "3.7.6"
  }
 },
 "nbformat": 4,
 "nbformat_minor": 2
}
