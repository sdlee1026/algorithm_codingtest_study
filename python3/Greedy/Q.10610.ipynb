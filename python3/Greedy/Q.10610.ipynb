{
 "cells": [
  {
   "cell_type": "code",
   "execution_count": 91,
   "metadata": {},
   "outputs": [
    {
     "name": "stdout",
     "output_type": "stream",
     "text": [
      "30\n",
      "30\n"
     ]
    }
   ],
   "source": [
    "# Q.10610\n",
    "from collections import Counter\n",
    "N = list(input())\n",
    "N.sort(reverse=True)\n",
    "N_str = str(''.join(N))\n",
    "None_zero_str = N_str.replace('0','')\n",
    "if Counter(N_str)['0'] < 1:\n",
    "    print(-1)\n",
    "elif int(None_zero_str)%3 == 0:\n",
    "    print(N_str)\n",
    "else:\n",
    "    print(-1)\n",
    "# 132ms"
   ]
  },
  {
   "cell_type": "code",
   "execution_count": 100,
   "metadata": {},
   "outputs": [
    {
     "name": "stdout",
     "output_type": "stream",
     "text": [
      "23190\n",
      "93210\n"
     ]
    }
   ],
   "source": [
    "N = list(input())\n",
    "N.sort(reverse=True)\n",
    "\n",
    "if '0' not in N:\n",
    "    print(-1)\n",
    "else:\n",
    "    N_int = int(''.join(N))\n",
    "    if (N_int%3)==0:\n",
    "        print(N_int)\n",
    "    else:\n",
    "        print(-1)\n",
    "# 252ms"
   ]
  },
  {
   "cell_type": "code",
   "execution_count": 109,
   "metadata": {},
   "outputs": [
    {
     "name": "stdout",
     "output_type": "stream",
     "text": [
      "1230\n",
      "3210\n"
     ]
    }
   ],
   "source": [
    "N = list(input())\n",
    "N.sort(reverse=True)\n",
    "\n",
    "if '0' not in N:\n",
    "    print(-1)\n",
    "else:\n",
    "    N_int = int(''.join(N))\n",
    "    if (N_int%3)!=0:\n",
    "        print(-1)\n",
    "    else:\n",
    "        print(N_int)\n",
    "# 256ms"
   ]
  },
  {
   "cell_type": "code",
   "execution_count": 108,
   "metadata": {},
   "outputs": [
    {
     "name": "stdout",
     "output_type": "stream",
     "text": [
      "1230\n",
      "3210\n"
     ]
    }
   ],
   "source": [
    "N = list(input())\n",
    "N.sort(reverse=True)\n",
    "N_int = 0\n",
    "if '0' not in N: \n",
    "    print(-1) \n",
    "else: \n",
    "    for i in N:\n",
    "        N_int += int(i)\n",
    "    if (N_int%3) !=0:\n",
    "           print(-1) \n",
    "    else: \n",
    "        print(''.join(N))\n",
    "# 92ms"
   ]
  },
  {
   "cell_type": "code",
   "execution_count": null,
   "metadata": {},
   "outputs": [],
   "source": [
    "# 배수 판별법 : 3의 배수는 각 자리 숫자의 합이 3의 배수인것\n",
    "# https://ko.wikipedia.org/wiki/%EB%B0%B0%EC%88%98_%ED%8C%90%EC%A0%95%EB%B2%95"
   ]
  },
  {
   "cell_type": "code",
   "execution_count": null,
   "metadata": {},
   "outputs": [],
   "source": []
  }
 ],
 "metadata": {
  "kernelspec": {
   "display_name": "Python 3",
   "language": "python",
   "name": "python3"
  },
  "language_info": {
   "codemirror_mode": {
    "name": "ipython",
    "version": 3
   },
   "file_extension": ".py",
   "mimetype": "text/x-python",
   "name": "python",
   "nbconvert_exporter": "python",
   "pygments_lexer": "ipython3",
   "version": "3.7.6"
  }
 },
 "nbformat": 4,
 "nbformat_minor": 2
}
