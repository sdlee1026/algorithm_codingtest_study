{
 "cells": [
  {
   "cell_type": "code",
   "execution_count": 1,
   "metadata": {},
   "outputs": [
    {
     "name": "stdout",
     "output_type": "stream",
     "text": [
      "5\n",
      "5 50 50 70 80 100\n",
      "7 100 95 90 80 70 60 50\n",
      "3 70 90 80\n",
      "3 70 90 81\n",
      "9 100 99 98 97 96 95 94 93 91\n"
     ]
    }
   ],
   "source": [
    "# Q.4344\n",
    "\n",
    "C = int(input())\n",
    "result_ary = []\n",
    "for i in range(C):\n",
    "    mean_score = 0\n",
    "    upper_count = 0\n",
    "    a = list(map(int, input().split()))\n",
    "    \n",
    "    stu_score = a[1:]\n",
    "    \n",
    "    for j in stu_score:\n",
    "        mean_score += j\n",
    "    mean_score /= a[0]\n",
    "    \n",
    "    for j in stu_score:\n",
    "        if mean_score < j:\n",
    "            upper_count +=1\n",
    "    result_ary.append((upper_count / a[0])* 100)"
   ]
  },
  {
   "cell_type": "code",
   "execution_count": 2,
   "metadata": {},
   "outputs": [
    {
     "name": "stdout",
     "output_type": "stream",
     "text": [
      "40.000%\n",
      "57.143%\n",
      "33.333%\n",
      "66.667%\n",
      "55.556%\n"
     ]
    }
   ],
   "source": [
    "for p in result_ary:\n",
    "    print('{:.3f}%'.format(p))"
   ]
  },
  {
   "cell_type": "code",
   "execution_count": null,
   "metadata": {},
   "outputs": [],
   "source": []
  }
 ],
 "metadata": {
  "kernelspec": {
   "display_name": "Python 3",
   "language": "python",
   "name": "python3"
  },
  "language_info": {
   "codemirror_mode": {
    "name": "ipython",
    "version": 3
   },
   "file_extension": ".py",
   "mimetype": "text/x-python",
   "name": "python",
   "nbconvert_exporter": "python",
   "pygments_lexer": "ipython3",
   "version": "3.7.6"
  }
 },
 "nbformat": 4,
 "nbformat_minor": 4
}
