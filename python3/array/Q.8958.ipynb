{
 "cells": [
  {
   "cell_type": "code",
   "execution_count": 7,
   "metadata": {},
   "outputs": [
    {
     "name": "stdout",
     "output_type": "stream",
     "text": [
      "5\n",
      "OOXXOXXOOO\n",
      "OOXXOOXXOO\n",
      "OXOXOXOXOXOXOX\n",
      "OOOOOOOOOO\n",
      "OOOOXOOOOXOOOOX\n"
     ]
    }
   ],
   "source": [
    "# Q.8958\n",
    "\n",
    "N = int(input())\n",
    "input_str_ary = []\n",
    "for i in range(N):\n",
    "    input_str_ary.append(input())"
   ]
  },
  {
   "cell_type": "code",
   "execution_count": 16,
   "metadata": {},
   "outputs": [
    {
     "name": "stdout",
     "output_type": "stream",
     "text": [
      "10\n",
      "9\n",
      "7\n",
      "55\n",
      "30\n"
     ]
    }
   ],
   "source": [
    "continues_count = 0\n",
    "score = 0\n",
    "for i in input_str_ary:\n",
    "    for j in i:\n",
    "        if j == 'O':\n",
    "            continues_count += 1\n",
    "            score += continues_count\n",
    "        else:\n",
    "            continues_count = 0\n",
    "            score += continues_count\n",
    "    print(score)\n",
    "    score = 0\n",
    "    continues_count = 0"
   ]
  },
  {
   "cell_type": "code",
   "execution_count": null,
   "metadata": {},
   "outputs": [],
   "source": []
  }
 ],
 "metadata": {
  "kernelspec": {
   "display_name": "Python 3",
   "language": "python",
   "name": "python3"
  },
  "language_info": {
   "codemirror_mode": {
    "name": "ipython",
    "version": 3
   },
   "file_extension": ".py",
   "mimetype": "text/x-python",
   "name": "python",
   "nbconvert_exporter": "python",
   "pygments_lexer": "ipython3",
   "version": "3.7.6"
  }
 },
 "nbformat": 4,
 "nbformat_minor": 4
}
