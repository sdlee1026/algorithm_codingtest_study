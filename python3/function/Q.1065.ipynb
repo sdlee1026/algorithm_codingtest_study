{
 "cells": [
  {
   "cell_type": "code",
   "execution_count": 2,
   "metadata": {},
   "outputs": [
    {
     "name": "stdout",
     "output_type": "stream",
     "text": [
      "1000\n",
      "144\n"
     ]
    }
   ],
   "source": [
    "# Q.1065\n",
    "N = int(input())\n",
    "resultcount = 0\n",
    "\n",
    "for num in range(1,N+1):\n",
    "    ary = []\n",
    "    ary_1=[]\n",
    "    diff = []\n",
    "    for i in str(num):\n",
    "        ary.append(int(i))\n",
    "        ary_1.append(int(i))\n",
    "    if len(ary)>=2:\n",
    "        ary_1[0:] = ary[1:]\n",
    "        ary_1.append(ary[-1] + (ary[-1] - ary[-2]))\n",
    "    for i in range(len(ary)):\n",
    "        diff.append(ary_1[i]-ary[i])\n",
    "    if max(diff) == min(diff):\n",
    "        resultcount +=1\n",
    "print(resultcount)"
   ]
  },
  {
   "cell_type": "code",
   "execution_count": null,
   "metadata": {},
   "outputs": [],
   "source": []
  }
 ],
 "metadata": {
  "kernelspec": {
   "display_name": "Python 3",
   "language": "python",
   "name": "python3"
  },
  "language_info": {
   "codemirror_mode": {
    "name": "ipython",
    "version": 3
   },
   "file_extension": ".py",
   "mimetype": "text/x-python",
   "name": "python",
   "nbconvert_exporter": "python",
   "pygments_lexer": "ipython3",
   "version": "3.7.6"
  }
 },
 "nbformat": 4,
 "nbformat_minor": 2
}
