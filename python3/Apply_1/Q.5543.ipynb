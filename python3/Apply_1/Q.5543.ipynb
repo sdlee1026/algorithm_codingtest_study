{
 "cells": [
  {
   "cell_type": "code",
   "execution_count": 1,
   "metadata": {},
   "outputs": [
    {
     "name": "stdout",
     "output_type": "stream",
     "text": [
      "800\n",
      "700\n",
      "9000\n",
      "198\n",
      "300\n",
      "848\n"
     ]
    }
   ],
   "source": [
    "# Q.5543\n",
    "\n",
    "prize_array =[]\n",
    "cheap_bur, cheap_dr=0,0\n",
    "\n",
    "for i in range(5):\n",
    "    prize_array.append(int(input()))\n",
    "\n",
    "print(min(prize_array[:3]) + min(prize_array[3:]) - 50)"
   ]
  }
 ],
 "metadata": {
  "kernelspec": {
   "display_name": "Python 3",
   "language": "python",
   "name": "python3"
  },
  "language_info": {
   "codemirror_mode": {
    "name": "ipython",
    "version": 3
   },
   "file_extension": ".py",
   "mimetype": "text/x-python",
   "name": "python",
   "nbconvert_exporter": "python",
   "pygments_lexer": "ipython3",
   "version": "3.7.6"
  }
 },
 "nbformat": 4,
 "nbformat_minor": 4
}
