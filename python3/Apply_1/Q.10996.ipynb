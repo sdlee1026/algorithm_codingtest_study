{
 "cells": [
  {
   "cell_type": "code",
   "execution_count": 39,
   "metadata": {},
   "outputs": [
    {
     "name": "stdout",
     "output_type": "stream",
     "text": [
      "3\n",
      "* *\n",
      " * \n",
      "* *\n",
      " * \n",
      "* *\n",
      " * \n"
     ]
    }
   ],
   "source": [
    "# Q.10996\n",
    "star = int(input())\n",
    "\n",
    "for j in range(star):\n",
    "    q,w='',''\n",
    "    for i in range(1,star+1):\n",
    "        if i%2 == 0:\n",
    "            q+=' '\n",
    "        else:\n",
    "            q+='*'\n",
    "    for i in range(0, star):\n",
    "        if i%2 == 0:\n",
    "            w+=' '\n",
    "        else:\n",
    "            w+='*'\n",
    "    \n",
    "    print(q)\n",
    "    if star==1:\n",
    "            break;\n",
    "    print(w)"
   ]
  },
  {
   "cell_type": "code",
   "execution_count": null,
   "metadata": {},
   "outputs": [],
   "source": []
  }
 ],
 "metadata": {
  "kernelspec": {
   "display_name": "Python 3",
   "language": "python",
   "name": "python3"
  },
  "language_info": {
   "codemirror_mode": {
    "name": "ipython",
    "version": 3
   },
   "file_extension": ".py",
   "mimetype": "text/x-python",
   "name": "python",
   "nbconvert_exporter": "python",
   "pygments_lexer": "ipython3",
   "version": "3.7.6"
  }
 },
 "nbformat": 4,
 "nbformat_minor": 4
}
