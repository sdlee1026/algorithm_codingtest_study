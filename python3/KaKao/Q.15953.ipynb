{
 "cells": [
  {
   "cell_type": "code",
   "execution_count": 1,
   "metadata": {},
   "outputs": [],
   "source": [
    "# Q.15953\n"
   ]
  },
  {
   "cell_type": "code",
   "execution_count": null,
   "metadata": {},
   "outputs": [],
   "source": [
    "import sys\n",
    "input = sys.stdin.readline"
   ]
  },
  {
   "cell_type": "code",
   "execution_count": 63,
   "metadata": {},
   "outputs": [
    {
     "name": "stdout",
     "output_type": "stream",
     "text": [
      "1\n",
      "0 0\n",
      "0\n"
     ]
    }
   ],
   "source": [
    "\n",
    "T = int(input())\n",
    "scoreA,scoreB = [0], [0]\n",
    "sA,sB = [500,300,200,50,30,10],[512,256,128,64,32]\n",
    "for i in range(1,7):\n",
    "    for _ in range(i,i*2):\n",
    "        scoreA.append(sA[i-1])\n",
    "\n",
    "for i in range(1,6):\n",
    "    for _ in range(0, 2**(i-1)):\n",
    "        scoreB.append(sB[i-1])\n",
    "        \n",
    "for i in range(T):\n",
    "    result = 0\n",
    "    a,b = map(int, input().split())\n",
    "    if a>21:\n",
    "        result +=0\n",
    "    else:\n",
    "        result += scoreA[a]\n",
    "    if b>31:\n",
    "        result += 0\n",
    "    else:\n",
    "        result += scoreB[b]\n",
    "    print(result*10000)"
   ]
  },
  {
   "cell_type": "code",
   "execution_count": null,
   "metadata": {},
   "outputs": [],
   "source": []
  },
  {
   "cell_type": "code",
   "execution_count": 31,
   "metadata": {},
   "outputs": [],
   "source": [
    "# scoreA[1:] = 500,300,300,200,200,200,50,50,50,50,30,30,30,30,30,10,10,10,10,10,10\n"
   ]
  },
  {
   "cell_type": "code",
   "execution_count": 58,
   "metadata": {},
   "outputs": [
    {
     "data": {
      "text/plain": [
       "[0,\n",
       " 512,\n",
       " 256,\n",
       " 256,\n",
       " 128,\n",
       " 128,\n",
       " 128,\n",
       " 128,\n",
       " 64,\n",
       " 64,\n",
       " 64,\n",
       " 64,\n",
       " 64,\n",
       " 64,\n",
       " 64,\n",
       " 64,\n",
       " 32,\n",
       " 32,\n",
       " 32,\n",
       " 32,\n",
       " 32,\n",
       " 32,\n",
       " 32,\n",
       " 32,\n",
       " 32,\n",
       " 32,\n",
       " 32,\n",
       " 32,\n",
       " 32,\n",
       " 32,\n",
       " 32,\n",
       " 32]"
      ]
     },
     "execution_count": 58,
     "metadata": {},
     "output_type": "execute_result"
    }
   ],
   "source": [
    "scoreB"
   ]
  },
  {
   "cell_type": "code",
   "execution_count": null,
   "metadata": {},
   "outputs": [],
   "source": []
  }
 ],
 "metadata": {
  "kernelspec": {
   "display_name": "Python 3",
   "language": "python",
   "name": "python3"
  },
  "language_info": {
   "codemirror_mode": {
    "name": "ipython",
    "version": 3
   },
   "file_extension": ".py",
   "mimetype": "text/x-python",
   "name": "python",
   "nbconvert_exporter": "python",
   "pygments_lexer": "ipython3",
   "version": "3.7.6"
  }
 },
 "nbformat": 4,
 "nbformat_minor": 2
}
